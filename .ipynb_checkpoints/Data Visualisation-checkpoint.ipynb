{
 "cells": [
  {
   "cell_type": "markdown",
   "id": "b06f1dc7",
   "metadata": {},
   "source": [
    "# Import Libraries"
   ]
  },
  {
   "cell_type": "code",
   "execution_count": 1,
   "id": "39a565ca",
   "metadata": {},
   "outputs": [],
   "source": [
    "import numpy as np\n",
    "import matplotlib.pyplot as plt\n",
    "import pandas as pd\n",
    "import seaborn as sns\n",
    "import csv\n",
    "from scipy import stats"
   ]
  },
  {
   "cell_type": "markdown",
   "id": "c2395d84",
   "metadata": {},
   "source": [
    "# Import and clean dataset"
   ]
  },
  {
   "cell_type": "code",
   "execution_count": 2,
   "id": "e8f57c5a",
   "metadata": {},
   "outputs": [
    {
     "name": "stdout",
     "output_type": "stream",
     "text": [
      "      model  year  price transmission  mileage fuelType  tax   mpg  engineSize\n",
      "0        A1  2017  12500       Manual    15735   Petrol  150  55.4         1.4\n",
      "1        A6  2016  16500    Automatic    36203   Diesel   20  64.2         2.0\n",
      "2        A1  2016  11000       Manual    29946   Petrol   30  55.4         1.4\n",
      "3        A4  2017  16800    Automatic    25952   Diesel  145  67.3         2.0\n",
      "4        A3  2019  17300       Manual     1998   Petrol  145  49.6         1.0\n",
      "...     ...   ...    ...          ...      ...      ...  ...   ...         ...\n",
      "10663    A3  2020  16999       Manual     4018   Petrol  145  49.6         1.0\n",
      "10664    A3  2020  16999       Manual     1978   Petrol  150  49.6         1.0\n",
      "10665    A3  2020  17199       Manual      609   Petrol  150  49.6         1.0\n",
      "10666    Q3  2017  19499    Automatic     8646   Petrol  150  47.9         1.4\n",
      "10667    Q3  2016  15999       Manual    11855   Petrol  150  47.9         1.4\n",
      "\n",
      "[10668 rows x 9 columns]\n"
     ]
    }
   ],
   "source": [
    "file = open(\"audi.csv\")\n",
    "tester = csv.reader(file)\n",
    "\n",
    "rows = []\n",
    "for row in tester:\n",
    "        rows.append(row)\n",
    "rows.pop(0)\n",
    "\n",
    "test = pd.read_csv(\"audi.csv\", quotechar='\"', skipinitialspace=True)\n",
    "\n",
    "\n",
    "Y = test.price\n",
    "X = test.drop(['price', 'model', 'transmission', 'fuelType'], axis = 1) \n",
    "X = X.head(200)\n",
    "Y = Y.head(200)\n",
    "print(test)"
   ]
  },
  {
   "cell_type": "markdown",
   "id": "fd03256e",
   "metadata": {},
   "source": [
    "# Most selling year of used cars"
   ]
  },
  {
   "cell_type": "code",
   "execution_count": 3,
   "id": "fbbea269",
   "metadata": {},
   "outputs": [
    {
     "data": {
      "text/plain": [
       "ModeResult(mode=array([2019], dtype=int64), count=array([3197]))"
      ]
     },
     "execution_count": 3,
     "metadata": {},
     "output_type": "execute_result"
    }
   ],
   "source": [
    "stats.mode(test.year) #Most sold year"
   ]
  },
  {
   "cell_type": "markdown",
   "id": "a4957106",
   "metadata": {},
   "source": [
    "# Seaborn heatmap to show data relation"
   ]
  },
  {
   "cell_type": "code",
   "execution_count": 4,
   "id": "b8bde7fa",
   "metadata": {},
   "outputs": [
    {
     "ename": "NameError",
     "evalue": "name 'np' is not defined",
     "output_type": "error",
     "traceback": [
      "\u001b[1;31m---------------------------------------------------------------------------\u001b[0m",
      "\u001b[1;31mNameError\u001b[0m                                 Traceback (most recent call last)",
      "Input \u001b[1;32mIn [4]\u001b[0m, in \u001b[0;36m<cell line: 3>\u001b[1;34m()\u001b[0m\n\u001b[0;32m      1\u001b[0m corr \u001b[38;5;241m=\u001b[39m test\u001b[38;5;241m.\u001b[39mcorr()\n\u001b[1;32m----> 3\u001b[0m mask \u001b[38;5;241m=\u001b[39m \u001b[43mnp\u001b[49m\u001b[38;5;241m.\u001b[39mtriu(np\u001b[38;5;241m.\u001b[39mones_like(corr, dtype\u001b[38;5;241m=\u001b[39m\u001b[38;5;28mbool\u001b[39m))\n\u001b[0;32m      4\u001b[0m mask \u001b[38;5;241m=\u001b[39m mask[\u001b[38;5;241m1\u001b[39m:, :\u001b[38;5;241m-\u001b[39m\u001b[38;5;241m1\u001b[39m]\n\u001b[0;32m      5\u001b[0m corr \u001b[38;5;241m=\u001b[39m corr\u001b[38;5;241m.\u001b[39miloc[\u001b[38;5;241m1\u001b[39m:,:\u001b[38;5;241m-\u001b[39m\u001b[38;5;241m1\u001b[39m]\u001b[38;5;241m.\u001b[39mcopy()\n",
      "\u001b[1;31mNameError\u001b[0m: name 'np' is not defined"
     ]
    }
   ],
   "source": [
    "corr = test.corr()\n",
    "\n",
    "mask = np.triu(np.ones_like(corr, dtype=bool))\n",
    "mask = mask[1:, :-1]\n",
    "corr = corr.iloc[1:,:-1].copy()\n",
    "ax1 = sns.heatmap(corr, mask=mask, annot=True, cmap=\"RdYlGn\")"
   ]
  },
  {
   "cell_type": "markdown",
   "id": "62daa363",
   "metadata": {},
   "source": [
    "# Scatter graph showing relation between Price, Mileage and year sold"
   ]
  },
  {
   "cell_type": "code",
   "execution_count": null,
   "id": "e612aced",
   "metadata": {},
   "outputs": [],
   "source": [
    "test.plot(kind = 'scatter', x = 'mileage', y = 'price', c='year', colormap='RdYlGn', sharex=False)\n",
    "plt.xlim(0,160000)\n",
    "plt.xlabel(\"Mileage\")\n",
    "plt.ylabel(\"Selling Price\")"
   ]
  }
 ],
 "metadata": {
  "kernelspec": {
   "display_name": "Python 3 (ipykernel)",
   "language": "python",
   "name": "python3"
  },
  "language_info": {
   "codemirror_mode": {
    "name": "ipython",
    "version": 3
   },
   "file_extension": ".py",
   "mimetype": "text/x-python",
   "name": "python",
   "nbconvert_exporter": "python",
   "pygments_lexer": "ipython3",
   "version": "3.9.12"
  }
 },
 "nbformat": 4,
 "nbformat_minor": 5
}
