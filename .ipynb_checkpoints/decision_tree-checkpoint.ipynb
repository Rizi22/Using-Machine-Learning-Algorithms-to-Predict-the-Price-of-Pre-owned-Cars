{
 "cells": [
  {
   "cell_type": "markdown",
   "id": "bb8d801c",
   "metadata": {},
   "source": [
    "# Imports"
   ]
  },
  {
   "cell_type": "code",
   "execution_count": 177,
   "id": "c080cd73",
   "metadata": {
    "scrolled": true
   },
   "outputs": [],
   "source": [
    "import numpy as np\n",
    "import matplotlib.pyplot as plt\n",
    "import pandas as pd\n",
    "from sklearn.model_selection import train_test_split\n",
    "import csv\n",
    "from sklearn.preprocessing import MinMaxScaler\n",
    "from math import sqrt\n",
    "from sklearn.metrics import mean_squared_error \n",
    "from sklearn.preprocessing import LabelEncoder\n",
    "from sklearn.tree import DecisionTreeRegressor\n",
    "from sklearn.ensemble import RandomForestRegressor\n",
    "from sklearn.metrics import mean_squared_error"
   ]
  },
  {
   "cell_type": "markdown",
   "id": "4a2563ad",
   "metadata": {},
   "source": [
    "# Importing and Splitting data"
   ]
  },
  {
   "cell_type": "code",
   "execution_count": 198,
   "id": "5b750fbb",
   "metadata": {},
   "outputs": [
    {
     "name": "stdout",
     "output_type": "stream",
     "text": [
      "[[ 2017 15735   150    55     1]\n",
      " [ 2016 36203    20    64     2]\n",
      " [ 2016 29946    30    55     1]\n",
      " ...\n",
      " [ 2019  7461   150    37     3]\n",
      " [ 2017 37492   150    34     3]\n",
      " [ 2018 36715   150    35     3]]\n"
     ]
    }
   ],
   "source": [
    "file = pd.read_csv(\"audi.csv\", quotechar='\"', skipinitialspace=True)\n",
    "\n",
    "modelEncoder = LabelEncoder()\n",
    "modelEncoder.fit(file[\"model\"])\n",
    "file[\"model\"] = modelEncoder.transform(file[\"model\"])\n",
    "\n",
    "transmissionEncoder = LabelEncoder()\n",
    "transmissionEncoder.fit(file[\"transmission\"])\n",
    "file[\"transmission\"] = transmissionEncoder.transform(file[\"transmission\"])\n",
    "\n",
    "fuelTypeEncoder = LabelEncoder()\n",
    "fuelTypeEncoder.fit(file[\"fuelType\"])\n",
    "file[\"fuelType\"] = fuelTypeEncoder.transform(file[\"fuelType\"])\n",
    "\n",
    "file = file.head(1000)\n",
    "# X = file.drop(columns = ['price'])\n",
    "# Y = file.price\n",
    "# print(file)\n",
    "\n",
    "# X = file.drop(['price'], axis = 1).to_numpy()\n",
    "Y = file['price'].values.reshape(-1,1)\n",
    "X = file[['year', 'mileage', 'tax', 'mpg', 'engineSize']].to_numpy(dtype = 'int')\n",
    "\n",
    "print(X)\n",
    "X_train, X_test, Y_train, Y_test = train_test_split(X, Y, random_state = 601)"
   ]
  },
  {
   "cell_type": "markdown",
   "id": "477fe827",
   "metadata": {},
   "source": [
    "# Using Scikit-Learn"
   ]
  },
  {
   "cell_type": "code",
   "execution_count": 18,
   "id": "6242c397",
   "metadata": {},
   "outputs": [
    {
     "name": "stdout",
     "output_type": "stream",
     "text": [
      "R Squared:  0.8469942517214841\n"
     ]
    }
   ],
   "source": [
    "myTree = DecisionTreeRegressor(random_state = 601)\n",
    "myTree.fit(X_train, Y_train)\n",
    "print(\"R Squared: \", myTree.score(X_test, Y_test))"
   ]
  },
  {
   "cell_type": "markdown",
   "id": "902ed032",
   "metadata": {},
   "source": [
    "# Visualising Decsion Tree:"
   ]
  },
  {
   "cell_type": "code",
   "execution_count": 181,
   "id": "bad9b0c0",
   "metadata": {},
   "outputs": [
    {
     "ename": "AttributeError",
     "evalue": "'numpy.ndarray' object has no attribute 'columns'",
     "output_type": "error",
     "traceback": [
      "\u001b[1;31m---------------------------------------------------------------------------\u001b[0m",
      "\u001b[1;31mAttributeError\u001b[0m                            Traceback (most recent call last)",
      "Input \u001b[1;32mIn [181]\u001b[0m, in \u001b[0;36m<cell line: 6>\u001b[1;34m()\u001b[0m\n\u001b[0;32m      4\u001b[0m \u001b[38;5;28;01mfrom\u001b[39;00m \u001b[38;5;21;01msklearn\u001b[39;00m\u001b[38;5;21;01m.\u001b[39;00m\u001b[38;5;21;01mtree\u001b[39;00m \u001b[38;5;28;01mimport\u001b[39;00m plot_tree\n\u001b[0;32m      5\u001b[0m plt\u001b[38;5;241m.\u001b[39mfigure(figsize\u001b[38;5;241m=\u001b[39m(\u001b[38;5;241m8\u001b[39m,\u001b[38;5;241m3\u001b[39m), dpi \u001b[38;5;241m=\u001b[39m \u001b[38;5;241m150\u001b[39m)\n\u001b[1;32m----> 6\u001b[0m plot_tree(treeView, feature_names \u001b[38;5;241m=\u001b[39m \u001b[43mX\u001b[49m\u001b[38;5;241;43m.\u001b[39;49m\u001b[43mcolumns\u001b[49m, filled\u001b[38;5;241m=\u001b[39m\u001b[38;5;28;01mTrue\u001b[39;00m)\n",
      "\u001b[1;31mAttributeError\u001b[0m: 'numpy.ndarray' object has no attribute 'columns'"
     ]
    },
    {
     "data": {
      "text/plain": [
       "<Figure size 1200x450 with 0 Axes>"
      ]
     },
     "metadata": {},
     "output_type": "display_data"
    }
   ],
   "source": [
    "treeView = DecisionTreeRegressor(random_state = 601, max_depth = 3)\n",
    "treeView.fit(X_train,Y_train)\n",
    "\n",
    "from sklearn.tree import plot_tree\n",
    "plt.figure(figsize=(8,3), dpi = 150)\n",
    "plot_tree(treeView, feature_names = X.columns, filled=True);"
   ]
  },
  {
   "cell_type": "markdown",
   "id": "3c75b765",
   "metadata": {},
   "source": [
    "# Entropy"
   ]
  },
  {
   "cell_type": "code",
   "execution_count": 6,
   "id": "3b15b2fe",
   "metadata": {},
   "outputs": [],
   "source": [
    "# def calc_total_entropy(train_data, label, class_list):\n",
    "#     total_row = train_data.shape[0]\n",
    "#     total_entr = 0 #l\n",
    "    \n",
    "#     for c in class_list: \n",
    "#         total_class_count = train_data[train_data[label] == c].shape[0] \n",
    "#         total_class_entr = - (total_class_count/total_row)*np.log2(total_class_count/total_row) \n",
    "#         total_entr += total_class_entr \n",
    "    \n",
    "#     return total_entr\n",
    "\n",
    "\n",
    "\n",
    "#  def entropy(self, y):\n",
    "#         entropy = 0\n",
    "#         labels = np.unique(y)\n",
    "#         for label in labels:\n",
    "#             label_examples = y[y == label]\n",
    "#             pl = len(label_examples) / len(y)\n",
    "#             entropy += -pl * np.log2(pl)\n",
    "#         return entropy"
   ]
  },
  {
   "cell_type": "markdown",
   "id": "108c1071",
   "metadata": {},
   "source": [
    "# RMSE"
   ]
  },
  {
   "cell_type": "code",
   "execution_count": 182,
   "id": "bfafe2e3",
   "metadata": {},
   "outputs": [],
   "source": [
    "def rmse(h, y):\n",
    "  return sqrt(mean_squared_error(h, y))"
   ]
  },
  {
   "cell_type": "code",
   "execution_count": 309,
   "id": "6decafd5",
   "metadata": {},
   "outputs": [],
   "source": [
    "class Node():\n",
    "    def __init__(self, feature = None, threshold = None, left = None, right = None, gain = None, value=None):\n",
    "        \n",
    "        self.feature = feature\n",
    "        self.threshold = threshold\n",
    "        self.left = left\n",
    "        self.right = right\n",
    "        \n",
    "        self.gain = gain\n",
    "\n",
    "        self.value = value #leaf"
   ]
  },
  {
   "cell_type": "code",
   "execution_count": 331,
   "id": "15bb8b16",
   "metadata": {},
   "outputs": [],
   "source": [
    "class DTRegressor():\n",
    "    def __init__(self, minSamples = 2, maxDepth = 2):\n",
    "        self.root = None\n",
    "        self.minSamples = minSamples\n",
    "        self.maxDepth = maxDepth\n",
    "        \n",
    "    def entropy(self, y): #need to change method\n",
    "        entropy = 0\n",
    "        \n",
    "        labels = np.unique(y)\n",
    "        # loop over each unique value\n",
    "        for label in labels:\n",
    "            # find elements in y that are equal to that label\n",
    "            label_examples = y[y == label]\n",
    "            # get ratio of the label\n",
    "            pl = len(label_examples) / len(y)\n",
    "            # calculate entropy\n",
    "            entropy += -pl * np.log2(pl)\n",
    "        return entropy\n",
    "        \n",
    "    def infoGain(self, parent, leftNode, rightNode): #need to checkkk\n",
    "#         print(\"HERE 5\")\n",
    "        leftWeight = len(leftNode) / len(parent)\n",
    "        rightWeight = len(rightNode) / len(parent)\n",
    "        \n",
    "        information_gain = np.var(parent) - (leftWeight * np.var(leftNode) + rightWeight * np.var(rightNode))\n",
    "\n",
    "\n",
    "#         parent_entropy = self.entropy(parent)\n",
    "#         entropy_left, entropy_right = self.entropy(leftNode), self.entropy(rightNode)\n",
    "#         # calculate weighted entropy \n",
    "#         weighted_entropy = leftWeight * entropy_left + rightWeight * entropy_right\n",
    "#         # calculate information gain \n",
    "#         information_gain = parent_entropy - weighted_entropy\n",
    "# #         print(information_gain)\n",
    "        return information_gain\n",
    "        \n",
    "    def splitTree(self, dataset, feature, threshold):\n",
    "#         print(\"HERE 4\")\n",
    "        leftBranch = []\n",
    "        rightBranch = []\n",
    "        for i in dataset:\n",
    "            if i[feature] <= threshold:\n",
    "                leftBranch.append(i)\n",
    "            else:\n",
    "                rightBranch.append(i)\n",
    "        rightBranch = np.array(rightBranch)\n",
    "        leftBranch = np.array(leftBranch)\n",
    "        return leftBranch, rightBranch\n",
    "        \n",
    "    def bestSplit(self, dataset, X):\n",
    "#         print(\"HERE 3\")\n",
    "        bestSplitt = {} \n",
    "        maxGain = -1\n",
    "        for feature in range(X.shape[1]): #feature_index = i\n",
    "            featureValues = dataset[:, feature] #current feature selected\n",
    "            thresholds = np.unique(featureValues)\n",
    "            for j in thresholds: #threshold = j\n",
    "                # get current split\n",
    "                leftSide, rightSide = self.splitTree(dataset, feature, j) #splits tree into 2 branches\n",
    "                if (len(leftSide) > 0 and len(rightSide) > 0 ):\n",
    "                    parent = dataset[:, -1]\n",
    "                    leftNode = leftSide[:, -1]\n",
    "                    rightNode = rightSide[:, -1]\n",
    "\n",
    "                    currentGain = self.infoGain(parent, leftNode, rightNode) \n",
    "                    if currentGain > maxGain:\n",
    "                        \n",
    "                        bestSplitt[\"feature\"] = feature\n",
    "                        bestSplitt[\"thresholds\"] = j\n",
    "                        bestSplitt[\"leftSide\"] = leftSide\n",
    "                        bestSplitt[\"rightSide\"] = rightSide\n",
    "                        bestSplitt[\"gain\"] = currentGain\n",
    "                        maxGain = currentGain\n",
    "                \n",
    "        return bestSplitt\n",
    "   \n",
    "        \n",
    "    def treeBuild(self, dataset, currentDepth = 0):\n",
    "#         print(\"HERE 2\")\n",
    "        X = dataset[:,:-1]\n",
    "        Y = dataset[:,-1] #Split training into features and labels\n",
    "        samplesNumb = X.shape[0]\n",
    "        featuresNumb = X.shape[1]\n",
    "        \n",
    "        #iterates until this condition is met\n",
    "        if X.shape[0] >= self.minSamples and currentDepth <= self.maxDepth:\n",
    "#             bestSplit = self.bestSplit(dataset, samplesNumb, featuresNumb)\n",
    "            bestSplit = self.bestSplit(dataset, X)\n",
    "            \n",
    "            if bestSplit[\"gain\"] > 0:\n",
    "                leftTree = self.treeBuild(bestSplit[\"leftSide\"], currentDepth + 1)\n",
    "                rightTree = self.treeBuild(bestSplit[\"rightSide\"], currentDepth + 1)\n",
    "                decision = Node(bestSplit[\"feature\"], bestSplit[\"thresholds\"], leftTree, rightTree, bestSplit[\"gain\"])\n",
    "                \n",
    "                return decision\n",
    "            \n",
    "        leafValue = np.mean(Y) #calculates mean of leaf nodes\n",
    "        val = Node(value = leafValue)\n",
    "        return val\n",
    "    \n",
    "    def predictionLoop(self, testRow, root):\n",
    "        if root.value != None: #not empty\n",
    "            return root.value\n",
    "        \n",
    "        featureVal = testRow[root.feature]\n",
    "        print(featureVal)\n",
    "        if featureVal <= root.threshold:\n",
    "            return self.predictionLoop(testRow, root.left)\n",
    "        else:\n",
    "            return self.predictionLoop(testRow, root.right)\n",
    "        \n",
    "   \n",
    "    def predict(self, xTest):\n",
    "        predictions = []\n",
    "        for row in xTest:\n",
    "#             print(row)\n",
    "            predictions.append(self.predictionLoop(row, self.root)) \n",
    "        return predictions\n",
    "\n",
    "        \n",
    "        \n",
    "    def fit(self, X, Y):\n",
    "#         print(\"HERE 1\")\n",
    "        dataset = np.concatenate((X, Y), axis=1) #Joins training data back together\n",
    "        self.root = self.treeBuild(dataset)"
   ]
  },
  {
   "cell_type": "code",
   "execution_count": 330,
   "id": "49489249",
   "metadata": {},
   "outputs": [
    {
     "name": "stdout",
     "output_type": "stream",
     "text": [
      "29.4\n",
      "4.0\n",
      "29.4\n",
      "2016\n",
      "[39326.666666666664]\n"
     ]
    }
   ],
   "source": [
    "myTree = DTRegressor(3, 3)  \n",
    "myTree.fit(X_train, Y_train) #trains the model using the training set\n",
    "\n",
    "\n",
    "testy = [[2016,49050,325,29.4,4.0]] # using this for prediction £44985\n",
    "print(myTree.predict(testy)) "
   ]
  },
  {
   "cell_type": "code",
   "execution_count": 193,
   "id": "a20b5970",
   "metadata": {
    "scrolled": true
   },
   "outputs": [
    {
     "name": "stdout",
     "output_type": "stream",
     "text": [
      "[43814245.71274468]\n"
     ]
    }
   ],
   "source": []
  },
  {
   "cell_type": "code",
   "execution_count": 167,
   "id": "83a3a457",
   "metadata": {},
   "outputs": [],
   "source": [
    "def evaluation(train, test, yTrain, yTest):    \n",
    "    y_pred = myTree.predict(X_test)\n",
    "    error = rmse(yTest, y_pred) \n",
    "    print('RMSE value for k is:', error)\n",
    "    for i in range(len(y_pred)):\n",
    "        print(\"\\nOriginal value:\", yTest[i], \"vs the predicted value:\", y_pred[i])\n",
    "        print(\"The difference is:\", yTest[i] - y_pred[i])"
   ]
  }
 ],
 "metadata": {
  "kernelspec": {
   "display_name": "Python 3 (ipykernel)",
   "language": "python",
   "name": "python3"
  },
  "language_info": {
   "codemirror_mode": {
    "name": "ipython",
    "version": 3
   },
   "file_extension": ".py",
   "mimetype": "text/x-python",
   "name": "python",
   "nbconvert_exporter": "python",
   "pygments_lexer": "ipython3",
   "version": "3.9.12"
  }
 },
 "nbformat": 4,
 "nbformat_minor": 5
}
