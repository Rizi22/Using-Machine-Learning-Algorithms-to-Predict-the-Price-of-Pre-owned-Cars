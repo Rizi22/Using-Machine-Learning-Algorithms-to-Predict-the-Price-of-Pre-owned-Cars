{
 "cells": [
  {
   "cell_type": "markdown",
   "id": "bb8d801c",
   "metadata": {},
   "source": [
    "# Imports"
   ]
  },
  {
   "cell_type": "code",
   "execution_count": 1,
   "id": "c080cd73",
   "metadata": {
    "scrolled": true
   },
   "outputs": [],
   "source": [
    "import numpy as np\n",
    "import matplotlib.pyplot as plt\n",
    "import pandas as pd\n",
    "from sklearn.model_selection import train_test_split\n",
    "import csv\n",
    "from sklearn.preprocessing import MinMaxScaler\n",
    "from math import sqrt\n",
    "from sklearn.metrics import mean_squared_error \n",
    "from sklearn.preprocessing import LabelEncoder\n",
    "from sklearn.tree import DecisionTreeRegressor\n",
    "from sklearn.ensemble import RandomForestRegressor\n",
    "from sklearn.metrics import mean_squared_error"
   ]
  },
  {
   "cell_type": "markdown",
   "id": "4a2563ad",
   "metadata": {},
   "source": [
    "# Importing and Splitting data"
   ]
  },
  {
   "cell_type": "code",
   "execution_count": 16,
   "id": "5b750fbb",
   "metadata": {},
   "outputs": [
    {
     "name": "stdout",
     "output_type": "stream",
     "text": [
      "[[2.0170e+03 1.5735e+04 1.5000e+02 5.5400e+01 1.4000e+00]\n",
      " [2.0160e+03 3.6203e+04 2.0000e+01 6.4200e+01 2.0000e+00]\n",
      " [2.0160e+03 2.9946e+04 3.0000e+01 5.5400e+01 1.4000e+00]\n",
      " ...\n",
      " [2.0190e+03 7.4610e+03 1.5000e+02 3.7700e+01 3.0000e+00]\n",
      " [2.0170e+03 3.7492e+04 1.5000e+02 3.4000e+01 3.0000e+00]\n",
      " [2.0180e+03 3.6715e+04 1.5000e+02 3.5300e+01 3.0000e+00]]\n"
     ]
    }
   ],
   "source": [
    "file = pd.read_csv(\"audi.csv\", quotechar='\"', skipinitialspace=True)\n",
    "\n",
    "modelEncoder = LabelEncoder()\n",
    "modelEncoder.fit(file[\"model\"])\n",
    "file[\"model\"] = modelEncoder.transform(file[\"model\"])\n",
    "\n",
    "transmissionEncoder = LabelEncoder()\n",
    "transmissionEncoder.fit(file[\"transmission\"])\n",
    "file[\"transmission\"] = transmissionEncoder.transform(file[\"transmission\"])\n",
    "\n",
    "fuelTypeEncoder = LabelEncoder()\n",
    "fuelTypeEncoder.fit(file[\"fuelType\"])\n",
    "file[\"fuelType\"] = fuelTypeEncoder.transform(file[\"fuelType\"])\n",
    "\n",
    "file = file.head(1000)\n",
    "# X = file.drop(columns = ['price'])\n",
    "# Y = file.price\n",
    "# print(file)\n",
    "\n",
    "# X = file.drop(['price'], axis = 1).to_numpy(dtype = 'int')\n",
    "Y = file['price'].values.reshape(-1,1)\n",
    "X = file[['year', 'mileage', 'tax', 'mpg', 'engineSize']].to_numpy() #dtype = 'int'\n",
    "\n",
    "print(X)\n",
    "X_train, X_test, Y_train, Y_test = train_test_split(X, Y, random_state = 601)"
   ]
  },
  {
   "cell_type": "markdown",
   "id": "477fe827",
   "metadata": {},
   "source": [
    "# Using Scikit-Learn"
   ]
  },
  {
   "cell_type": "code",
   "execution_count": 3,
   "id": "6242c397",
   "metadata": {},
   "outputs": [
    {
     "name": "stdout",
     "output_type": "stream",
     "text": [
      "R Squared:  0.6213703125742205\n"
     ]
    }
   ],
   "source": [
    "myTree = DecisionTreeRegressor(random_state = 601)\n",
    "myTree.fit(X_train, Y_train)\n",
    "print(\"R Squared: \", myTree.score(X_test, Y_test))"
   ]
  },
  {
   "cell_type": "markdown",
   "id": "902ed032",
   "metadata": {},
   "source": [
    "# Visualising Decsion Tree:"
   ]
  },
  {
   "cell_type": "code",
   "execution_count": 17,
   "id": "bad9b0c0",
   "metadata": {},
   "outputs": [
    {
     "ename": "AttributeError",
     "evalue": "'numpy.ndarray' object has no attribute 'columns'",
     "output_type": "error",
     "traceback": [
      "\u001b[1;31m---------------------------------------------------------------------------\u001b[0m",
      "\u001b[1;31mAttributeError\u001b[0m                            Traceback (most recent call last)",
      "Input \u001b[1;32mIn [17]\u001b[0m, in \u001b[0;36m<cell line: 6>\u001b[1;34m()\u001b[0m\n\u001b[0;32m      4\u001b[0m \u001b[38;5;28;01mfrom\u001b[39;00m \u001b[38;5;21;01msklearn\u001b[39;00m\u001b[38;5;21;01m.\u001b[39;00m\u001b[38;5;21;01mtree\u001b[39;00m \u001b[38;5;28;01mimport\u001b[39;00m plot_tree\n\u001b[0;32m      5\u001b[0m plt\u001b[38;5;241m.\u001b[39mfigure(figsize\u001b[38;5;241m=\u001b[39m(\u001b[38;5;241m8\u001b[39m,\u001b[38;5;241m3\u001b[39m), dpi \u001b[38;5;241m=\u001b[39m \u001b[38;5;241m150\u001b[39m)\n\u001b[1;32m----> 6\u001b[0m plot_tree(treeView, feature_names \u001b[38;5;241m=\u001b[39m \u001b[43mX\u001b[49m\u001b[38;5;241;43m.\u001b[39;49m\u001b[43mcolumns\u001b[49m, filled\u001b[38;5;241m=\u001b[39m\u001b[38;5;28;01mTrue\u001b[39;00m)\n",
      "\u001b[1;31mAttributeError\u001b[0m: 'numpy.ndarray' object has no attribute 'columns'"
     ]
    },
    {
     "data": {
      "text/plain": [
       "<Figure size 1200x450 with 0 Axes>"
      ]
     },
     "metadata": {},
     "output_type": "display_data"
    }
   ],
   "source": [
    "treeView = DecisionTreeRegressor(random_state = 601, max_depth = 3)\n",
    "treeView.fit(X_train,Y_train)\n",
    "\n",
    "from sklearn.tree import plot_tree\n",
    "plt.figure(figsize=(8,3), dpi = 150)\n",
    "plot_tree(treeView, feature_names = X.columns, filled=True);"
   ]
  },
  {
   "cell_type": "markdown",
   "id": "3c75b765",
   "metadata": {},
   "source": [
    "# Entropy"
   ]
  },
  {
   "cell_type": "code",
   "execution_count": null,
   "id": "3b15b2fe",
   "metadata": {},
   "outputs": [],
   "source": [
    "# def calc_total_entropy(train_data, label, class_list):\n",
    "#     total_row = train_data.shape[0]\n",
    "#     total_entr = 0 #l\n",
    "    \n",
    "#     for c in class_list: \n",
    "#         total_class_count = train_data[train_data[label] == c].shape[0] \n",
    "#         total_class_entr = - (total_class_count/total_row)*np.log2(total_class_count/total_row) \n",
    "#         total_entr += total_class_entr \n",
    "    \n",
    "#     return total_entr\n",
    "\n",
    "\n",
    "\n",
    "#  def entropy(self, y):\n",
    "#         entropy = 0\n",
    "#         labels = np.unique(y)\n",
    "#         for label in labels:\n",
    "#             label_examples = y[y == label]\n",
    "#             pl = len(label_examples) / len(y)\n",
    "#             entropy += -pl * np.log2(pl)\n",
    "#         return entropy"
   ]
  },
  {
   "cell_type": "markdown",
   "id": "108c1071",
   "metadata": {},
   "source": [
    "# RMSE"
   ]
  },
  {
   "cell_type": "code",
   "execution_count": null,
   "id": "bfafe2e3",
   "metadata": {},
   "outputs": [],
   "source": [
    "def rmse(h, y):\n",
    "  return sqrt(mean_squared_error(h, y))"
   ]
  },
  {
   "cell_type": "code",
   "execution_count": 5,
   "id": "903f8508",
   "metadata": {},
   "outputs": [],
   "source": [
    "class Node():\n",
    "    def __init__(self, feature_index=None, threshold=None, left=None, right=None, var_red=None, value=None):\n",
    "        \n",
    "        self.feature_index = feature_index\n",
    "        self.threshold = threshold\n",
    "        self.left = left\n",
    "        self.right = right\n",
    "        self.var_red = var_red\n",
    "        self.value = value #leaf"
   ]
  },
  {
   "cell_type": "code",
   "execution_count": 93,
   "id": "fcf00945",
   "metadata": {},
   "outputs": [],
   "source": [
    "class DTRegressor():\n",
    "    def __init__(self, minSamples = 2, maxDepth = 2):\n",
    "        self.root = None\n",
    "        self.minSamples = minSamples\n",
    "        self.maxDepth = maxDepth\n",
    "        \n",
    "    def splitTree(self, dataset, feature, threshold):\n",
    "        print(\"hello\")\n",
    "        return\n",
    "        \n",
    "    def bestSplit(self, dataset, X):\n",
    "        bestSplitt = {}\n",
    "        \n",
    "        for i in range(X.shape[1]): #feature_index = i\n",
    "            feature = dataset[:, i] #current feature selected\n",
    "            thresholds = np.unique(feature)\n",
    "#             print(thresholds)\n",
    "            for j in thresholds: #threshold = j\n",
    "                # get current split\n",
    "                leftSide, rightSide = self.splitTree(dataset, i, j) #splits tree into 2 branches\n",
    "                print(leftSide)\n",
    "        return\n",
    "        \n",
    "    def treeBuild(self, dataset, currentDepth = 0):\n",
    "        X = dataset[:,:-1]\n",
    "        Y = dataset[:,-1] #Split training into features and labels\n",
    "#         samplesNumb = X.shape[0]\n",
    "#         featuresNumb = X.shape[1]\n",
    "        \n",
    "        #iterates until this condition is met\n",
    "        if X.shape[0] >= self.minSamples and currentDepth <= self.maxDepth: \n",
    "            bestSplit = self.bestSplit(dataset, X)\n",
    "            \n",
    "#         print(n_features)\n",
    "        \n",
    "        \n",
    "    def fit(self, X, Y):\n",
    "        dataset = np.concatenate((X, Y), axis=1) #Joins training data back together\n",
    "        self.root = self.treeBuild(dataset)"
   ]
  },
  {
   "cell_type": "code",
   "execution_count": 94,
   "id": "5857e1bb",
   "metadata": {},
   "outputs": [
    {
     "name": "stdout",
     "output_type": "stream",
     "text": [
      "hello\n"
     ]
    },
    {
     "ename": "TypeError",
     "evalue": "cannot unpack non-iterable NoneType object",
     "output_type": "error",
     "traceback": [
      "\u001b[1;31m---------------------------------------------------------------------------\u001b[0m",
      "\u001b[1;31mTypeError\u001b[0m                                 Traceback (most recent call last)",
      "Input \u001b[1;32mIn [94]\u001b[0m, in \u001b[0;36m<cell line: 2>\u001b[1;34m()\u001b[0m\n\u001b[0;32m      1\u001b[0m myTree \u001b[38;5;241m=\u001b[39m DTRegressor(\u001b[38;5;241m2\u001b[39m, \u001b[38;5;241m2\u001b[39m) \u001b[38;5;66;03m#create model instance\u001b[39;00m\n\u001b[1;32m----> 2\u001b[0m \u001b[43mmyTree\u001b[49m\u001b[38;5;241;43m.\u001b[39;49m\u001b[43mfit\u001b[49m\u001b[43m(\u001b[49m\u001b[43mX_train\u001b[49m\u001b[43m,\u001b[49m\u001b[43mY_train\u001b[49m\u001b[43m)\u001b[49m\n",
      "Input \u001b[1;32mIn [93]\u001b[0m, in \u001b[0;36mDTRegressor.fit\u001b[1;34m(self, X, Y)\u001b[0m\n\u001b[0;32m     37\u001b[0m \u001b[38;5;28;01mdef\u001b[39;00m \u001b[38;5;21mfit\u001b[39m(\u001b[38;5;28mself\u001b[39m, X, Y):\n\u001b[0;32m     38\u001b[0m     dataset \u001b[38;5;241m=\u001b[39m np\u001b[38;5;241m.\u001b[39mconcatenate((X, Y), axis\u001b[38;5;241m=\u001b[39m\u001b[38;5;241m1\u001b[39m) \u001b[38;5;66;03m#Joins training data back together\u001b[39;00m\n\u001b[1;32m---> 39\u001b[0m     \u001b[38;5;28mself\u001b[39m\u001b[38;5;241m.\u001b[39mroot \u001b[38;5;241m=\u001b[39m \u001b[38;5;28;43mself\u001b[39;49m\u001b[38;5;241;43m.\u001b[39;49m\u001b[43mtreeBuild\u001b[49m\u001b[43m(\u001b[49m\u001b[43mdataset\u001b[49m\u001b[43m)\u001b[49m\n",
      "Input \u001b[1;32mIn [93]\u001b[0m, in \u001b[0;36mDTRegressor.treeBuild\u001b[1;34m(self, dataset, currentDepth)\u001b[0m\n\u001b[0;32m     27\u001b[0m \u001b[38;5;66;03m#         samplesNumb = X.shape[0]\u001b[39;00m\n\u001b[0;32m     28\u001b[0m \u001b[38;5;66;03m#         featuresNumb = X.shape[1]\u001b[39;00m\n\u001b[0;32m     29\u001b[0m         \n\u001b[0;32m     30\u001b[0m         \u001b[38;5;66;03m#iterates until this condition is met\u001b[39;00m\n\u001b[0;32m     31\u001b[0m         \u001b[38;5;28;01mif\u001b[39;00m X\u001b[38;5;241m.\u001b[39mshape[\u001b[38;5;241m0\u001b[39m] \u001b[38;5;241m>\u001b[39m\u001b[38;5;241m=\u001b[39m \u001b[38;5;28mself\u001b[39m\u001b[38;5;241m.\u001b[39mminSamples \u001b[38;5;129;01mand\u001b[39;00m currentDepth \u001b[38;5;241m<\u001b[39m\u001b[38;5;241m=\u001b[39m \u001b[38;5;28mself\u001b[39m\u001b[38;5;241m.\u001b[39mmaxDepth: \n\u001b[1;32m---> 32\u001b[0m             bestSplit \u001b[38;5;241m=\u001b[39m \u001b[38;5;28;43mself\u001b[39;49m\u001b[38;5;241;43m.\u001b[39;49m\u001b[43mbestSplit\u001b[49m\u001b[43m(\u001b[49m\u001b[43mdataset\u001b[49m\u001b[43m,\u001b[49m\u001b[43m \u001b[49m\u001b[43mX\u001b[49m\u001b[43m)\u001b[49m\n",
      "Input \u001b[1;32mIn [93]\u001b[0m, in \u001b[0;36mDTRegressor.bestSplit\u001b[1;34m(self, dataset, X)\u001b[0m\n\u001b[0;32m     17\u001b[0m \u001b[38;5;66;03m#             print(thresholds)\u001b[39;00m\n\u001b[0;32m     18\u001b[0m             \u001b[38;5;28;01mfor\u001b[39;00m j \u001b[38;5;129;01min\u001b[39;00m thresholds: \u001b[38;5;66;03m#threshold = j\u001b[39;00m\n\u001b[0;32m     19\u001b[0m                 \u001b[38;5;66;03m# get current split\u001b[39;00m\n\u001b[1;32m---> 20\u001b[0m                 leftSide, rightSide \u001b[38;5;241m=\u001b[39m \u001b[38;5;28mself\u001b[39m\u001b[38;5;241m.\u001b[39msplitTree(dataset, i, j) \u001b[38;5;66;03m#splits tree into 2 branches\u001b[39;00m\n\u001b[0;32m     21\u001b[0m                 \u001b[38;5;28mprint\u001b[39m(leftSide)\n\u001b[0;32m     22\u001b[0m         \u001b[38;5;28;01mreturn\u001b[39;00m\n",
      "\u001b[1;31mTypeError\u001b[0m: cannot unpack non-iterable NoneType object"
     ]
    }
   ],
   "source": [
    "myTree = DTRegressor(2, 2) #create model instance\n",
    "myTree.fit(X_train,Y_train)"
   ]
  },
  {
   "cell_type": "code",
   "execution_count": null,
   "id": "29caa28e",
   "metadata": {},
   "outputs": [],
   "source": []
  }
 ],
 "metadata": {
  "kernelspec": {
   "display_name": "Python 3 (ipykernel)",
   "language": "python",
   "name": "python3"
  },
  "language_info": {
   "codemirror_mode": {
    "name": "ipython",
    "version": 3
   },
   "file_extension": ".py",
   "mimetype": "text/x-python",
   "name": "python",
   "nbconvert_exporter": "python",
   "pygments_lexer": "ipython3",
   "version": "3.9.12"
  }
 },
 "nbformat": 4,
 "nbformat_minor": 5
}
