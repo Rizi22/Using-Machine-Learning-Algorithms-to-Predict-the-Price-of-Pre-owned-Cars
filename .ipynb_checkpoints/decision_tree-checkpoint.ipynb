{
 "cells": [
  {
   "cell_type": "markdown",
   "id": "bb8d801c",
   "metadata": {},
   "source": [
    "# Imports"
   ]
  },
  {
   "cell_type": "code",
   "execution_count": 2,
   "id": "c080cd73",
   "metadata": {
    "scrolled": true
   },
   "outputs": [],
   "source": [
    "import numpy as np\n",
    "import matplotlib.pyplot as plt\n",
    "import pandas as pd\n",
    "from sklearn.model_selection import train_test_split\n",
    "import csv\n",
    "from sklearn.preprocessing import MinMaxScaler\n",
    "from math import sqrt\n",
    "from sklearn.metrics import mean_squared_error \n",
    "from sklearn.preprocessing import LabelEncoder\n",
    "from sklearn.tree import DecisionTreeRegressor\n",
    "from sklearn.ensemble import RandomForestRegressor\n",
    "from sklearn.metrics import mean_squared_error"
   ]
  },
  {
   "cell_type": "markdown",
   "id": "4a2563ad",
   "metadata": {},
   "source": [
    "# Importing and Splitting data"
   ]
  },
  {
   "cell_type": "code",
   "execution_count": 17,
   "id": "5b750fbb",
   "metadata": {},
   "outputs": [
    {
     "name": "stdout",
     "output_type": "stream",
     "text": [
      "[[0.000e+00 2.017e+03 1.000e+00 ... 1.500e+02 5.540e+01 1.400e+00]\n",
      " [5.000e+00 2.016e+03 0.000e+00 ... 2.000e+01 6.420e+01 2.000e+00]\n",
      " [0.000e+00 2.016e+03 1.000e+00 ... 3.000e+01 5.540e+01 1.400e+00]\n",
      " ...\n",
      " [5.000e+00 2.019e+03 2.000e+00 ... 1.500e+02 3.770e+01 3.000e+00]\n",
      " [1.000e+01 2.017e+03 2.000e+00 ... 1.500e+02 3.400e+01 3.000e+00]\n",
      " [4.000e+00 2.018e+03 2.000e+00 ... 1.500e+02 3.530e+01 3.000e+00]]\n"
     ]
    }
   ],
   "source": [
    "file = pd.read_csv(\"audi.csv\", quotechar='\"', skipinitialspace=True)\n",
    "\n",
    "modelEncoder = LabelEncoder()\n",
    "modelEncoder.fit(file[\"model\"])\n",
    "file[\"model\"] = modelEncoder.transform(file[\"model\"])\n",
    "\n",
    "transmissionEncoder = LabelEncoder()\n",
    "transmissionEncoder.fit(file[\"transmission\"])\n",
    "file[\"transmission\"] = transmissionEncoder.transform(file[\"transmission\"])\n",
    "\n",
    "fuelTypeEncoder = LabelEncoder()\n",
    "fuelTypeEncoder.fit(file[\"fuelType\"])\n",
    "file[\"fuelType\"] = fuelTypeEncoder.transform(file[\"fuelType\"])\n",
    "\n",
    "file = file.head(1000)\n",
    "# X = file.drop(columns = ['price'])\n",
    "# Y = file.price\n",
    "# print(file)\n",
    "\n",
    "X = file.drop(['price'], axis = 1).to_numpy()\n",
    "Y = file['price'].values.reshape(-1,1)\n",
    "# X = file[['year', 'mileage', 'tax', 'mpg', 'engineSize']].to_numpy() #dtype = 'int'\n",
    "\n",
    "print(X)\n",
    "X_train, X_test, Y_train, Y_test = train_test_split(X, Y, random_state = 601)"
   ]
  },
  {
   "cell_type": "markdown",
   "id": "477fe827",
   "metadata": {},
   "source": [
    "# Using Scikit-Learn"
   ]
  },
  {
   "cell_type": "code",
   "execution_count": 18,
   "id": "6242c397",
   "metadata": {},
   "outputs": [
    {
     "name": "stdout",
     "output_type": "stream",
     "text": [
      "R Squared:  0.8469942517214841\n"
     ]
    }
   ],
   "source": [
    "myTree = DecisionTreeRegressor(random_state = 601)\n",
    "myTree.fit(X_train, Y_train)\n",
    "print(\"R Squared: \", myTree.score(X_test, Y_test))"
   ]
  },
  {
   "cell_type": "markdown",
   "id": "902ed032",
   "metadata": {},
   "source": [
    "# Visualising Decsion Tree:"
   ]
  },
  {
   "cell_type": "code",
   "execution_count": 19,
   "id": "bad9b0c0",
   "metadata": {},
   "outputs": [
    {
     "ename": "AttributeError",
     "evalue": "'numpy.ndarray' object has no attribute 'columns'",
     "output_type": "error",
     "traceback": [
      "\u001b[1;31m---------------------------------------------------------------------------\u001b[0m",
      "\u001b[1;31mAttributeError\u001b[0m                            Traceback (most recent call last)",
      "Input \u001b[1;32mIn [19]\u001b[0m, in \u001b[0;36m<cell line: 6>\u001b[1;34m()\u001b[0m\n\u001b[0;32m      4\u001b[0m \u001b[38;5;28;01mfrom\u001b[39;00m \u001b[38;5;21;01msklearn\u001b[39;00m\u001b[38;5;21;01m.\u001b[39;00m\u001b[38;5;21;01mtree\u001b[39;00m \u001b[38;5;28;01mimport\u001b[39;00m plot_tree\n\u001b[0;32m      5\u001b[0m plt\u001b[38;5;241m.\u001b[39mfigure(figsize\u001b[38;5;241m=\u001b[39m(\u001b[38;5;241m8\u001b[39m,\u001b[38;5;241m3\u001b[39m), dpi \u001b[38;5;241m=\u001b[39m \u001b[38;5;241m150\u001b[39m)\n\u001b[1;32m----> 6\u001b[0m plot_tree(treeView, feature_names \u001b[38;5;241m=\u001b[39m \u001b[43mX\u001b[49m\u001b[38;5;241;43m.\u001b[39;49m\u001b[43mcolumns\u001b[49m, filled\u001b[38;5;241m=\u001b[39m\u001b[38;5;28;01mTrue\u001b[39;00m)\n",
      "\u001b[1;31mAttributeError\u001b[0m: 'numpy.ndarray' object has no attribute 'columns'"
     ]
    },
    {
     "data": {
      "text/plain": [
       "<Figure size 1200x450 with 0 Axes>"
      ]
     },
     "metadata": {},
     "output_type": "display_data"
    }
   ],
   "source": [
    "treeView = DecisionTreeRegressor(random_state = 601, max_depth = 3)\n",
    "treeView.fit(X_train,Y_train)\n",
    "\n",
    "from sklearn.tree import plot_tree\n",
    "plt.figure(figsize=(8,3), dpi = 150)\n",
    "plot_tree(treeView, feature_names = X.columns, filled=True);"
   ]
  },
  {
   "cell_type": "markdown",
   "id": "3c75b765",
   "metadata": {},
   "source": [
    "# Entropy"
   ]
  },
  {
   "cell_type": "code",
   "execution_count": 6,
   "id": "3b15b2fe",
   "metadata": {},
   "outputs": [],
   "source": [
    "# def calc_total_entropy(train_data, label, class_list):\n",
    "#     total_row = train_data.shape[0]\n",
    "#     total_entr = 0 #l\n",
    "    \n",
    "#     for c in class_list: \n",
    "#         total_class_count = train_data[train_data[label] == c].shape[0] \n",
    "#         total_class_entr = - (total_class_count/total_row)*np.log2(total_class_count/total_row) \n",
    "#         total_entr += total_class_entr \n",
    "    \n",
    "#     return total_entr\n",
    "\n",
    "\n",
    "\n",
    "#  def entropy(self, y):\n",
    "#         entropy = 0\n",
    "#         labels = np.unique(y)\n",
    "#         for label in labels:\n",
    "#             label_examples = y[y == label]\n",
    "#             pl = len(label_examples) / len(y)\n",
    "#             entropy += -pl * np.log2(pl)\n",
    "#         return entropy"
   ]
  },
  {
   "cell_type": "markdown",
   "id": "108c1071",
   "metadata": {},
   "source": [
    "# RMSE"
   ]
  },
  {
   "cell_type": "code",
   "execution_count": 7,
   "id": "bfafe2e3",
   "metadata": {},
   "outputs": [],
   "source": [
    "def rmse(h, y):\n",
    "  return sqrt(mean_squared_error(h, y))"
   ]
  },
  {
   "cell_type": "code",
   "execution_count": 156,
   "id": "17d33ff2",
   "metadata": {},
   "outputs": [],
   "source": [
    "class Node():\n",
    "    def __init__(self, feature = None, threshold = None, left = None, right = None, value=None):\n",
    "        \n",
    "        self.feature = feature\n",
    "        self.threshold = threshold\n",
    "        self.left = left\n",
    "        self.right = right\n",
    "#         self.var_red = var_red\n",
    "        self.value = value #leaf"
   ]
  },
  {
   "cell_type": "code",
   "execution_count": 157,
   "id": "f4ee9834",
   "metadata": {},
   "outputs": [],
   "source": [
    "class DTRegressor():\n",
    "    def __init__(self, minSamples = 2, maxDepth = 2):\n",
    "#         self.root = None\n",
    "        self.minSamples = minSamples\n",
    "        self.maxDepth = maxDepth\n",
    "        \n",
    "    def entropy(self, y): #need to change method\n",
    "        entropy = 0\n",
    "        \n",
    "        labels = np.unique(y)\n",
    "        # loop over each unique value\n",
    "        for label in labels:\n",
    "            # find elements in y that are equal to that label\n",
    "            label_examples = y[y == label]\n",
    "            # get ratio of the label\n",
    "            pl = len(label_examples) / len(y)\n",
    "            # calculate entropy\n",
    "            entropy += -pl * np.log2(pl)\n",
    "        return entropy\n",
    "        \n",
    "    def infoGain(self, parent, leftNode, rightNode): #need to checkkk\n",
    "#         print(\"HERE 5\")\n",
    "        leftWeight = len(leftNode) / len(parent)\n",
    "        rightWeight = len(rightNode) / len(parent)\n",
    "        \n",
    "        information_gain = np.var(parent) - (leftWeight * np.var(leftNode) + rightWeight * np.var(rightNode))\n",
    "\n",
    "\n",
    "#         parent_entropy = self.entropy(parent)\n",
    "#         entropy_left, entropy_right = self.entropy(leftNode), self.entropy(rightNode)\n",
    "#         # calculate weighted entropy \n",
    "#         weighted_entropy = leftWeight * entropy_left + rightWeight * entropy_right\n",
    "#         # calculate information gain \n",
    "#         information_gain = parent_entropy - weighted_entropy\n",
    "# #         print(information_gain)\n",
    "\n",
    "        return information_gain\n",
    "        \n",
    "    def splitTree(self, dataset, feature, threshold):\n",
    "#         print(\"HERE 4\")\n",
    "        leftBranch = []\n",
    "        rightBranch = []\n",
    "        for i in dataset:\n",
    "            if i[feature] <= threshold:\n",
    "                leftBranch.append(i)\n",
    "            else:\n",
    "                rightBranch.append(i)\n",
    "        rightBranch = np.array(rightBranch)\n",
    "        leftBranch = np.array(leftBranch)\n",
    "        return leftBranch, rightBranch\n",
    "        \n",
    "    def bestSplit(self, dataset, X):\n",
    "#         print(\"HERE 3\")\n",
    "        bestSplitt = {'gain':- 1}\n",
    "        \n",
    "        for i in range(X.shape[1]): #feature_index = i\n",
    "            feature = dataset[:, i] #current feature selected\n",
    "            thresholds = np.unique(feature)\n",
    "#             print(thresholds)\n",
    "            for j in thresholds: #threshold = j\n",
    "                # get current split\n",
    "                leftSide, rightSide = self.splitTree(dataset, i, j) #splits tree into 2 branches\n",
    "            \n",
    "                if (len(leftSide) > 0 and len(rightSide) > 0 ):\n",
    "                    parent = dataset[:, -1]\n",
    "                    leftNode = leftSide[:, -1]\n",
    "                    rightNode = rightSide[:, -1]\n",
    "\n",
    "                    gain = self.infoGain(parent, leftNode, rightNode) \n",
    "                    \n",
    "                    if gain > bestSplitt[\"gain\"]:\n",
    "                        bestSplitt[\"feature\"] = feature\n",
    "                        bestSplitt[\"thresholds\"] = j\n",
    "                        bestSplitt[\"leftSide\"] = leftSide\n",
    "                        bestSplitt[\"rightSide\"] = rightSide\n",
    "                        bestSplitt[\"gain\"] = gain\n",
    "                \n",
    "        return bestSplitt\n",
    "    \n",
    "#     def leafValue(self, Y)\n",
    "        \n",
    "    def treeBuild(self, dataset, currentDepth = 0):\n",
    "#         print(\"HERE 2\")\n",
    "        X = dataset[:,:-1]\n",
    "        Y = dataset[:,-1] #Split training into features and labels\n",
    "#         samplesNumb = X.shape[0]\n",
    "#         featuresNumb = X.shape[1]\n",
    "        \n",
    "        #iterates until this condition is met\n",
    "        if X.shape[0] >= self.minSamples and currentDepth <= self.maxDepth: \n",
    "            bestSplit = self.bestSplit(dataset, X)\n",
    "            \n",
    "            if bestSplit[\"gain\"] > 0:\n",
    "                leftTree = self.treeBuild(bestSplit[\"leftSide\"], currentDepth + 1)\n",
    "                rightTree = self.treeBuild(bestSplit[\"rightSide\"], currentDepth + 1)\n",
    "                \n",
    "                decision = Node(bestSplit[\"feature\"], bestSplit[\"thresholds\"], leftTree, rightTree, bestSplit[\"gain\"])\n",
    "                return decision\n",
    "            \n",
    "        leafValue = np.mean(Y) #calculates mean of leaf nodes\n",
    "        val = Node(value = leafValue)\n",
    "        return val\n",
    "    \n",
    "    def predictionLoop(self, testRow, root):\n",
    "        if self.root.value: #not empty\n",
    "            return root.value\n",
    "        \n",
    "        feature = testRow[root.feature]\n",
    "        if feature <= root.threshold:\n",
    "            return predictionLoop(testRow, root.left)\n",
    "        else:\n",
    "            return predictionLoop(testRow, root.right)\n",
    "    \n",
    "    def predict(self, xTest):\n",
    "        predictions = []\n",
    "        for row in xTest:\n",
    "            predictions.append(self.predictionLoop(xTest, self.root)) \n",
    "        return predictions\n",
    "        \n",
    "        \n",
    "    def fit(self, X, Y):\n",
    "#         print(\"HERE 1\")\n",
    "        dataset = np.concatenate((X, Y), axis=1) #Joins training data back together\n",
    "        self.root = self.treeBuild(dataset)"
   ]
  },
  {
   "cell_type": "code",
   "execution_count": 158,
   "id": "cc871d91",
   "metadata": {},
   "outputs": [],
   "source": [
    "myTree = DTRegressor(2, 2)  \n",
    "myTree.fit(X_train, Y_train) #trains the model using the training set"
   ]
  },
  {
   "cell_type": "code",
   "execution_count": 160,
   "id": "40331ec2",
   "metadata": {
    "scrolled": true
   },
   "outputs": [
    {
     "name": "stdout",
     "output_type": "stream",
     "text": [
      "[43814245.71274468]\n"
     ]
    }
   ],
   "source": [
    "testy = [[2016,49050,325,29.4,4.0]] # using this for prediction £44985\n",
    "print(myTree.predict(testy)) "
   ]
  },
  {
   "cell_type": "code",
   "execution_count": 137,
   "id": "2f2137cb",
   "metadata": {},
   "outputs": [
    {
     "ename": "NameError",
     "evalue": "name 'predictionLoop' is not defined",
     "output_type": "error",
     "traceback": [
      "\u001b[1;31m---------------------------------------------------------------------------\u001b[0m",
      "\u001b[1;31mNameError\u001b[0m                                 Traceback (most recent call last)",
      "Input \u001b[1;32mIn [137]\u001b[0m, in \u001b[0;36m<cell line: 2>\u001b[1;34m()\u001b[0m\n\u001b[0;32m      1\u001b[0m \u001b[38;5;28;01mfrom\u001b[39;00m \u001b[38;5;21;01msklearn\u001b[39;00m\u001b[38;5;21;01m.\u001b[39;00m\u001b[38;5;21;01mmetrics\u001b[39;00m \u001b[38;5;28;01mimport\u001b[39;00m accuracy_score,balanced_accuracy_score\n\u001b[1;32m----> 2\u001b[0m predictions \u001b[38;5;241m=\u001b[39m \u001b[43mmyTree\u001b[49m\u001b[38;5;241;43m.\u001b[39;49m\u001b[43mpredict\u001b[49m\u001b[43m(\u001b[49m\u001b[43mX_test\u001b[49m\u001b[43m)\u001b[49m \u001b[38;5;66;03m#evaluate the model on the test data\u001b[39;00m\n\u001b[0;32m      3\u001b[0m \u001b[38;5;28mprint\u001b[39m(\u001b[38;5;124mf\u001b[39m\u001b[38;5;124m\"\u001b[39m\u001b[38;5;124m Our model\u001b[39m\u001b[38;5;124m'\u001b[39m\u001b[38;5;124ms Accuracy: \u001b[39m\u001b[38;5;132;01m{\u001b[39;00maccuracy_score(y_test, predictions)\u001b[38;5;132;01m}\u001b[39;00m\u001b[38;5;124m\"\u001b[39m)\n\u001b[0;32m      4\u001b[0m \u001b[38;5;28mprint\u001b[39m(\u001b[38;5;124mf\u001b[39m\u001b[38;5;124m\"\u001b[39m\u001b[38;5;124mOur model\u001b[39m\u001b[38;5;124m'\u001b[39m\u001b[38;5;124ms Balanced Accuracy: \u001b[39m\u001b[38;5;132;01m{\u001b[39;00mbalanced_accuracy_score(y_test, predictions)\u001b[38;5;132;01m}\u001b[39;00m\u001b[38;5;124m\"\u001b[39m)\n",
      "Input \u001b[1;32mIn [133]\u001b[0m, in \u001b[0;36mDTRegressor.predict\u001b[1;34m(self, xTest)\u001b[0m\n\u001b[0;32m    116\u001b[0m predictions \u001b[38;5;241m=\u001b[39m []\n\u001b[0;32m    117\u001b[0m \u001b[38;5;28;01mfor\u001b[39;00m row \u001b[38;5;129;01min\u001b[39;00m xTest:\n\u001b[1;32m--> 118\u001b[0m     \u001b[43mpredictionLoop\u001b[49m(xTest, \u001b[38;5;28mself\u001b[39m\u001b[38;5;241m.\u001b[39mroot)\n\u001b[0;32m    119\u001b[0m     predictions\u001b[38;5;241m.\u001b[39mappend() \n\u001b[0;32m    120\u001b[0m \u001b[38;5;28;01mreturn\u001b[39;00m predictions\n",
      "\u001b[1;31mNameError\u001b[0m: name 'predictionLoop' is not defined"
     ]
    }
   ],
   "source": [
    "from sklearn.metrics import accuracy_score,balanced_accuracy_score\n",
    "predictions = myTree.predict(X_test) #evaluate the model on the test data\n",
    "print(f\" Our model's Accuracy: {accuracy_score(y_test, predictions)}\")\n",
    "print(f\"Our model's Balanced Accuracy: {balanced_accuracy_score(y_test, predictions)}\")"
   ]
  }
 ],
 "metadata": {
  "kernelspec": {
   "display_name": "Python 3 (ipykernel)",
   "language": "python",
   "name": "python3"
  },
  "language_info": {
   "codemirror_mode": {
    "name": "ipython",
    "version": 3
   },
   "file_extension": ".py",
   "mimetype": "text/x-python",
   "name": "python",
   "nbconvert_exporter": "python",
   "pygments_lexer": "ipython3",
   "version": "3.9.12"
  }
 },
 "nbformat": 4,
 "nbformat_minor": 5
}
