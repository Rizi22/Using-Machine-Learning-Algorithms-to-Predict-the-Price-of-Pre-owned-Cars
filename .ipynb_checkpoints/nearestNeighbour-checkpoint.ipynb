{
 "cells": [
  {
   "cell_type": "markdown",
   "id": "cefb2a76",
   "metadata": {},
   "source": [
    "# Imports"
   ]
  },
  {
   "cell_type": "code",
   "execution_count": 1,
   "id": "73341411",
   "metadata": {},
   "outputs": [],
   "source": [
    "import numpy as np\n",
    "import matplotlib.pyplot as plt\n",
    "import pandas as pd\n",
    "from sklearn.model_selection import train_test_split #Used to split data set into training and testing\n"
   ]
  },
  {
   "cell_type": "markdown",
   "id": "2f37e6dc",
   "metadata": {},
   "source": [
    "# Importing and splitting dataset"
   ]
  },
  {
   "cell_type": "code",
   "execution_count": 2,
   "id": "dfb53a98",
   "metadata": {},
   "outputs": [],
   "source": [
    "dataLocation = (r'UKUsedCarDataSet\\audi.csv')\n",
    "dataSet = pd.read_csv(dataLocation)\n",
    "\n",
    "features = ['year', 'mileage', 'tax', 'mpg', 'engineSize'] #may try transmission and fuel type later\n",
    "X = dataSet[features]\n",
    "Y = dataSet['price']\n",
    "X_train, X_test, Y_train, Y_test = train_test_split(X, Y, random_state = 601)"
   ]
  },
  {
   "cell_type": "markdown",
   "id": "007c11f7",
   "metadata": {},
   "source": [
    "# KNN using Scikit-Learn"
   ]
  },
  {
   "cell_type": "code",
   "execution_count": 3,
   "id": "edc83576",
   "metadata": {},
   "outputs": [
    {
     "data": {
      "text/plain": [
       "Text(0, 0.5, 'Error rate')"
      ]
     },
     "execution_count": 3,
     "metadata": {},
     "output_type": "execute_result"
    },
    {
     "data": {
      "image/png": "[encoded data removed]",
      "text/plain": [
       "<Figure size 432x288 with 1 Axes>"
      ]
     },
     "metadata": {
      "needs_background": "light"
     },
     "output_type": "display_data"
    }
   ],
   "source": [
    "from sklearn.neighbors import KNeighborsRegressor as KNN_Reg\n",
    "\n",
    "results = np.empty(99)\n",
    "for k in range(1, 100):\n",
    "    knn = KNN_Reg(n_neighbors = k)\n",
    "    knn.fit(X_train, Y_train)\n",
    "    results[k - 1] = (1- knn.score(X_test, Y_test))\n",
    "\n",
    "plt.plot(np.arange(99) + 1, results)\n",
    "plt.xlabel('K Neighbors')\n",
    "plt.ylabel('Error rate')"
   ]
  },
  {
   "cell_type": "markdown",
   "id": "fc74a135",
   "metadata": {},
   "source": [
    "# Euclidean Distance"
   ]
  },
  {
   "cell_type": "code",
   "execution_count": 4,
   "id": "feb62cf6",
   "metadata": {},
   "outputs": [],
   "source": [
    "def eucDistance(variable1, variable2):\n",
    "    distance = 0\n",
    "    for i in range(len(variable2)):\n",
    "        distance += (variable1[i] - variable2[i])**2\n",
    "    return np.sqrt(distance)"
   ]
  },
  {
   "cell_type": "markdown",
   "id": "ccc56087",
   "metadata": {},
   "source": [
    "# KNN"
   ]
  },
  {
   "cell_type": "code",
   "execution_count": 6,
   "id": "a6ff4544",
   "metadata": {},
   "outputs": [],
   "source": [
    "def kNN(train, testRow, yTrain, yTest, num):\n",
    "    distance = list() #Stores distance of each point\n",
    "    for i in range(len(train)-1):\n",
    "        dist = eucDistance(train[i], testRow) #sends points to work out distance\n",
    "        distance.append((train[i], dist, yTrain[i])) \n",
    "    distance = sort(distance) #need to create a sort method to order list\n",
    "    kNeighbours = list() #list to store K amount of neighbour results\n",
    "    for i in range(num):\n",
    "        kNeighbours.append((test, distance[i][1], distance[i][2]))\n",
    "    return kNeighbours "
   ]
  }
 ],
 "metadata": {
  "kernelspec": {
   "display_name": "Python 3 (ipykernel)",
   "language": "python",
   "name": "python3"
  },
  "language_info": {
   "codemirror_mode": {
    "name": "ipython",
    "version": 3
   },
   "file_extension": ".py",
   "mimetype": "text/x-python",
   "name": "python",
   "nbconvert_exporter": "python",
   "pygments_lexer": "ipython3",
   "version": "3.9.12"
  }
 },
 "nbformat": 4,
 "nbformat_minor": 5
}
