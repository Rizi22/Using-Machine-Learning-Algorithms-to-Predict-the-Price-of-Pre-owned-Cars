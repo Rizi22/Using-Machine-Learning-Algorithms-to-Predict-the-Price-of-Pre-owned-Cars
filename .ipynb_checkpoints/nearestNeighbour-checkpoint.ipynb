{
 "cells": [
  {
   "cell_type": "markdown",
   "id": "74b433a2",
   "metadata": {},
   "source": [
    "# Imports"
   ]
  },
  {
   "cell_type": "code",
   "execution_count": 1,
   "id": "a0c508b5",
   "metadata": {},
   "outputs": [],
   "source": [
    "import numpy as np\n",
    "import matplotlib.pyplot as plt\n",
    "import pandas as pd\n",
    "from sklearn.model_selection import train_test_split #Used to split data set into training and testing\n"
   ]
  },
  {
   "cell_type": "markdown",
   "id": "7bba5e9c",
   "metadata": {},
   "source": [
    "# Importing and splitting dataset"
   ]
  },
  {
   "cell_type": "code",
   "execution_count": 2,
   "id": "38ac542e",
   "metadata": {},
   "outputs": [
    {
     "name": "stdout",
     "output_type": "stream",
     "text": [
      "[array([ 2016. , 36203. ,    64.2]), array([ 2016. , 29946. ,    55.4]), array([ 2017. , 25952. ,    67.3]), array([2019. , 1998. ,   49.6]), array([ 2016. , 32260. ,    58.9]), array([2.0160e+03, 7.6788e+04, 6.1400e+01]), array([2.0160e+03, 7.5185e+04, 7.0600e+01]), array([ 2015. , 46112. ,    60.1]), array([ 2016. , 22451. ,    55.4]), array([ 2017. , 28955. ,    58.9]), array([ 2016. , 52198. ,    57.6]), array([ 2016. , 44915. ,    52.3]), array([ 2017. , 21695. ,    58.9]), array([ 2015. , 47348. ,    61.4]), array([ 2017. , 26156. ,    58.9]), array([ 2016. , 28396. ,    53.3]), array([ 2014. , 30516. ,    56.5]), array([ 2016. , 37652. ,    47.1]), array([ 2014. , 34110. ,    47.9]), array([ 2017. , 37100. ,    67.3]), array([ 2016. , 23714. ,    47.1]), array([ 2017. , 21649. ,    58.9]), array([2.0150e+03, 6.2748e+04, 5.3300e+01]), array([ 2016. , 23789. ,    47.1]), array([ 2017. , 17418. ,    62.8]), array([ 2017. , 33300. ,    61.4]), array([ 2018. , 10793. ,    56.5]), array([ 2018. , 25138. ,    70.6]), array([ 2015. , 61176. ,    62.8]), array([ 2015. , 54754. ,    76.3]), array([ 2017. , 21369. ,    51.4]), array([ 2014. , 39190. ,    47.9]), array([ 2017. , 47482. ,    47.9]), array([ 2016. , 40501. ,    51.4]), array([ 2014. , 43195. ,    47.9]), array([ 2017. , 31447. ,    67.3]), array([ 2016. , 34030. ,    58.9]), array([ 2017. , 29063. ,    70.6]), array([ 2017. , 29545. ,    65.7]), array([2.0150e+03, 7.5619e+04, 6.8900e+01]), array([ 2016. , 39603. ,    50.4]), array([ 2017. , 42908. ,    51.4]), array([2.0140e+03, 8.3872e+04, 5.8900e+01]), array([2.016e+03, 5.875e+04, 4.790e+01]), array([2019. , 2029. ,   49.6]), array([ 2018. , 22958. ,    50.4]), array([ 2017. , 32097. ,    72.4]), array([ 2017. , 13057. ,    53.3]), array([ 2017. , 20278. ,    38.7]), array([ 2016. , 52561. ,    74.3]), array([ 2015. , 31604. ,    67.3]), array([ 2016. , 32011. ,    49.6]), array([ 2016. , 39134. ,    60.1]), array([2.0150e+03, 8.9483e+04, 4.7100e+01]), array([2.0150e+03, 5.6291e+04, 4.2800e+01]), array([ 2016. , 47767. ,    61.4]), array([ 2014. , 34315. ,    53.3]), array([ 2016. , 66369. ,    83.1]), array([ 2016. , 34110. ,    61.4]), array([2.0130e+03, 7.6269e+04, 7.4300e+01]), array([ 2016. , 37840. ,    70.6]), array([ 2017. , 26249. ,    67.3]), array([ 2017. , 44898. ,    57.7]), array([2.0170e+03, 6.7161e+04, 5.1400e+01]), array([ 2018. , 17992. ,    54.3]), array([2.016e+03, 9.744e+04, 7.060e+01]), array([ 2017. , 19268. ,    67.3]), array([2.0130e+03, 5.1441e+04, 5.0400e+01]), array([ 2016. , 18181. ,    67.3]), array([ 2016. , 19494. ,    67.3]), array([ 2016. , 32808. ,    61.4]), array([ 2017. , 25965. ,    65.7]), array([2.0160e+03, 8.8215e+04, 6.8900e+01]), array([2019. , 5704. ,   49.6]), array([ 2017. , 10959. ,    51.4]), array([ 2016. , 30201. ,    47.1]), array([ 2017. , 19319. ,    40.4]), array([ 2017. , 22582. ,    61.4]), array([ 2017. , 20052. ,    49.6]), array([ 2016. , 16666. ,    60.1]), array([ 2016. , 25626. ,    74.3]), array([ 2016. , 10460. ,    60.1]), array([ 2016. , 43307. ,    57.6]), array([ 2017. , 29327. ,    55.4]), array([ 2017. , 36714. ,    51.4]), array([ 2014. , 28324. ,    53.3]), array([ 2016. , 12100. ,    56.5]), array([ 2017. , 18001. ,    62.8]), array([ 2016. , 28760. ,    55.4]), array([2019. , 4000. ,   44.1]), array([2019. , 7897. ,   47.9]), array([ 2016. , 24744. ,    56.5]), array([ 2015. , 30075. ,    51.4]), array([ 2017. , 12577. ,    58.9]), array([ 2016. , 24421. ,    61.4]), array([ 2016. , 15567. ,    76.3]), array([ 2018. , 15207. ,    51.4]), array([ 2017. , 14864. ,    52.3]), array([2019. , 9000. ,   38.7]), array([2019. , 5000. ,   38.7]), array([2019. , 4264. ,   33.2]), array([2019. , 4000. ,   42.8]), array([2019. , 4000. ,   42.2]), array([2019. , 2721. ,   49.6]), array([2019. , 4000. ,   42.2]), array([2.0160e+03, 4.9649e+04, 4.2200e+01]), array([ 2017. , 14068. ,    51.4]), array([ 2017. , 23092. ,    52.3]), array([ 2017. , 30682. ,    50.4]), array([ 2016. , 18272. ,    67.3]), array([ 2017. , 23714. ,    68.9]), array([2.0160e+03, 7.1311e+04, 6.1400e+01]), array([ 2018. , 29477. ,    61.4]), array([2.0160e+03, 6.0551e+04, 4.7100e+01]), array([ 2017. , 42071. ,    61.4]), array([2.0140e+03, 5.5774e+04, 4.4800e+01]), array([ 2016. , 36462. ,    76.3]), array([ 2016. , 25376. ,    57.6]), array([ 2017. , 39388. ,    67.3]), array([ 2017. , 64207. ,    67.3]), array([ 2017. , 49221. ,    55.4]), array([ 2017. , 27179. ,    76.3]), array([ 2014. , 31376. ,    58.9]), array([2.0150e+03, 6.2668e+04, 5.3300e+01]), array([ 2017. , 10001. ,    51.4]), array([ 2016. , 52544. ,    61.4]), array([2.0160e+03, 6.3097e+04, 4.9600e+01]), array([2.0160e+03, 7.2967e+04, 6.1400e+01]), array([ 2017. , 32771. ,    70.6]), array([ 2018. , 13303. ,    40.4]), array([2019. , 2752. ,   44.8]), array([ 2016. , 23307. ,    49.6]), array([ 2017. , 34551. ,    67.3]), array([ 2017. , 25457. ,    68.9]), array([ 2018. , 12167. ,    50.4]), array([ 2015. , 23237. ,    67.3]), array([ 2016. , 11863. ,    50.4]), array([ 2017. , 21225. ,    72.4]), array([ 2015. , 32083. ,    61.4]), array([ 2017. , 17039. ,    55.4]), array([ 2016. , 72026. ,    74.3]), array([ 2017. , 34824. ,    67.3]), array([ 2017. , 20351. ,    55.4]), array([2.0170e+03, 5.8028e+04, 5.2300e+01]), array([ 2017. , 44783. ,    62.8]), array([ 2014. , 60604. ,    67.3]), array([ 2013. , 39998. ,    65.7]), array([ 2017. , 20852. ,    65.7]), array([2.0160e+03, 7.9728e+04, 6.4200e+01]), array([ 2017. , 29095. ,    64.2]), array([2.013e+03, 9.894e+04, 7.430e+01]), array([ 2016. , 22780. ,    58.9]), array([ 2018. , 20832. ,    47.1]), array([ 2016. , 29196. ,    55.4]), array([ 2017. , 14392. ,    53.3]), array([ 2018. , 20070. ,    52.3]), array([2.0160e+03, 8.9334e+04, 6.2800e+01]), array([ 2016. , 21428. ,    67.3]), array([ 2016. , 45485. ,    70.6]), array([ 2016. , 32704. ,    60.1]), array([2.0180e+03, 4.2209e+04, 4.2200e+01]), array([ 2017. , 17278. ,    48.7]), array([ 2017. , 29515. ,    67.3]), array([ 2014. , 43662. ,    67.3]), array([ 2017. , 45225. ,    62.8]), array([ 2017. , 45491. ,    61.4]), array([2.0140e+03, 5.2267e+04, 3.7700e+01]), array([ 2014. , 40807. ,    50.4]), array([2.0140e+03, 6.5959e+04, 4.9600e+01]), array([2.0140e+03, 4.7648e+04, 3.5800e+01]), array([ 2017. , 27948. ,    40.9]), array([ 2013. , 31169. ,    49.6]), array([ 2013. , 42011. ,    47.1]), array([2.0150e+03, 5.6115e+04, 5.0400e+01]), array([2.0150e+03, 6.5835e+04, 6.1400e+01]), array([2.0170e+03, 6.3383e+04, 4.5600e+01]), array([2.0170e+03, 3.4011e+04, 3.4000e+01]), array([2.0140e+03, 5.2132e+04, 4.9600e+01]), array([ 2015. , 38787. ,    55.4]), array([ 2017. , 34554. ,    55.4]), array([ 2017. , 17502. ,    40.4]), array([2019. , 3000. ,   40.9]), array([ 2015. , 34646. ,    61.4]), array([ 2017. , 18000. ,    56.5]), array([ 2018. , 17085. ,    47.9]), array([ 2017. , 48166. ,    72.4]), array([ 2015. , 38421. ,    47.1]), array([ 2015. , 46637. ,    61.4]), array([ 2016. , 24468. ,    74.3]), array([ 2017. , 29343. ,    47.1]), array([2019. , 8449. ,   51.4]), array([ 2017. , 34679. ,    65.7]), array([ 2018. , 23860. ,    60.1]), array([ 2018. , 21009. ,    35.8]), array([2019. , 1881. ,   47.9]), array([2019. ,  688. ,   47.9]), array([2019. , 1863. ,   47.9]), array([2020. ,   10. ,   33.2]), array([2.016e+03, 4.905e+04, 2.940e+01])]\n"
     ]
    }
   ],
   "source": [
    "# import csv\n",
    "# csv_file = (r'UKUsedCarDataSet\\audi.csv')\n",
    "# txt_file = ('test.txt')\n",
    "# with open(txt_file, \"w\") as my_output_file:\n",
    "#     with open(csv_file, \"r\") as my_input_file:\n",
    "#         [ my_output_file.write(\" \".join(row)+'\\n') for row in csv.reader(my_input_file)]\n",
    "#     my_output_file.close()\n",
    "\n",
    "Y = np.genfromtxt(\"audi.csv\", delimiter = \",\", skip_header = 1, usecols=(2)) #label is price\n",
    "# print(Y)\n",
    "# X = np.genfromtxt(\"audi.csv\", delimiter = \",\", skip_header = 1, usecols=(1, 4, 6, 7, 8), dtype=int)\n",
    "X = np.genfromtxt(\"audi.csv\", delimiter = \",\", skip_header = 1, usecols=(1, 4, 7))\n",
    "Xpend = []\n",
    "Ypend = []\n",
    "for i in range(1,200):\n",
    "    Xpend.append(X[i])\n",
    "    Ypend.append(Y[i])\n",
    "print(Xpend)"
   ]
  },
  {
   "cell_type": "code",
   "execution_count": 3,
   "id": "113db99b",
   "metadata": {},
   "outputs": [],
   "source": [
    "# dataLocation = (r'UKUsedCarDataSet\\audi.csv')\n",
    "# dataSet = pd.read_csv(dataLocation, nrows=200)\n",
    "# Specific_Rows = dataSet.sample(n=200)\n",
    "# features = ['year', 'mileage', 'tax', 'mpg', 'engineSize'] #may try transmission and fuel type later\n",
    "\n",
    "# X = dataSet[features]\n",
    "# Y = dataSet['price']\n",
    "X_train, X_test, Y_train, Y_test = train_test_split(Xpend, Ypend, random_state = 601)\n",
    "# print(X_train.shape)\n",
    "# print(X_train[3])"
   ]
  },
  {
   "cell_type": "code",
   "execution_count": 4,
   "id": "cd00fc98",
   "metadata": {},
   "outputs": [],
   "source": [
    "# from mpl_toolkits.mplot3d import Axes3D\n",
    "# fig = plt.figure(figsize=(8, 8))\n",
    "# ax = fig.add_subplot(111, projection='3d')\n",
    "# ax.scatter(X_train[:,0],X_train[:,1],Y_train, c = \"red\",alpha=.5, marker = 'o')\n",
    "# ax.set_xlabel('X_1')\n",
    "# ax.set_ylabel('X_2')\n",
    "# ax.set_zlabel('Y')\n",
    "# plt.show()"
   ]
  },
  {
   "cell_type": "markdown",
   "id": "0f135f38",
   "metadata": {},
   "source": [
    "# KNN using Scikit-Learn"
   ]
  },
  {
   "cell_type": "code",
   "execution_count": 5,
   "id": "49ecb049",
   "metadata": {},
   "outputs": [
    {
     "data": {
      "text/plain": [
       "Text(0, 0.5, 'Error rate')"
      ]
     },
     "execution_count": 5,
     "metadata": {},
     "output_type": "execute_result"
    },
    {
     "data": {
      "image/png": "[encoded data removed]",
      "text/plain": [
       "<Figure size 432x288 with 1 Axes>"
      ]
     },
     "metadata": {
      "needs_background": "light"
     },
     "output_type": "display_data"
    }
   ],
   "source": [
    "from sklearn.neighbors import KNeighborsRegressor as KNN_Reg\n",
    "\n",
    "results = np.empty(99)\n",
    "for k in range(1, 100):\n",
    "    knn = KNN_Reg(n_neighbors = k)\n",
    "    knn.fit(X_train, Y_train)\n",
    "    results[k - 1] = (1- knn.score(X_test, Y_test))\n",
    "\n",
    "plt.plot(np.arange(99) + 1, results)\n",
    "plt.xlabel('K Neighbors')\n",
    "plt.ylabel('Error rate')"
   ]
  },
  {
   "cell_type": "markdown",
   "id": "452ce4e4",
   "metadata": {},
   "source": [
    "# Euclidean Distance"
   ]
  },
  {
   "cell_type": "code",
   "execution_count": 6,
   "id": "e4936d02",
   "metadata": {},
   "outputs": [],
   "source": [
    "def eucDistance(variable1, variable2):\n",
    "    distance = 0\n",
    "    for i in range(len(variable2)):\n",
    "        distance += (variable1[i] - variable1[i])**2\n",
    "    return np.sqrt(distance)"
   ]
  },
  {
   "cell_type": "markdown",
   "id": "c3fb22f3",
   "metadata": {},
   "source": [
    "# KNN"
   ]
  },
  {
   "cell_type": "code",
   "execution_count": 7,
   "id": "24421355",
   "metadata": {
    "scrolled": false
   },
   "outputs": [],
   "source": [
    "def kNN(train, testRow, yTrain, yTest, num):\n",
    "    distance = list() #Stores distance of each point\n",
    "    for i in range(len(train)-1):\n",
    "        dist = eucDistance(train[i], testRow) #sends points to work out distance\n",
    "        distance.append((train[i], dist, yTrain[i])) \n",
    "    distance = sort(distance) #need to create a sort method to order list\n",
    "    kNeighbours = list() #list to store K amount of neighbour results\n",
    "    for i in range(num):\n",
    "        kNeighbours.append((testRow, distance[i][1], distance[i][2]))\n",
    "    return kNeighbours \n",
    "\n",
    "# for testRow in X_test:\n",
    "#     kNN(X_train, testRow, Y_train, Y_test, 1)\n",
    "# print(kNN(X_train, X_test[1], Y_train, Y_test, 1))"
   ]
  },
  {
   "cell_type": "code",
   "execution_count": 8,
   "id": "151d92b8",
   "metadata": {},
   "outputs": [],
   "source": [
    "def sort(dist):\n",
    "    for i in range(0, len(dist)):\n",
    "        for j in range(0, len(dist) - i - 1):\n",
    "            if (dist[j][1] > dist[j + 1][1]):\n",
    "                temp = dist[j]\n",
    "                dist[j] = dist[j + 1]\n",
    "                dist[j + 1] = temp\n",
    "    return dist"
   ]
  },
  {
   "cell_type": "code",
   "execution_count": 9,
   "id": "0439e92e",
   "metadata": {},
   "outputs": [],
   "source": [
    "# mu = np.mean(X_train, 0)\n",
    "# sigma = np.std(X_train, 0)\n",
    "\n",
    "# X_train = (X_train - mu ) / sigma\n",
    "# X_test = (X_test - mu ) / sigma\n",
    "\n",
    "# mu_y = np.mean(Y_train, 0)\n",
    "# sigma_y = np.std(Y_train, 0, ddof = 0)\n",
    "# Y_train = (Y_train - mu_y ) / sigma_y"
   ]
  },
  {
   "cell_type": "code",
   "execution_count": 10,
   "id": "090b8c5f",
   "metadata": {},
   "outputs": [],
   "source": [
    "# Y_train = Y_train.reshape(len(Y_train),1)\n",
    "# Y_test = Y_test.values.reshape(len(Y_test),1)\n",
    "# Y_pred = np.zeros(Y_test.shape)\n",
    "# Y_train.shape, Y_test.shape,Y_pred.shape"
   ]
  },
  {
   "cell_type": "code",
   "execution_count": 11,
   "id": "35d34a37",
   "metadata": {
    "scrolled": true
   },
   "outputs": [],
   "source": [
    "# n_neigh = 10\n",
    "# for row in range(len(X_test)):\n",
    "#     euclidian_distance = eucDistance(X_train[i], testRow)\n",
    "#     euclidian_distance = np.sqrt(np.sum((X_train - X_test[row])**2, axis = 1 ))\n",
    "#     Y_pred[row] = Y_train[np.argsort(euclidian_distance, axis = 0)[:n_neigh]].mean()* sigma_y + mu_y\n",
    "    \n",
    "# #Finding the root mean squared error \n",
    "\n",
    "# RMSE = np.sqrt(np.mean((Y_test - Y_pred)**2))\n",
    "# print(RMSE)"
   ]
  }
 ],
 "metadata": {
  "kernelspec": {
   "display_name": "Python 3 (ipykernel)",
   "language": "python",
   "name": "python3"
  },
  "language_info": {
   "codemirror_mode": {
    "name": "ipython",
    "version": 3
   },
   "file_extension": ".py",
   "mimetype": "text/x-python",
   "name": "python",
   "nbconvert_exporter": "python",
   "pygments_lexer": "ipython3",
   "version": "3.9.12"
  }
 },
 "nbformat": 4,
 "nbformat_minor": 5
}
