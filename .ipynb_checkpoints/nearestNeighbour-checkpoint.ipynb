{
 "cells": [
  {
   "cell_type": "markdown",
   "id": "76fc843b",
   "metadata": {},
   "source": [
    "# Imports"
   ]
  },
  {
   "cell_type": "code",
   "execution_count": 51,
   "id": "679ac403",
   "metadata": {},
   "outputs": [],
   "source": [
    "import numpy as np\n",
    "import matplotlib.pyplot as plt\n",
    "import pandas as pd\n",
    "import seaborn as sns\n",
    "from sklearn.model_selection import train_test_split\n",
    "import csv\n",
    "from sklearn.preprocessing import MinMaxScaler\n",
    "from math import sqrt\n",
    "from sklearn.metrics import mean_squared_error \n",
    "from sklearn.preprocessing import LabelEncoder"
   ]
  },
  {
   "cell_type": "markdown",
   "id": "59cb0d2c",
   "metadata": {},
   "source": [
    "# Importing and splitting dataset"
   ]
  },
  {
   "cell_type": "code",
   "execution_count": 56,
   "id": "1370d4f1",
   "metadata": {},
   "outputs": [
    {
     "name": "stdout",
     "output_type": "stream",
     "text": [
      "     model  year  price  transmission  mileage  fuelType  tax   mpg  \\\n",
      "0        0  2017  12500             1    15735         2  150  55.4   \n",
      "1        5  2016  16500             0    36203         0   20  64.2   \n",
      "2        0  2016  11000             1    29946         2   30  55.4   \n",
      "3        3  2017  16800             0    25952         0  145  67.3   \n",
      "4        2  2019  17300             1     1998         2  145  49.6   \n",
      "..     ...   ...    ...           ...      ...       ...  ...   ...   \n",
      "995      2  2017  14995             1    14488         2  150  60.1   \n",
      "996      8  2019  22995             2     3049         2  150  43.5   \n",
      "997      5  2019  45995             2     7461         0  150  37.7   \n",
      "998     10  2017  33495             2    37492         2  150  34.0   \n",
      "999      4  2018  19495             2    36715         2  150  35.3   \n",
      "\n",
      "     engineSize  \n",
      "0           1.4  \n",
      "1           2.0  \n",
      "2           1.4  \n",
      "3           2.0  \n",
      "4           1.0  \n",
      "..          ...  \n",
      "995         1.4  \n",
      "996         1.5  \n",
      "997         3.0  \n",
      "998         3.0  \n",
      "999         3.0  \n",
      "\n",
      "[1000 rows x 9 columns]\n"
     ]
    }
   ],
   "source": [
    "file = pd.read_csv(\"audi.csv\", quotechar='\"', skipinitialspace=True)\n",
    "\n",
    "modelEncoder = LabelEncoder()\n",
    "modelEncoder.fit(file[\"model\"])\n",
    "file[\"model\"] = modelEncoder.transform(file[\"model\"])\n",
    "\n",
    "transmissionEncoder = LabelEncoder()\n",
    "transmissionEncoder.fit(file[\"transmission\"])\n",
    "file[\"transmission\"] = transmissionEncoder.transform(file[\"transmission\"])\n",
    "\n",
    "fuelTypeEncoder = LabelEncoder()\n",
    "fuelTypeEncoder.fit(file[\"fuelType\"])\n",
    "file[\"fuelType\"] = fuelTypeEncoder.transform(file[\"fuelType\"])\n",
    "\n",
    "file = file.head(1000)\n",
    "\n",
    "# X = file.drop(['price', 'model', 'transmission', 'fuelType'], axis = 1)\n",
    "X = file.drop(columns = ['price'])\n",
    "Y = file.price\n",
    "\n",
    "print(file)"
   ]
  },
  {
   "cell_type": "code",
   "execution_count": 57,
   "id": "20547b66",
   "metadata": {},
   "outputs": [],
   "source": [
    "X_train, X_test, Y_train, Y_test = train_test_split(X, Y, random_state = 601)"
   ]
  },
  {
   "cell_type": "markdown",
   "id": "a01d7d65",
   "metadata": {},
   "source": [
    "# Normalizing Data"
   ]
  },
  {
   "cell_type": "code",
   "execution_count": 58,
   "id": "f7d9da09",
   "metadata": {},
   "outputs": [],
   "source": [
    "scaler = MinMaxScaler()\n",
    "scaler.fit(X_train)\n",
    "\n",
    "X_train = scaler.transform(X_train)\n",
    "X_test = scaler.transform(X_test)"
   ]
  },
  {
   "cell_type": "markdown",
   "id": "c678044e",
   "metadata": {},
   "source": [
    "# KNN using Scikit-Learn"
   ]
  },
  {
   "cell_type": "code",
   "execution_count": 59,
   "id": "fc1496d0",
   "metadata": {},
   "outputs": [
    {
     "name": "stdout",
     "output_type": "stream",
     "text": [
      "0.8905304474015207\n"
     ]
    }
   ],
   "source": [
    "from sklearn.neighbors import KNeighborsRegressor as KNN_Reg\n",
    "knn = KNN_Reg(n_neighbors = 4)\n",
    "knn.fit(X_train, Y_train)\n",
    "print(knn.score(X_test, Y_test))"
   ]
  },
  {
   "cell_type": "code",
   "execution_count": 40,
   "id": "71eeb9c3",
   "metadata": {},
   "outputs": [
    {
     "data": {
      "text/plain": [
       "Text(0, 0.5, 'R^2')"
      ]
     },
     "execution_count": 40,
     "metadata": {},
     "output_type": "execute_result"
    },
    {
     "data": {
      "image/png": "[encoded data removed]",
      "text/plain": [
       "<Figure size 432x288 with 1 Axes>"
      ]
     },
     "metadata": {
      "needs_background": "light"
     },
     "output_type": "display_data"
    }
   ],
   "source": [
    "results = np.empty(99)\n",
    "for k in range(1, 100):\n",
    "    knn = KNN_Reg(n_neighbors = k)\n",
    "    knn.fit(X_train, Y_train)\n",
    "    results[k - 1] = (knn.score(X_test, Y_test))\n",
    "\n",
    "plt.plot(np.arange(99) + 1, results)\n",
    "plt.xlabel('K Neighbors')\n",
    "plt.ylabel('R^2')"
   ]
  },
  {
   "cell_type": "markdown",
   "id": "194750f5",
   "metadata": {},
   "source": [
    "# Euclidean Distance"
   ]
  },
  {
   "cell_type": "code",
   "execution_count": 80,
   "id": "d9ac5120",
   "metadata": {},
   "outputs": [],
   "source": [
    "times = 0\n",
    "def eucDistance(variable1, variable2):\n",
    "    global times\n",
    "    times += 1\n",
    "    distance = 0\n",
    "    for i in range(len(variable2)):\n",
    "        distance += (variable1[i] - variable2[i])**2\n",
    "    return np.sqrt(distance)"
   ]
  },
  {
   "cell_type": "markdown",
   "id": "3048d332",
   "metadata": {},
   "source": [
    "# KNN"
   ]
  },
  {
   "cell_type": "code",
   "execution_count": 83,
   "id": "83088256",
   "metadata": {
    "scrolled": false
   },
   "outputs": [],
   "source": [
    "def kNN(train, testRow, yTrain, num):\n",
    "    distance = list() #Stores distance of each point\n",
    "    print(len(train)-1) #DELETE AFTER\n",
    "    for i in range(len(train)-1):\n",
    "        dist = eucDistance(train[i], testRow) #sends points to work out distance\n",
    "        distance.append((train[i], dist, yTrain.iloc[i])) \n",
    "    distance = sort(distance) #need to create a sort method to order list\n",
    "#     print(\"DISTANCE: \", distance)\n",
    "    kNeighbours = list() #list to store K amount of neighbour results\n",
    "    for i in range(num):\n",
    "        kNeighbours.append((testRow, distance[i][1], distance[i][2]))\n",
    "    return kNeighbours "
   ]
  },
  {
   "cell_type": "markdown",
   "id": "c875cd65",
   "metadata": {},
   "source": [
    "# Sort Method"
   ]
  },
  {
   "cell_type": "code",
   "execution_count": 9,
   "id": "edf6ff4f",
   "metadata": {},
   "outputs": [],
   "source": [
    "def sort(dist):\n",
    "    for i in range(0, len(dist)):\n",
    "        for j in range(0, len(dist) - i - 1):\n",
    "            if (dist[j][1] > dist[j + 1][1]):\n",
    "                temp = dist[j]\n",
    "                dist[j] = dist[j + 1]\n",
    "                dist[j + 1] = temp\n",
    "    return dist"
   ]
  },
  {
   "cell_type": "markdown",
   "id": "b01b0161",
   "metadata": {},
   "source": [
    "# Predict Method"
   ]
  },
  {
   "cell_type": "code",
   "execution_count": 84,
   "id": "9b18d4dd",
   "metadata": {},
   "outputs": [],
   "source": [
    "from statistics import mean \n",
    "\n",
    "def predict(train, test, yTrain, num_neighbors):\n",
    "    predictions = list()\n",
    "    print(len(test)) #DELETE AFTER\n",
    "    for i in range(len(test)):\n",
    "        neighbour = kNN(train, test[i], yTrain, num_neighbors)\n",
    "        labels = [] #Stores yTrain for each test variable\n",
    "        for i in range (len(neighbour)):\n",
    "            t = labels.append(neighbour[i][2]) #Appends yTrain\n",
    "        predictions.append(mean(labels))\n",
    "    return predictions"
   ]
  },
  {
   "cell_type": "markdown",
   "id": "04a48e36",
   "metadata": {},
   "source": [
    "# RMSE"
   ]
  },
  {
   "cell_type": "code",
   "execution_count": 11,
   "id": "b99faa40",
   "metadata": {},
   "outputs": [],
   "source": [
    "# def rmse(test, pred):\n",
    "#   return sqrt(mean_squared_error(test, pred))"
   ]
  },
  {
   "cell_type": "code",
   "execution_count": 12,
   "id": "b4462652",
   "metadata": {},
   "outputs": [],
   "source": [
    "def rmse(test, pred):\n",
    "    MSE = np.square(np.subtract(test, pred)).mean()\n",
    "    return sqrt(MSE)"
   ]
  },
  {
   "cell_type": "markdown",
   "id": "a8de250c",
   "metadata": {},
   "source": [
    "# Evaluation Method"
   ]
  },
  {
   "cell_type": "code",
   "execution_count": 77,
   "id": "96889625",
   "metadata": {},
   "outputs": [],
   "source": [
    "def eva(train, test, yTrain, yTest):\n",
    "    rmseValues = []\n",
    "    predictions = []\n",
    "    global times\n",
    "    for k in range(1, 101): #Testing up to 100 neearest neighbours\n",
    "        y_pred = predict(train, test, yTrain, k)\n",
    "\n",
    "        error = rmse(yTest, y_pred) \n",
    "        rmseValues.append(error)\n",
    "        print('RMSE value for k =' , k , 'is:', error)\n",
    "        \n",
    "    print(times)\n",
    "    plt.plot(np.arange(100) + 1, rmseValues)\n",
    "    plt.xlabel('K Neighbors')\n",
    "    plt.ylabel('RMSE')\n",
    "    \n",
    "    return"
   ]
  },
  {
   "cell_type": "code",
   "execution_count": 78,
   "id": "b171177e",
   "metadata": {
    "scrolled": false
   },
   "outputs": [
    {
     "name": "stdout",
     "output_type": "stream",
     "text": [
      "RMSE value for k = 1 is: 4391.975156122812\n",
      "RMSE value for k = 2 is: 3734.0649244489578\n",
      "RMSE value for k = 3 is: 3591.0428997715967\n",
      "RMSE value for k = 4 is: 3448.404210645846\n",
      "RMSE value for k = 5 is: 3484.1985695422127\n",
      "RMSE value for k = 6 is: 3678.690181029112\n",
      "RMSE value for k = 7 is: 3769.1760924637097\n",
      "RMSE value for k = 8 is: 3856.90292851661\n",
      "RMSE value for k = 9 is: 3961.477118449632\n",
      "RMSE value for k = 10 is: 4008.59947313273\n",
      "RMSE value for k = 11 is: 4086.887614309941\n",
      "RMSE value for k = 12 is: 4108.21746308542\n",
      "RMSE value for k = 13 is: 4097.049767332586\n",
      "RMSE value for k = 14 is: 4151.237781192496\n",
      "RMSE value for k = 15 is: 4233.796573762135\n",
      "RMSE value for k = 16 is: 4262.848889651145\n",
      "RMSE value for k = 17 is: 4283.135260997486\n",
      "RMSE value for k = 18 is: 4329.574213245455\n",
      "RMSE value for k = 19 is: 4380.320382346478\n",
      "RMSE value for k = 20 is: 4396.951632665522\n",
      "RMSE value for k = 21 is: 4438.5204525832705\n",
      "RMSE value for k = 22 is: 4470.101421220776\n",
      "RMSE value for k = 23 is: 4536.699279872978\n",
      "RMSE value for k = 24 is: 4592.658693175446\n",
      "RMSE value for k = 25 is: 4642.866166496726\n",
      "RMSE value for k = 26 is: 4674.992485555458\n",
      "RMSE value for k = 27 is: 4720.5511644298485\n",
      "RMSE value for k = 28 is: 4779.725144398995\n",
      "RMSE value for k = 29 is: 4850.236010340115\n",
      "RMSE value for k = 30 is: 4907.66255848953\n",
      "RMSE value for k = 31 is: 4956.977616653116\n",
      "RMSE value for k = 32 is: 4975.958316545668\n",
      "RMSE value for k = 33 is: 4991.0407744277145\n",
      "RMSE value for k = 34 is: 5027.469937055815\n",
      "RMSE value for k = 35 is: 5042.757519453023\n",
      "RMSE value for k = 36 is: 5049.012522860287\n",
      "RMSE value for k = 37 is: 5087.137333707436\n",
      "RMSE value for k = 38 is: 5119.81338566163\n",
      "RMSE value for k = 39 is: 5149.354147463544\n",
      "RMSE value for k = 40 is: 5186.176998907769\n",
      "RMSE value for k = 41 is: 5185.594210117101\n",
      "RMSE value for k = 42 is: 5214.852059646563\n",
      "RMSE value for k = 43 is: 5239.458860989367\n",
      "RMSE value for k = 44 is: 5253.585649059126\n",
      "RMSE value for k = 45 is: 5280.224490303419\n",
      "RMSE value for k = 46 is: 5281.783949008138\n",
      "RMSE value for k = 47 is: 5315.774040720693\n",
      "RMSE value for k = 48 is: 5343.577702625836\n",
      "RMSE value for k = 49 is: 5361.786472063206\n",
      "RMSE value for k = 50 is: 5373.345620374703\n",
      "RMSE value for k = 51 is: 5392.4734213531365\n",
      "RMSE value for k = 52 is: 5412.169981439977\n",
      "RMSE value for k = 53 is: 5435.811770839752\n",
      "RMSE value for k = 54 is: 5447.51438841606\n",
      "RMSE value for k = 55 is: 5455.314621174474\n",
      "RMSE value for k = 56 is: 5479.854241492195\n",
      "RMSE value for k = 57 is: 5513.75111915654\n",
      "RMSE value for k = 58 is: 5543.440260343752\n",
      "RMSE value for k = 59 is: 5573.097547683873\n",
      "RMSE value for k = 60 is: 5609.555068630666\n",
      "RMSE value for k = 61 is: 5646.711359366618\n",
      "RMSE value for k = 62 is: 5670.979241012967\n",
      "RMSE value for k = 63 is: 5715.857500323114\n",
      "RMSE value for k = 64 is: 5738.9190348008915\n",
      "RMSE value for k = 65 is: 5765.5828229243225\n",
      "RMSE value for k = 66 is: 5793.547938180886\n",
      "RMSE value for k = 67 is: 5814.347308855913\n",
      "RMSE value for k = 68 is: 5854.352987649447\n",
      "RMSE value for k = 69 is: 5886.59214146861\n",
      "RMSE value for k = 70 is: 5917.917340416306\n",
      "RMSE value for k = 71 is: 5952.035989474526\n",
      "RMSE value for k = 72 is: 5966.603434450793\n",
      "RMSE value for k = 73 is: 5987.181884993975\n",
      "RMSE value for k = 74 is: 6015.301150898432\n",
      "RMSE value for k = 75 is: 6030.0118918622375\n",
      "RMSE value for k = 76 is: 6061.473811211264\n",
      "RMSE value for k = 77 is: 6088.442802227841\n",
      "RMSE value for k = 78 is: 6104.71768454529\n",
      "RMSE value for k = 79 is: 6133.123221328591\n",
      "RMSE value for k = 80 is: 6160.30364413963\n",
      "RMSE value for k = 81 is: 6185.479603393742\n",
      "RMSE value for k = 82 is: 6205.796268650784\n",
      "RMSE value for k = 83 is: 6235.417646637633\n",
      "RMSE value for k = 84 is: 6258.596450642907\n",
      "RMSE value for k = 85 is: 6284.903302358756\n",
      "RMSE value for k = 86 is: 6318.744922530106\n",
      "RMSE value for k = 87 is: 6345.586256288697\n",
      "RMSE value for k = 88 is: 6375.806879760396\n",
      "RMSE value for k = 89 is: 6400.126099695224\n",
      "RMSE value for k = 90 is: 6428.412721971109\n",
      "RMSE value for k = 91 is: 6459.276123839265\n",
      "RMSE value for k = 92 is: 6481.0352009536255\n",
      "RMSE value for k = 93 is: 6509.264947749477\n",
      "RMSE value for k = 94 is: 6534.930897568849\n",
      "RMSE value for k = 95 is: 6562.877871482906\n",
      "RMSE value for k = 96 is: 6586.031371622823\n",
      "RMSE value for k = 97 is: 6603.461399599456\n",
      "RMSE value for k = 98 is: 6628.092172563685\n",
      "RMSE value for k = 99 is: 6647.664560731085\n",
      "RMSE value for k = 100 is: 6669.9174006879575\n",
      "18832856\n"
     ]
    },
    {
     "data": {
      "image/png": "[encoded data removed]",
      "text/plain": [
       "<Figure size 432x288 with 1 Axes>"
      ]
     },
     "metadata": {
      "needs_background": "light"
     },
     "output_type": "display_data"
    }
   ],
   "source": [
    "eva(X_train, X_test, Y_train, Y_test)"
   ]
  },
  {
   "cell_type": "markdown",
   "id": "9ea277f8",
   "metadata": {},
   "source": [
    "# 1NN"
   ]
  },
  {
   "cell_type": "code",
   "execution_count": 85,
   "id": "c25c2b7e",
   "metadata": {},
   "outputs": [
    {
     "name": "stdout",
     "output_type": "stream",
     "text": [
      "250\n",
      "749\n",
      "749\n",
      "749\n",
      "749\n",
      "749\n",
      "749\n",
      "749\n",
      "749\n",
      "749\n",
      "749\n",
      "749\n",
      "749\n",
      "749\n",
      "749\n",
      "749\n",
      "749\n",
      "749\n",
      "749\n",
      "749\n",
      "749\n",
      "749\n",
      "749\n",
      "749\n",
      "749\n",
      "749\n",
      "749\n",
      "749\n",
      "749\n",
      "749\n",
      "749\n",
      "749\n",
      "749\n",
      "749\n",
      "749\n",
      "749\n",
      "749\n",
      "749\n",
      "749\n",
      "749\n",
      "749\n",
      "749\n",
      "749\n",
      "749\n",
      "749\n",
      "749\n",
      "749\n",
      "749\n",
      "749\n",
      "749\n",
      "749\n",
      "749\n",
      "749\n",
      "749\n",
      "749\n",
      "749\n",
      "749\n",
      "749\n",
      "749\n",
      "749\n",
      "749\n",
      "749\n",
      "749\n",
      "749\n",
      "749\n",
      "749\n",
      "749\n",
      "749\n",
      "749\n",
      "749\n",
      "749\n",
      "749\n",
      "749\n",
      "749\n",
      "749\n",
      "749\n",
      "749\n",
      "749\n",
      "749\n",
      "749\n",
      "749\n",
      "749\n",
      "749\n",
      "749\n",
      "749\n",
      "749\n",
      "749\n",
      "749\n",
      "749\n",
      "749\n",
      "749\n",
      "749\n",
      "749\n",
      "749\n",
      "749\n",
      "749\n",
      "749\n",
      "749\n",
      "749\n",
      "749\n",
      "749\n",
      "749\n",
      "749\n",
      "749\n",
      "749\n",
      "749\n",
      "749\n",
      "749\n",
      "749\n",
      "749\n",
      "749\n",
      "749\n",
      "749\n",
      "749\n",
      "749\n",
      "749\n",
      "749\n",
      "749\n",
      "749\n",
      "749\n",
      "749\n",
      "749\n",
      "749\n",
      "749\n",
      "749\n",
      "749\n",
      "749\n",
      "749\n",
      "749\n",
      "749\n",
      "749\n",
      "749\n",
      "749\n",
      "749\n",
      "749\n",
      "749\n",
      "749\n",
      "749\n",
      "749\n",
      "749\n",
      "749\n",
      "749\n",
      "749\n",
      "749\n",
      "749\n",
      "749\n",
      "749\n",
      "749\n",
      "749\n",
      "749\n",
      "749\n",
      "749\n",
      "749\n",
      "749\n",
      "749\n",
      "749\n",
      "749\n",
      "749\n",
      "749\n",
      "749\n",
      "749\n",
      "749\n",
      "749\n",
      "749\n",
      "749\n",
      "749\n",
      "749\n",
      "749\n",
      "749\n",
      "749\n",
      "749\n",
      "749\n",
      "749\n",
      "749\n",
      "749\n",
      "749\n",
      "749\n",
      "749\n",
      "749\n",
      "749\n",
      "749\n",
      "749\n",
      "749\n",
      "749\n",
      "749\n",
      "749\n",
      "749\n",
      "749\n",
      "749\n",
      "749\n",
      "749\n",
      "749\n",
      "749\n",
      "749\n",
      "749\n",
      "749\n",
      "749\n",
      "749\n",
      "749\n",
      "749\n",
      "749\n",
      "749\n",
      "749\n",
      "749\n",
      "749\n",
      "749\n",
      "749\n",
      "749\n",
      "749\n",
      "749\n",
      "749\n",
      "749\n",
      "749\n",
      "749\n",
      "749\n",
      "749\n",
      "749\n",
      "749\n",
      "749\n",
      "749\n",
      "749\n",
      "749\n",
      "749\n",
      "749\n",
      "749\n",
      "749\n",
      "749\n",
      "749\n",
      "749\n",
      "749\n",
      "749\n",
      "749\n",
      "749\n",
      "749\n",
      "749\n",
      "749\n",
      "749\n",
      "749\n",
      "749\n",
      "749\n",
      "749\n",
      "749\n",
      "749\n",
      "749\n",
      "749\n",
      "749\n",
      "749\n",
      "749\n",
      "749\n",
      "749\n",
      "749\n",
      "RMSE value for k = 4 is: 3448.404210645846\n",
      "374500\n"
     ]
    }
   ],
   "source": [
    "def NN(train, test, yTrain, yTest):    \n",
    "    y_pred = predict(train, test, yTrain, 4)\n",
    "    error = rmse(yTest, y_pred) \n",
    "    print('RMSE value for k =' , 4 , 'is:', error)\n",
    "#     for i in range(len(y_pred)):\n",
    "#         print(\"\\nOriginal value:\", yTest.iloc[i], \"vs the predicted value:\", y_pred[i])\n",
    "#         print(\"The difference is:\", yTest.iloc[i] - y_pred[i])\n",
    "    print(times)\n",
    "    \n",
    "    ### Below is attempt to put data on bar chart\n",
    "#     YTest = pd.DataFrame(yTest)\n",
    "# #     y_pred = pd.DataFrame(y_pred)\n",
    "# #     y_pred = pd.DataFrame({'Price_prediction': y_pred.flatten()})\n",
    "# #     Comparison = yTest.join(y_pred)\n",
    "#     plt.bar(yTest, y_pred)\n",
    "# #     plt.grid(linestyle = '-', linewidth = '0.6', color = 'green', which = 'both')\n",
    "#     plt.show()\n",
    "    return \n",
    "NN(X_train, X_test, Y_train, Y_test)"
   ]
  },
  {
   "cell_type": "markdown",
   "id": "ab3fe286",
   "metadata": {},
   "source": [
    "# User Input Predictions"
   ]
  },
  {
   "cell_type": "code",
   "execution_count": 16,
   "id": "53ff36e2",
   "metadata": {
    "scrolled": true
   },
   "outputs": [
    {
     "name": "stdout",
     "output_type": "stream",
     "text": [
      "What Model is your car? RS6\n",
      "What year is your car? 2016\n",
      "What transmission is your car? Semi-Auto\n",
      "How much mileage does your car have? 49050\n",
      "What's your car fuel type? Petrol\n",
      "How much is your cars tax? 325\n",
      "What's MPG of your car? 29.4\n",
      "What the engine size of your car? 4\n",
      "Predicted price for your car is: £ 44717\n"
     ]
    },
    {
     "name": "stderr",
     "output_type": "stream",
     "text": [
      "C:\\Users\\rb22\\anaconda3\\lib\\site-packages\\sklearn\\base.py:450: UserWarning: X does not have valid feature names, but MinMaxScaler was fitted with feature names\n",
      "  warnings.warn(\n"
     ]
    }
   ],
   "source": [
    "inputPred = []\n",
    "entries = []\n",
    "\n",
    "# print(list(modelEncoder.classes_))\n",
    "inputPred.append((modelEncoder.transform([input(\"What Model is your car? \")]))[0])\n",
    "inputPred.append(int(input(\"What year is your car? \")))\n",
    "inputPred.append((transmissionEncoder.transform([input(\"What transmission is your car? \")]))[0])\n",
    "inputPred.append(int(input(\"How much mileage does your car have? \")))\n",
    "inputPred.append((fuelTypeEncoder.transform([input(\"What's your car fuel type? \")]))[0])\n",
    "inputPred.append(int(input(\"How much is your cars tax? \")))\n",
    "inputPred.append(float(input(\"What's MPG of your car? \")))\n",
    "inputPred.append(float(input(\"What the engine size of your car? \")))\n",
    "entries.append(inputPred)\n",
    "inputPred = scaler.transform([inputPred])\n",
    "\n",
    "y_pred = predict(X_train, inputPred, Y_train, 4)\n",
    "# {0:.2f}'.format()\n",
    "print(\"Predicted price for your car is: £\", y_pred[0])\n",
    "# RS6,2016,44985,Semi-Auto,49050,Petrol,325,29.4,4.0"
   ]
  },
  {
   "cell_type": "markdown",
   "id": "8b430fe1",
   "metadata": {},
   "source": [
    "# Scikit-Learn User Input Predictions"
   ]
  },
  {
   "cell_type": "code",
   "execution_count": 17,
   "id": "252565db",
   "metadata": {},
   "outputs": [
    {
     "data": {
      "text/plain": [
       "array([28213.88888889])"
      ]
     },
     "execution_count": 17,
     "metadata": {},
     "output_type": "execute_result"
    }
   ],
   "source": [
    "knn.predict(inputPred)"
   ]
  }
 ],
 "metadata": {
  "kernelspec": {
   "display_name": "Python 3 (ipykernel)",
   "language": "python",
   "name": "python3"
  },
  "language_info": {
   "codemirror_mode": {
    "name": "ipython",
    "version": 3
   },
   "file_extension": ".py",
   "mimetype": "text/x-python",
   "name": "python",
   "nbconvert_exporter": "python",
   "pygments_lexer": "ipython3",
   "version": "3.9.12"
  },
  "vscode": {
   "interpreter": {
    "hash": "83ff51d9f317b8ca80e5f143d4ddaebd5941bdc4ce038cf0be07ab08422cb26b"
   }
  }
 },
 "nbformat": 4,
 "nbformat_minor": 5
}
