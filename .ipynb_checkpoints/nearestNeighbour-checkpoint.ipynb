{
 "cells": [
  {
   "cell_type": "markdown",
   "id": "76fc843b",
   "metadata": {},
   "source": [
    "# Imports"
   ]
  },
  {
   "cell_type": "code",
   "execution_count": 1,
   "id": "679ac403",
   "metadata": {},
   "outputs": [],
   "source": [
    "import numpy as np\n",
    "import matplotlib.pyplot as plt\n",
    "import pandas as pd\n",
    "import seaborn as sns\n",
    "from sklearn.model_selection import train_test_split\n",
    "import csv\n",
    "from sklearn.preprocessing import MinMaxScaler\n",
    "from math import sqrt\n",
    "from sklearn.metrics import mean_squared_error "
   ]
  },
  {
   "cell_type": "markdown",
   "id": "59cb0d2c",
   "metadata": {},
   "source": [
    "# Importing and splitting dataset"
   ]
  },
  {
   "cell_type": "code",
   "execution_count": 26,
   "id": "1370d4f1",
   "metadata": {},
   "outputs": [
    {
     "name": "stdout",
     "output_type": "stream",
     "text": [
      "     year  price  mileage  tax   mpg  engineSize  model_A1  model_A2  \\\n",
      "0    2017  12500    15735  150  55.4         1.4         1         0   \n",
      "1    2016  16500    36203   20  64.2         2.0         0         0   \n",
      "2    2016  11000    29946   30  55.4         1.4         1         0   \n",
      "3    2017  16800    25952  145  67.3         2.0         0         0   \n",
      "4    2019  17300     1998  145  49.6         1.0         0         0   \n",
      "..    ...    ...      ...  ...   ...         ...       ...       ...   \n",
      "495  2018  18990     6321  145  50.4         2.0         0         0   \n",
      "496  2018  40990     4440  145  37.7         3.0         0         0   \n",
      "497  2019  23995     2085  145  51.4         1.6         0         0   \n",
      "498  2019  37995     2712  145  38.2         2.0         0         0   \n",
      "499  2019  33410     3968  145  47.9         2.0         0         0   \n",
      "\n",
      "     model_A3  model_A4  ...  model_S8  model_SQ5  model_SQ7  model_TT  \\\n",
      "0           0         0  ...         0          0          0         0   \n",
      "1           0         0  ...         0          0          0         0   \n",
      "2           0         0  ...         0          0          0         0   \n",
      "3           0         1  ...         0          0          0         0   \n",
      "4           1         0  ...         0          0          0         0   \n",
      "..        ...       ...  ...       ...        ...        ...       ...   \n",
      "495         1         0  ...         0          0          0         0   \n",
      "496         0         0  ...         0          0          0         0   \n",
      "497         1         0  ...         0          0          0         0   \n",
      "498         0         0  ...         0          0          0         0   \n",
      "499         0         0  ...         0          0          0         0   \n",
      "\n",
      "     transmission_Automatic  transmission_Manual  transmission_Semi-Auto  \\\n",
      "0                         0                    1                       0   \n",
      "1                         1                    0                       0   \n",
      "2                         0                    1                       0   \n",
      "3                         1                    0                       0   \n",
      "4                         0                    1                       0   \n",
      "..                      ...                  ...                     ...   \n",
      "495                       0                    1                       0   \n",
      "496                       0                    0                       1   \n",
      "497                       0                    1                       0   \n",
      "498                       0                    0                       1   \n",
      "499                       0                    0                       1   \n",
      "\n",
      "     fuelType_Diesel  fuelType_Hybrid  fuelType_Petrol  \n",
      "0                  0                0                1  \n",
      "1                  1                0                0  \n",
      "2                  0                0                1  \n",
      "3                  1                0                0  \n",
      "4                  0                0                1  \n",
      "..               ...              ...              ...  \n",
      "495                0                0                1  \n",
      "496                0                0                1  \n",
      "497                1                0                0  \n",
      "498                1                0                0  \n",
      "499                1                0                0  \n",
      "\n",
      "[500 rows x 38 columns]\n"
     ]
    }
   ],
   "source": [
    "file1 = pd.read_csv(\"audi.csv\", quotechar='\"', skipinitialspace=True)\n",
    "file = pd.get_dummies(file1)\n",
    "\n",
    "file = file.head(500)\n",
    "# X = file.drop(['price', 'model', 'transmission', 'fuelType'], axis = 1)\n",
    "X = file.drop(columns = ['price'])\n",
    "Y = file.price\n",
    " \n",
    "# X = X.head(200)\n",
    "# Y = Y.head(200)\n",
    "print(file)"
   ]
  },
  {
   "cell_type": "code",
   "execution_count": 3,
   "id": "38c1f206",
   "metadata": {},
   "outputs": [],
   "source": [
    "# min_max_scaler = MinMaxScaler() \n",
    "# test = pd.get_dummies(file1)\n",
    "# test.head()\n",
    "# test_1 = min_max_scaler.fit_transform(test.drop(columns= ['price']))\n",
    "\n",
    "# test_2 = pd.DataFrame(test_1)                                                        #Here, we see all the 37 features scaled from 0 to 1. One additional unscaled price column converted from scaled price column.  \n",
    "# price = file1['price']        \n",
    "# frames = [test_2,price]\n",
    "# test_3=pd.concat(frames,axis=1)\n",
    "# print(test_3)\n",
    "\n",
    "# X_train, X_test, Y_train, Y_test = train_test_split(test_3.drop(columns = ['price']),\n",
    "#                                                     test_3[['price']], test_size = 0.2, random_state = 42)"
   ]
  },
  {
   "cell_type": "code",
   "execution_count": 4,
   "id": "ab8f4612",
   "metadata": {},
   "outputs": [],
   "source": [
    "# print(test)"
   ]
  },
  {
   "cell_type": "code",
   "execution_count": 27,
   "id": "20547b66",
   "metadata": {},
   "outputs": [
    {
     "name": "stdout",
     "output_type": "stream",
     "text": [
      "(125, 37)\n",
      "(375, 37)\n"
     ]
    }
   ],
   "source": [
    "X_train, X_test, Y_train, Y_test = train_test_split(X, Y, random_state = 601)\n",
    "print(X_test.shape)\n",
    "print(X_train.shape)"
   ]
  },
  {
   "cell_type": "markdown",
   "id": "a01d7d65",
   "metadata": {},
   "source": [
    "# Normalizing Data"
   ]
  },
  {
   "cell_type": "code",
   "execution_count": 41,
   "id": "f7d9da09",
   "metadata": {},
   "outputs": [
    {
     "name": "stdout",
     "output_type": "stream",
     "text": [
      "[[0.57142857 0.45704033 0.25663717 ... 1.         0.         0.        ]\n",
      " [0.85714286 0.         0.25663717 ... 1.         0.         0.        ]\n",
      " [0.85714286 0.12443142 0.26548673 ... 0.         0.         1.        ]\n",
      " ...\n",
      " [0.85714286 0.01873042 0.25663717 ... 1.         0.         0.        ]\n",
      " [0.42857143 0.23548974 0.28318584 ... 1.         0.         0.        ]\n",
      " [0.28571429 0.76426766 0.03539823 ... 1.         0.         0.        ]]\n"
     ]
    }
   ],
   "source": [
    "scaler = MinMaxScaler()\n",
    "scaler.fit(X_train)\n",
    "\n",
    "X_train = scaler.transform(X_train)\n",
    "X_test = scaler.transform(X_test)\n",
    "\n",
    "print(X_test)"
   ]
  },
  {
   "cell_type": "markdown",
   "id": "c678044e",
   "metadata": {},
   "source": [
    "# KNN using Scikit-Learn"
   ]
  },
  {
   "cell_type": "code",
   "execution_count": 29,
   "id": "fc1496d0",
   "metadata": {},
   "outputs": [
    {
     "name": "stdout",
     "output_type": "stream",
     "text": [
      "0.7428706562698806\n"
     ]
    }
   ],
   "source": [
    "from sklearn.neighbors import KNeighborsRegressor as KNN_Reg\n",
    "knn = KNN_Reg(n_neighbors = 5)\n",
    "knn.fit(X_train, Y_train)\n",
    "print(knn.score(X_test, Y_test))"
   ]
  },
  {
   "cell_type": "code",
   "execution_count": 30,
   "id": "71eeb9c3",
   "metadata": {},
   "outputs": [
    {
     "data": {
      "text/plain": [
       "Text(0, 0.5, 'R^2')"
      ]
     },
     "execution_count": 30,
     "metadata": {},
     "output_type": "execute_result"
    },
    {
     "data": {
      "image/png": "[encoded data removed]",
      "text/plain": [
       "<Figure size 432x288 with 1 Axes>"
      ]
     },
     "metadata": {
      "needs_background": "light"
     },
     "output_type": "display_data"
    }
   ],
   "source": [
    "results = np.empty(99)\n",
    "for k in range(1, 100):\n",
    "    knn = KNN_Reg(n_neighbors = k)\n",
    "    knn.fit(X_train, Y_train)\n",
    "    results[k - 1] = (knn.score(X_test, Y_test))\n",
    "\n",
    "plt.plot(np.arange(99) + 1, results)\n",
    "plt.xlabel('K Neighbors')\n",
    "plt.ylabel('R^2')"
   ]
  },
  {
   "cell_type": "markdown",
   "id": "194750f5",
   "metadata": {},
   "source": [
    "# Euclidean Distance"
   ]
  },
  {
   "cell_type": "code",
   "execution_count": 31,
   "id": "d9ac5120",
   "metadata": {},
   "outputs": [],
   "source": [
    "def eucDistance(variable1, variable2):\n",
    "    distance = 0\n",
    "    for i in range(len(variable2)):\n",
    "        distance += (variable1[i] - variable2[i])**2\n",
    "    return np.sqrt(distance)"
   ]
  },
  {
   "cell_type": "markdown",
   "id": "3048d332",
   "metadata": {},
   "source": [
    "# KNN"
   ]
  },
  {
   "cell_type": "code",
   "execution_count": 32,
   "id": "83088256",
   "metadata": {
    "scrolled": false
   },
   "outputs": [],
   "source": [
    "def kNN(train, testRow, yTrain, yTest, num):\n",
    "    distance = list() #Stores distance of each point\n",
    "    for i in range(len(train)-1):\n",
    "        dist = eucDistance(train[i], testRow) #sends points to work out distance\n",
    "        distance.append((train[i], dist, yTrain.iloc[i])) \n",
    "    distance = sort(distance) #need to create a sort method to order list\n",
    "    kNeighbours = list() #list to store K amount of neighbour results\n",
    "    for i in range(num):\n",
    "        kNeighbours.append((testRow, distance[i][1], distance[i][2]))\n",
    "    return kNeighbours "
   ]
  },
  {
   "cell_type": "markdown",
   "id": "c875cd65",
   "metadata": {},
   "source": [
    "# Sort Method"
   ]
  },
  {
   "cell_type": "code",
   "execution_count": 33,
   "id": "edf6ff4f",
   "metadata": {},
   "outputs": [],
   "source": [
    "def sort(dist):\n",
    "    for i in range(0, len(dist)):\n",
    "        for j in range(0, len(dist) - i - 1):\n",
    "            if (dist[j][1] > dist[j + 1][1]):\n",
    "                temp = dist[j]\n",
    "                dist[j] = dist[j + 1]\n",
    "                dist[j + 1] = temp\n",
    "    return dist"
   ]
  },
  {
   "cell_type": "markdown",
   "id": "b01b0161",
   "metadata": {},
   "source": [
    "# Predict Method"
   ]
  },
  {
   "cell_type": "code",
   "execution_count": 39,
   "id": "9b18d4dd",
   "metadata": {},
   "outputs": [],
   "source": [
    "from statistics import mean \n",
    "\n",
    "def predict(train, test, yTrain, yTest, num_neighbors):\n",
    "    predictions = list()\n",
    "    for i in range(len(test)): #Sends each test variable\n",
    "#         print(\"Predicting:\", i)\n",
    "        neighbour = kNN(train, test[i], yTrain, yTest, num_neighbors)\n",
    "        labels = [] #Stores yTrain for each test variable\n",
    "        for i in range (len(neighbour)):\n",
    "            t = labels.append(neighbour[i][2]) #Appends yTrain\n",
    "        predictions.append(mean(labels))\n",
    "    return predictions"
   ]
  },
  {
   "cell_type": "markdown",
   "id": "62ea6025",
   "metadata": {},
   "source": [
    "# RMSE"
   ]
  },
  {
   "cell_type": "code",
   "execution_count": 35,
   "id": "2bd3b09d",
   "metadata": {},
   "outputs": [],
   "source": [
    "def rmse(test, pred):\n",
    "  return sqrt(mean_squared_error(test, pred))"
   ]
  },
  {
   "cell_type": "markdown",
   "id": "a8de250c",
   "metadata": {},
   "source": [
    "# Evaluation Method"
   ]
  },
  {
   "cell_type": "code",
   "execution_count": 38,
   "id": "96889625",
   "metadata": {},
   "outputs": [],
   "source": [
    "def eva(train, test, yTrain, yTest):\n",
    "    rmseValues = []\n",
    "    for k in range(1, 101): #Testing up to 100 neearest neighbours\n",
    "        y_pred = predict(train, test, yTrain, yTest, k)\n",
    "\n",
    "        error = rmse(yTest, y_pred) \n",
    "        rmseValues.append(error)\n",
    "        print('RMSE value for k =' , k , 'is:', error)\n",
    "        \n",
    "    plt.plot(np.arange(100) + 1, rmseValues)\n",
    "    plt.xlabel('K Neighbors')\n",
    "    plt.ylabel('RMSE')\n",
    "    \n",
    "    return"
   ]
  },
  {
   "cell_type": "code",
   "execution_count": 40,
   "id": "b171177e",
   "metadata": {
    "scrolled": false
   },
   "outputs": [
    {
     "name": "stdout",
     "output_type": "stream",
     "text": [
      "RMSE value for k = 1 is: 4517.426293809342\n",
      "RMSE value for k = 2 is: 3877.24469385155\n",
      "RMSE value for k = 3 is: 4534.2654990637675\n",
      "RMSE value for k = 4 is: 4541.322148449722\n",
      "RMSE value for k = 5 is: 4619.32342318656\n",
      "RMSE value for k = 6 is: 4906.193709180265\n",
      "RMSE value for k = 7 is: 4761.09416500031\n",
      "RMSE value for k = 8 is: 4776.380753666944\n",
      "RMSE value for k = 9 is: 4830.76483633803\n",
      "RMSE value for k = 10 is: 4826.136889894442\n",
      "RMSE value for k = 11 is: 4664.4256435278285\n",
      "RMSE value for k = 12 is: 4560.3120454635555\n",
      "RMSE value for k = 13 is: 4577.428829375723\n",
      "RMSE value for k = 14 is: 4575.953272488696\n",
      "RMSE value for k = 15 is: 4522.506258259904\n",
      "RMSE value for k = 16 is: 4488.675195199581\n",
      "RMSE value for k = 17 is: 4498.299460018196\n",
      "RMSE value for k = 18 is: 4482.065879926354\n",
      "RMSE value for k = 19 is: 4477.457106885559\n",
      "RMSE value for k = 20 is: 4455.446206161623\n",
      "RMSE value for k = 21 is: 4358.542988660316\n",
      "RMSE value for k = 22 is: 4250.4592711847035\n",
      "RMSE value for k = 23 is: 4206.794378621327\n",
      "RMSE value for k = 24 is: 4183.066282047178\n",
      "RMSE value for k = 25 is: 4184.877182427222\n",
      "RMSE value for k = 26 is: 4175.354379211422\n",
      "RMSE value for k = 27 is: 4151.215129091722\n",
      "RMSE value for k = 28 is: 4188.2305103706985\n",
      "RMSE value for k = 29 is: 4196.322901779605\n",
      "RMSE value for k = 30 is: 4202.924488496076\n",
      "RMSE value for k = 31 is: 4202.969138121288\n",
      "RMSE value for k = 32 is: 4182.0841101058695\n",
      "RMSE value for k = 33 is: 4224.069299620924\n",
      "RMSE value for k = 34 is: 4220.9881866690885\n",
      "RMSE value for k = 35 is: 4222.7663255264315\n",
      "RMSE value for k = 36 is: 4258.471476011082\n",
      "RMSE value for k = 37 is: 4285.848829811896\n",
      "RMSE value for k = 38 is: 4326.930823574604\n",
      "RMSE value for k = 39 is: 4360.119810280447\n",
      "RMSE value for k = 40 is: 4386.673486823473\n",
      "RMSE value for k = 41 is: 4412.462656612518\n",
      "RMSE value for k = 42 is: 4447.900023156995\n",
      "RMSE value for k = 43 is: 4485.769614235666\n",
      "RMSE value for k = 44 is: 4482.339960333218\n",
      "RMSE value for k = 45 is: 4510.106602731248\n",
      "RMSE value for k = 46 is: 4507.683892200073\n",
      "RMSE value for k = 47 is: 4511.550745364613\n",
      "RMSE value for k = 48 is: 4531.02336608409\n",
      "RMSE value for k = 49 is: 4555.994841085753\n",
      "RMSE value for k = 50 is: 4570.077773517645\n",
      "RMSE value for k = 51 is: 4624.428407489946\n",
      "RMSE value for k = 52 is: 4687.213460468811\n",
      "RMSE value for k = 53 is: 4719.841533780556\n",
      "RMSE value for k = 54 is: 4766.327703379196\n",
      "RMSE value for k = 55 is: 4819.534243887058\n",
      "RMSE value for k = 56 is: 4869.364819357859\n",
      "RMSE value for k = 57 is: 4932.949241174087\n",
      "RMSE value for k = 58 is: 4972.461902920926\n",
      "RMSE value for k = 59 is: 5027.106470326643\n",
      "RMSE value for k = 60 is: 5087.78466604081\n",
      "RMSE value for k = 61 is: 5117.59771611642\n",
      "RMSE value for k = 62 is: 5159.283589801979\n",
      "RMSE value for k = 63 is: 5219.549267896607\n",
      "RMSE value for k = 64 is: 5283.211350684354\n",
      "RMSE value for k = 65 is: 5337.653233397614\n",
      "RMSE value for k = 66 is: 5384.962670994108\n",
      "RMSE value for k = 67 is: 5437.217867990946\n",
      "RMSE value for k = 68 is: 5475.011666836885\n",
      "RMSE value for k = 69 is: 5533.625923027324\n",
      "RMSE value for k = 70 is: 5573.704185189595\n",
      "RMSE value for k = 71 is: 5593.262257395053\n",
      "RMSE value for k = 72 is: 5614.938166712079\n",
      "RMSE value for k = 73 is: 5663.575681139963\n",
      "RMSE value for k = 74 is: 5719.047571055866\n",
      "RMSE value for k = 75 is: 5790.075139408815\n",
      "RMSE value for k = 76 is: 5849.423570233224\n",
      "RMSE value for k = 77 is: 5903.626900135204\n",
      "RMSE value for k = 78 is: 5942.9263808329315\n",
      "RMSE value for k = 79 is: 5954.591352561483\n",
      "RMSE value for k = 80 is: 5993.359044809513\n",
      "RMSE value for k = 81 is: 6031.2806965021955\n",
      "RMSE value for k = 82 is: 6069.610596405671\n",
      "RMSE value for k = 83 is: 6083.263998216747\n",
      "RMSE value for k = 84 is: 6105.034865748106\n",
      "RMSE value for k = 85 is: 6119.603562323298\n",
      "RMSE value for k = 86 is: 6132.818310043108\n",
      "RMSE value for k = 87 is: 6159.192488630308\n",
      "RMSE value for k = 88 is: 6177.157503577191\n",
      "RMSE value for k = 89 is: 6183.682561710295\n",
      "RMSE value for k = 90 is: 6196.487894928869\n",
      "RMSE value for k = 91 is: 6235.702225090611\n",
      "RMSE value for k = 92 is: 6227.966047434748\n",
      "RMSE value for k = 93 is: 6217.382192530873\n",
      "RMSE value for k = 94 is: 6185.0222926033175\n",
      "RMSE value for k = 95 is: 6172.732165905143\n",
      "RMSE value for k = 96 is: 6161.459526443389\n",
      "RMSE value for k = 97 is: 6154.575831363198\n",
      "RMSE value for k = 98 is: 6144.136693791895\n",
      "RMSE value for k = 99 is: 6110.425223173916\n",
      "RMSE value for k = 100 is: 6091.586337235975\n"
     ]
    },
    {
     "data": {
      "image/png": "[encoded data removed]",
      "text/plain": [
       "<Figure size 432x288 with 1 Axes>"
      ]
     },
     "metadata": {
      "needs_background": "light"
     },
     "output_type": "display_data"
    }
   ],
   "source": [
    "eva(X_train, X_test, Y_train, Y_test)"
   ]
  },
  {
   "cell_type": "markdown",
   "id": "9ea277f8",
   "metadata": {},
   "source": [
    "# 1NN"
   ]
  },
  {
   "cell_type": "code",
   "execution_count": null,
   "id": "c25c2b7e",
   "metadata": {},
   "outputs": [],
   "source": [
    "def NN(train, test, yTrain, yTest):    \n",
    "    y_pred = predict(train, test, yTrain, yTest, 6)\n",
    "    error = rmse(yTest, y_pred) \n",
    "    print('RMSE value for k =' , 6 , 'is:', error)\n",
    "    for i in range(len(y_pred)):\n",
    "        print(\"\\nOriginal value:\", yTest.iloc[i], \"vs the predicted value:\", y_pred[i])\n",
    "        print(\"The difference is:\", yTest.iloc[i] - y_pred[i])\n",
    "    return \n",
    "\n",
    "NN(X_train, X_test, Y_train, Y_test)"
   ]
  }
 ],
 "metadata": {
  "kernelspec": {
   "display_name": "Python 3 (ipykernel)",
   "language": "python",
   "name": "python3"
  },
  "language_info": {
   "codemirror_mode": {
    "name": "ipython",
    "version": 3
   },
   "file_extension": ".py",
   "mimetype": "text/x-python",
   "name": "python",
   "nbconvert_exporter": "python",
   "pygments_lexer": "ipython3",
   "version": "3.9.12"
  },
  "vscode": {
   "interpreter": {
    "hash": "83ff51d9f317b8ca80e5f143d4ddaebd5941bdc4ce038cf0be07ab08422cb26b"
   }
  }
 },
 "nbformat": 4,
 "nbformat_minor": 5
}
