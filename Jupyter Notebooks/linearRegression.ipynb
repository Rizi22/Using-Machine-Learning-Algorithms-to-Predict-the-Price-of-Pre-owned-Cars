{
 "cells": [
  {
   "cell_type": "code",
   "execution_count": 132,
   "id": "329621ee",
   "metadata": {},
   "outputs": [],
   "source": [
    "import numpy as np \n",
    "import pandas as pd \n",
    "from sklearn.model_selection import train_test_split\n",
    "import matplotlib.pyplot as plt\n",
    "import pandas as pd\n",
    "from sklearn.model_selection import train_test_split\n",
    "import csv\n",
    "from sklearn.preprocessing import MinMaxScaler\n",
    "from math import sqrt\n",
    "from sklearn.metrics import mean_squared_error \n",
    "from sklearn.preprocessing import LabelEncoder\n",
    "from sklearn.tree import DecisionTreeRegressor\n",
    "from sklearn.ensemble import RandomForestRegressor\n",
    "from sklearn.metrics import mean_squared_error\n",
    "from sklearn.tree import plot_tree"
   ]
  },
  {
   "cell_type": "code",
   "execution_count": 133,
   "id": "9d783f01",
   "metadata": {
    "scrolled": true
   },
   "outputs": [],
   "source": [
    "# class linearRegression() :\n",
    "      \n",
    "#     def __init__(self, learning_rate, iterations) :\n",
    "#         self.learning_rate = learning_rate\n",
    "#         self.iterations = iterations\n",
    "        \n",
    "              \n",
    "#     def fit(self, X, Y) :\n",
    "#         self.sampleNumb, self.featuresNumb = X.shape \n",
    "#         self.weight = np.zeros(self.featuresNumb)  \n",
    "#         self.bias = 0  \n",
    "#         self.X = X \n",
    "#         self.Y = Y\n",
    "                  \n",
    "#         for i in range(self.iterations) :             \n",
    "#             self.weights()             \n",
    "#         return self\n",
    "      \n",
    "#     def weights(self) :\n",
    "#         Y_pred = self.predict(self.X)\n",
    "#         weightGradient = - (2 * (self.X.T).dot(self.Y - Y_pred )) / self.sampleNumb\n",
    "#         biasGradient = - 2 * np.sum(self.Y - Y_pred) / self.sampleNumb\n",
    "#         self.weight = self.weight - self.learning_rate * weightGradient\n",
    "#         self.bias = self.bias - self.learning_rate * biasGradient\n",
    "#         return self\n",
    "      \n",
    "#     def predict(self, X) :\n",
    "#         # return X.dot(self.weight) + self.bias\n",
    "#         return np.dot(X, self.weight) + self.bias"
   ]
  },
  {
   "cell_type": "code",
   "execution_count": 134,
   "id": "4fb72036",
   "metadata": {},
   "outputs": [],
   "source": [
    "# class linearRegression():\n",
    "\n",
    "#     def __init__(self, learning_rate, iterations):\n",
    "#         self.learning_rate = learning_rate\n",
    "#         self.iterations = iterations\n",
    "        \n",
    "#     def fit(self, X, Y):\n",
    "#         # Add a column of ones to X for the intercept term\n",
    "#         X = np.insert(X, 0, 1, axis=1)\n",
    "        \n",
    "#         # Initialize the weights to zero\n",
    "#         self.weights = np.zeros(X.shape[1])\n",
    "        \n",
    "#         # Perform gradient descent for the specified number of iterations\n",
    "#         for i in range(self.iterations):\n",
    "#             Y_pred = np.dot(X, self.weights)\n",
    "#             error = Y - Y_pred\n",
    "#             gradient = np.dot(X.T, error) / X.shape[0]\n",
    "#             self.weights += self.learning_rate * gradient\n",
    "        \n",
    "#         return self\n",
    "        \n",
    "#     def predict(self, X):\n",
    "#         # Add a column of ones to X for the intercept term\n",
    "#         X = np.insert(X, 0, 1, axis=1)\n",
    "#         return np.dot(X, self.weights)\n"
   ]
  },
  {
   "cell_type": "code",
   "execution_count": 135,
   "id": "f2c9c83b",
   "metadata": {},
   "outputs": [],
   "source": [
    "class linearRegression():\n",
    "    def __init__(self, learning_rate, iterations):\n",
    "        self.learning_rate = learning_rate\n",
    "        self.iterations = iterations\n",
    "        self.weights = None\n",
    "        \n",
    "    def fit(self, X_train, Y_train):\n",
    "        # Add a column of ones to X for the intercept term\n",
    "        X = np.insert(X_train, 0, 1, axis=1)\n",
    "        \n",
    "        # Initialize the weights to zero\n",
    "        self.weights = np.zeros(X.shape[1])\n",
    "        \n",
    "        # Performs gradient descent for the specified number of iterations\n",
    "        for i in range(self.iterations):\n",
    "            Y_pred = np.dot(X, self.weights)\n",
    "            error = Y_train - Y_pred\n",
    "            gradient = - (2 * (X.T).dot(error)) / X.shape[0]\n",
    "            self.weights = self.weights - self.learning_rate * gradient\n",
    "        \n",
    "        return self\n",
    "        \n",
    "    def predict(self, X_test):\n",
    "        # Add a column of ones to X for the intercept term\n",
    "        X_test = np.insert(X_test, 0, 1, axis=1)\n",
    "        return np.dot(X_test, self.weights)\n"
   ]
  },
  {
   "cell_type": "code",
   "execution_count": 136,
   "id": "4c84c786",
   "metadata": {},
   "outputs": [],
   "source": [
    "modelEncoder = LabelEncoder()\n",
    "transmissionEncoder = LabelEncoder()\n",
    "fuelTypeEncoder = LabelEncoder()\n",
    "scaler = MinMaxScaler()\n",
    "\n",
    "def dataset(brand):\n",
    "    file = pd.read_csv(brand, quotechar='\"', skipinitialspace=True)\n",
    "\n",
    "    for i in ['year']:\n",
    "        q75,q25 = np.percentile(file.loc[:,i],[75,25])\n",
    "        IQR = q75-q25\n",
    "    \n",
    "        max = q75+(1.5*IQR)\n",
    "        min = q25-(1.5*IQR)\n",
    "    \n",
    "        file.loc[file[i] < min, i] = np.nan\n",
    "        file.loc[file[i] > max, i] = np.nan\n",
    "\n",
    "    file = file.dropna(axis = 0)\n",
    "\n",
    "    modelEncoder.fit(file[\"model\"])\n",
    "    file[\"model\"] = modelEncoder.transform(file[\"model\"])\n",
    "    \n",
    "    transmissionEncoder.fit(file[\"transmission\"])\n",
    "    file[\"transmission\"] = transmissionEncoder.transform(file[\"transmission\"])\n",
    "    \n",
    "    fuelTypeEncoder.fit(file[\"fuelType\"])\n",
    "    file[\"fuelType\"] = fuelTypeEncoder.transform(file[\"fuelType\"])\n",
    "\n",
    "    file = file.head(5000) # Limits dataset size\n",
    "\n",
    "    X = file.drop(columns = ['price'])\n",
    "    Y = file.price\n",
    "    \n",
    "    X_train, X_test, Y_train, Y_test = train_test_split(X, Y, random_state = 601)\n",
    "    \n",
    "    scaler.fit(X_train)\n",
    "\n",
    "    X_train = scaler.transform(X_train)\n",
    "    X_test = scaler.transform(X_test)\n",
    "    \n",
    "    # print(list(fuelTypeEncoder.classes_))\n",
    "    print(X_test.size)\n",
    "\n",
    "    return  X_train, X_test, Y_train, Y_test"
   ]
  },
  {
   "cell_type": "code",
   "execution_count": 137,
   "id": "ecb215db",
   "metadata": {},
   "outputs": [
    {
     "name": "stdout",
     "output_type": "stream",
     "text": [
      "10000\n"
     ]
    }
   ],
   "source": [
    "X_train, X_test, Y_train, Y_test = dataset(\"../UKUsedCarDataSet/audi.csv\") # Use Audi dataset as default for KNN analysis"
   ]
  },
  {
   "cell_type": "code",
   "execution_count": 138,
   "id": "b02054fe",
   "metadata": {},
   "outputs": [
    {
     "ename": "NameError",
     "evalue": "name 'X' is not defined",
     "output_type": "error",
     "traceback": [
      "\u001b[1;31m---------------------------------------------------------------------------\u001b[0m",
      "\u001b[1;31mNameError\u001b[0m                                 Traceback (most recent call last)",
      "\u001b[1;32mc:\\Users\\rb22\\Documents\\Rizwan\\Uni\\Year 3\\FYP\\PROJECT\\Jupyter Notebooks\\linearRegression.ipynb Cell 7\u001b[0m in \u001b[0;36m<module>\u001b[1;34m\u001b[0m\n\u001b[0;32m      <a href='vscode-notebook-cell:/c%3A/Users/rb22/Documents/Rizwan/Uni/Year%203/FYP/PROJECT/Jupyter%20Notebooks/linearRegression.ipynb#W4sZmlsZQ%3D%3D?line=0'>1</a>\u001b[0m model \u001b[39m=\u001b[39m linearRegression( iterations \u001b[39m=\u001b[39m \u001b[39m1000\u001b[39m, learning_rate \u001b[39m=\u001b[39m \u001b[39m0.01\u001b[39m )\n\u001b[0;32m      <a href='vscode-notebook-cell:/c%3A/Users/rb22/Documents/Rizwan/Uni/Year%203/FYP/PROJECT/Jupyter%20Notebooks/linearRegression.ipynb#W4sZmlsZQ%3D%3D?line=1'>2</a>\u001b[0m model\u001b[39m.\u001b[39mfit( X_train, Y_train )\n\u001b[1;32m----> <a href='vscode-notebook-cell:/c%3A/Users/rb22/Documents/Rizwan/Uni/Year%203/FYP/PROJECT/Jupyter%20Notebooks/linearRegression.ipynb#W4sZmlsZQ%3D%3D?line=2'>3</a>\u001b[0m model\u001b[39m.\u001b[39mfit( X, y )\n\u001b[0;32m      <a href='vscode-notebook-cell:/c%3A/Users/rb22/Documents/Rizwan/Uni/Year%203/FYP/PROJECT/Jupyter%20Notebooks/linearRegression.ipynb#W4sZmlsZQ%3D%3D?line=3'>4</a>\u001b[0m Y_pred \u001b[39m=\u001b[39m model\u001b[39m.\u001b[39mpredict( X_test )\n\u001b[0;32m      <a href='vscode-notebook-cell:/c%3A/Users/rb22/Documents/Rizwan/Uni/Year%203/FYP/PROJECT/Jupyter%20Notebooks/linearRegression.ipynb#W4sZmlsZQ%3D%3D?line=5'>6</a>\u001b[0m \u001b[39m# print( \"Predicted values \", np.round( Y_pred, 2 ) ) \u001b[39;00m\n\u001b[0;32m      <a href='vscode-notebook-cell:/c%3A/Users/rb22/Documents/Rizwan/Uni/Year%203/FYP/PROJECT/Jupyter%20Notebooks/linearRegression.ipynb#W4sZmlsZQ%3D%3D?line=6'>7</a>\u001b[0m \u001b[39m# print( \"Real values      \", Y_test )\u001b[39;00m\n",
      "\u001b[1;31mNameError\u001b[0m: name 'X' is not defined"
     ]
    }
   ],
   "source": [
    "model = linearRegression( iterations = 1000, learning_rate = 0.01 )\n",
    "model.fit( X_train, Y_train )\n",
    "model.fit( X, y )\n",
    "Y_pred = model.predict( X_test )\n",
    "\n",
    "# print( \"Predicted values \", np.round( Y_pred, 2 ) ) \n",
    "# print( \"Real values      \", Y_test )\n",
    "print(Y_train.size)\n",
    "plt.scatter( Y_test, Y_pred, color = 'blue' )\n",
    "# plt.plot( X_test, Y_pred, color = 'orange' )\n",
    "plt.title( 'Predicted vs Actual Price' )\n",
    "plt.xlabel( 'Actual Prices' )\n",
    "plt.ylabel( 'Predicted Prices' )\n",
    "\n",
    "plt.show()"
   ]
  },
  {
   "cell_type": "code",
   "execution_count": null,
   "id": "ae014739",
   "metadata": {},
   "outputs": [],
   "source": [
    "# print(X_test.shape)\n",
    "# for i in range(8):\n",
    "#     plt.scatter(X_test[:,i], Y_test, color='red')\n",
    "#     plt.scatter(X_test[:,i], Y_pred, color='blue')\n",
    "\n",
    "# # Plot the line of best fit\n",
    "# plt.plot(X_test[:,0], model.predict(X_test), color='black')\n",
    "\n",
    "# plt.show()"
   ]
  },
  {
   "cell_type": "code",
   "execution_count": 139,
   "id": "5b010e4f",
   "metadata": {},
   "outputs": [],
   "source": [
    "def rmse(test, pred):\n",
    "    MSE = np.square(np.subtract(test, pred)).mean()\n",
    "    return sqrt(MSE)"
   ]
  },
  {
   "cell_type": "code",
   "execution_count": 140,
   "id": "f244a04c",
   "metadata": {},
   "outputs": [
    {
     "name": "stdout",
     "output_type": "stream",
     "text": [
      "TESTTT2\n",
      "The RMSE value is: 7037.81\n",
      "R VALUE: 0.6926275318832609\n"
     ]
    }
   ],
   "source": [
    "def evaluation(train, test, yTrain, yTest):    \n",
    "    y_pred =  model.predict(test)\n",
    "    error = rmse(yTest, y_pred) \n",
    "    print('The RMSE value is:', round(error, 2))\n",
    "    # for i in range(len(y_pred)):\n",
    "    #     print(\"\\nOriginal value:\", yTest.iloc[i], \"vs the predicted value:\", y_pred[i])\n",
    "    #     print(\"The difference is:\", yTest.iloc[i] - y_pred[i])\n",
    "\n",
    "    file2 = pd.read_csv(\"../UKUsedCarDataSet/audi.csv\", quotechar='\"', skipinitialspace=True)\n",
    "    mean= np.mean(file2[\"price\"])\n",
    "\n",
    "    print(\"R VALUE:\", 1 - (error/mean))\n",
    "    \n",
    "evaluation(X_train, X_test, Y_train, Y_test)\n",
    "\n",
    "#rmse: 5125.277827632167\n",
    "#rmse with 5000: 7038.9346097461\n",
    "#rmse without outliers: 7037.810592242798"
   ]
  },
  {
   "cell_type": "code",
   "execution_count": null,
   "id": "31bf5b5d",
   "metadata": {},
   "outputs": [],
   "source": [
    "# inputPred = []\n",
    "# entries = []\n",
    "\n",
    "# def userInput():\n",
    "#     chooseBrand = input(\"Choose your car brand: Audi, BMW, Ford, Hyundai, Mercedes, Skoda, Toyota, Vauxhall or Volkswagen \\n\")\n",
    "    \n",
    "#     if chooseBrand == \"Audi\":\n",
    "#         return \"../UKUsedCarDataSet/audi.csv\"\n",
    "#     elif chooseBrand == \"BMW\":\n",
    "#         return \"../UKUsedCarDataSet/bmw.csv\"\n",
    "#     elif chooseBrand == \"Ford\":\n",
    "#         return \"../UKUsedCarDataSet/ford.csv\"\n",
    "#     elif chooseBrand == \"Hyundai\":\n",
    "#         return \"../UKUsedCarDataSet/hyundi.csv\"\n",
    "#     elif chooseBrand == \"Mercedes\":\n",
    "#         return \"../UKUsedCarDataSet/merc.csv\"\n",
    "#     elif chooseBrand == \"Skoda\":\n",
    "#         return \"../UKUsedCarDataSet/skoda.csv\"\n",
    "#     elif chooseBrand == \"Toyota\":\n",
    "#         return \"../UKUsedCarDataSet/toyota.csv\"\n",
    "#     elif chooseBrand == \"Vauxhall\":\n",
    "#         return \"../UKUsedCarDataSet/vauxhall.csv\"\n",
    "#     elif chooseBrand == \"Volkswagen\":\n",
    "#         return \"../UKUsedCarDataSet/vw.csv\"\n",
    "#     else:\n",
    "#         print(\"Invalid Car Brand\")\n",
    "#         userInput()\n",
    "#     return \n",
    "  \n",
    "# X_train, X_test, Y_train, Y_test = dataset(userInput())\n",
    "\n",
    "# print(\"\\n List of models:\")\n",
    "# print(list(modelEncoder.classes_))\n",
    "\n",
    "# inputPred.append((modelEncoder.transform([input(\"\\nWhat Model is your car? \")]))[0])\n",
    "# inputPred.append(int(input(\"What year is your car? \")))\n",
    "# inputPred.append((transmissionEncoder.transform([input(\"What transmission is your car? \")]))[0])\n",
    "# inputPred.append(int(input(\"How much mileage does your car have? \")))\n",
    "# inputPred.append((fuelTypeEncoder.transform([input(\"What's your car fuel type? \")]))[0])\n",
    "# inputPred.append(int(input(\"How much is your cars tax? \")))\n",
    "# inputPred.append(float(input(\"What's MPG of your car? \")))\n",
    "# inputPred.append(float(input(\"What the engine size of your car? \")))\n",
    "# entries.append(inputPred)\n",
    "# inputPred = scaler.transform([inputPred])\n",
    "\n",
    "# import time\n",
    "# print(\"\\n ***Predicting***\")\n",
    "# start = time.time()\n",
    "# y_pred = model.predict(inputPred)\n",
    "# # {0:.2f}'.format()\n",
    "# print(\"\\n Predicted price for your car is: £\", round(Y_pred[0], 2))\n",
    "\n",
    "# print(\"\\n ***Predicted in\", time.time() - start,\"seconds***\")\n",
    "\n",
    "# # Audi,RS6,2016,Semi-Auto,49050,Petrol,325,29.4,4.0    Price = £44,985 Pred: 32,858\n",
    "# # BMW,5 Series,2019,Semi-Auto,4405,Petrol,145,48.7,2.0     Price = £26,000\n",
    "# # Skoda,Octavia,2019,Manual,14449,Petrol,150,55.4,1.5      Price = £13,490 Pred: £14,170"
   ]
  }
 ],
 "metadata": {
  "kernelspec": {
   "display_name": "Python 3",
   "language": "python",
   "name": "python3"
  },
  "language_info": {
   "codemirror_mode": {
    "name": "ipython",
    "version": 3
   },
   "file_extension": ".py",
   "mimetype": "text/x-python",
   "name": "python",
   "nbconvert_exporter": "python",
   "pygments_lexer": "ipython3",
   "version": "3.10.2"
  },
  "vscode": {
   "interpreter": {
    "hash": "f25d21d07d980f3bfa83b1b8e5d869424fcc71a3330182c8ba45597eb2457e05"
   }
  }
 },
 "nbformat": 4,
 "nbformat_minor": 5
}
