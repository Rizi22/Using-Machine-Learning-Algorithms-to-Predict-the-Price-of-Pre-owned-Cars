{
 "cells": [
  {
   "attachments": {},
   "cell_type": "markdown",
   "id": "5c796250",
   "metadata": {},
   "source": [
    "# Imports"
   ]
  },
  {
   "cell_type": "code",
   "execution_count": 1,
   "id": "329621ee",
   "metadata": {},
   "outputs": [],
   "source": [
    "import numpy as np \n",
    "import pandas as pd \n",
    "from math import sqrt\n",
    "import time\n",
    "from sklearn.model_selection import train_test_split\n",
    "from sklearn.preprocessing import MinMaxScaler\n",
    "from sklearn.preprocessing import LabelEncoder\n",
    "from sklearn.model_selection import KFold"
   ]
  },
  {
   "attachments": {},
   "cell_type": "markdown",
   "id": "59fed491",
   "metadata": {},
   "source": [
    "# Linear Regression Algorithm"
   ]
  },
  {
   "cell_type": "code",
   "execution_count": 2,
   "id": "f2c9c83b",
   "metadata": {},
   "outputs": [],
   "source": [
    "class linearRegression():\n",
    "\n",
    "    # Constructor to initialize the learning rate and the number of iterations\n",
    "    def __init__(self, learning_rate, iterations):\n",
    "        self.learning_rate = learning_rate\n",
    "        self.iterations = iterations\n",
    "        self.weights = None\n",
    "        \n",
    "    # Fits the linear regression model to the given training data.\n",
    "    def fit(self, X_train, Y_train):\n",
    "        X = np.insert(X_train, 0, 1, axis=1)\n",
    "        \n",
    "        # Initialize the weights to zero\n",
    "        self.weights = np.zeros(X.shape[1]) \n",
    "        \n",
    "        # Performs gradient descent for the specified number of iterations\n",
    "        for i in range(self.iterations):\n",
    "            Y_pred = np.dot(X, self.weights)\n",
    "            error = Y_train - Y_pred\n",
    "            gradient = - (2 * (X.T).dot(error)) / X.shape[0] # Calculates the gradient\n",
    "            self.weights = self.weights - self.learning_rate * gradient # Updates the weights\n",
    "        \n",
    "        return self\n",
    "        \n",
    "    def predict(self, X_test):\n",
    "        X_test = np.insert(X_test, 0, 1, axis=1) # Adds a column of 1's to the input data for the bias term\n",
    "        return np.dot(X_test, self.weights)\n"
   ]
  },
  {
   "attachments": {},
   "cell_type": "markdown",
   "id": "e4fce5e7",
   "metadata": {},
   "source": [
    "# Cleaning and Splitting Data"
   ]
  },
  {
   "cell_type": "code",
   "execution_count": 3,
   "id": "4c84c786",
   "metadata": {},
   "outputs": [],
   "source": [
    "modelEncoder = LabelEncoder()\n",
    "transmissionEncoder = LabelEncoder()\n",
    "fuelTypeEncoder = LabelEncoder()\n",
    "scaler = MinMaxScaler() # Scaler for normalizing the data\n",
    "\n",
    "\n",
    "# Takes given dataset and returns split data\n",
    "def dataset(brand): \n",
    "    file = pd.read_csv(brand, quotechar='\"', skipinitialspace=True) # Reads the dataset\n",
    "\n",
    "    # Removes all outliers from the 'year' column\n",
    "    for i in ['year']:\n",
    "        q75,q25 = np.percentile(file.loc[:,i],[75,25])\n",
    "        IQR = q75-q25 # Interquartile range\n",
    "    \n",
    "        max = q75+(1.5*IQR)\n",
    "        min = q25-(1.5*IQR)\n",
    "    \n",
    "        file.loc[file[i] < min, i] = np.nan # Replaces outliers smaller than min with NaN\n",
    "        file.loc[file[i] > max, i] = np.nan # Replaces outliers larger than max with NaN\n",
    "\n",
    "    file = file.dropna(axis = 0) # Removes rows with NaN values\n",
    "\n",
    "    # Turns string values into numerical values using LabelEncoder\n",
    "    modelEncoder.fit(file[\"model\"])\n",
    "    file[\"model\"] = modelEncoder.transform(file[\"model\"])\n",
    "    \n",
    "    transmissionEncoder.fit(file[\"transmission\"])\n",
    "    file[\"transmission\"] = transmissionEncoder.transform(file[\"transmission\"])\n",
    "    \n",
    "    fuelTypeEncoder.fit(file[\"fuelType\"])\n",
    "    file[\"fuelType\"] = fuelTypeEncoder.transform(file[\"fuelType\"])\n",
    "\n",
    "    file = file.head(10000) # Limits dataset size to 10,000\n",
    "\n",
    "    X = file.drop(columns = ['price'])\n",
    "    Y = file.price\n",
    "    \n",
    "    # Splits data into 75% training and 25% testing data\n",
    "    X_train, X_test, Y_train, Y_test = train_test_split(X, Y, random_state = 601)\n",
    "    \n",
    "    # Normalises data using MinMaxScaler\n",
    "    scaler.fit(X_train)\n",
    "    X_train = scaler.transform(X_train)\n",
    "    X_test = scaler.transform(X_test)\n",
    "\n",
    "    return  X_train, X_test, Y_train, Y_test, file, X, Y\n",
    "\n",
    "X_train, X_test, Y_train, Y_test, file, X, Y = dataset(\"../UKUsedCarDataSet/vauxhall.csv\") # Change file name to change dataset here"
   ]
  },
  {
   "cell_type": "markdown",
   "id": "d71466d6",
   "metadata": {},
   "source": [
    "# RMSE"
   ]
  },
  {
   "cell_type": "code",
   "execution_count": 4,
   "id": "5b010e4f",
   "metadata": {},
   "outputs": [],
   "source": [
    "# Calculates the root mean squared error\n",
    "def rmse(test, pred):\n",
    "    MSE = np.square(np.subtract(test, pred)).mean()\n",
    "    return sqrt(MSE)"
   ]
  },
  {
   "attachments": {},
   "cell_type": "markdown",
   "id": "beb2eac8",
   "metadata": {},
   "source": [
    "# Hold-out Validation"
   ]
  },
  {
   "cell_type": "code",
   "execution_count": 8,
   "id": "f244a04c",
   "metadata": {},
   "outputs": [
    {
     "name": "stdout",
     "output_type": "stream",
     "text": [
      "The RMSE value is: 7764.08\n"
     ]
    }
   ],
   "source": [
    "# Initialises and trains model\n",
    "LR = linearRegression( iterations = 1000, learning_rate = 0.01 )\n",
    "LR.fit(X_train, Y_train)   \n",
    "\n",
    "y_pred =  LR.predict(X_test)\n",
    "error = rmse(Y_test, y_pred) \n",
    "print('The RMSE value is:', round(error, 2))"
   ]
  },
  {
   "cell_type": "markdown",
   "id": "a5fccf77",
   "metadata": {},
   "source": [
    "# User Input"
   ]
  },
  {
   "cell_type": "code",
   "execution_count": 7,
   "id": "31bf5b5d",
   "metadata": {},
   "outputs": [
    {
     "name": "stdout",
     "output_type": "stream",
     "text": [
      "\n",
      " List of models:\n",
      "['A1', 'A3', 'A4', 'A5', 'A6', 'A7', 'A8', 'Q2', 'Q3', 'Q5', 'Q7', 'Q8', 'R8', 'RS3', 'RS4', 'RS5', 'RS6', 'RS7', 'S3', 'S4', 'S5', 'S8', 'SQ5', 'SQ7', 'TT']\n"
     ]
    },
    {
     "name": "stderr",
     "output_type": "stream",
     "text": [
      "c:\\Users\\rb22\\AppData\\Local\\Programs\\Python\\Python310\\lib\\site-packages\\sklearn\\base.py:450: UserWarning: X does not have valid feature names, but MinMaxScaler was fitted with feature names\n",
      "  warnings.warn(\n"
     ]
    },
    {
     "name": "stdout",
     "output_type": "stream",
     "text": [
      "\n",
      " ***Predicting***\n",
      "\n",
      " Predicted price for your car is: £ 30930.91\n",
      "\n",
      " ***Predicted in 0.20644187927246094 seconds***\n"
     ]
    }
   ],
   "source": [
    "inputPred = []\n",
    "entries = []\n",
    "\n",
    "def userInput():\n",
    "    chooseBrand = input(\"Choose your car brand: Audi, BMW, Ford, Hyundai, Mercedes, Skoda, Toyota, Vauxhall or Volkswagen \\n\")\n",
    "    \n",
    "    if chooseBrand == \"Audi\":\n",
    "        return \"../UKUsedCarDataSet/audi.csv\"\n",
    "    elif chooseBrand == \"BMW\":\n",
    "        return \"../UKUsedCarDataSet/bmw.csv\"\n",
    "    elif chooseBrand == \"Ford\":\n",
    "        return \"../UKUsedCarDataSet/ford.csv\"\n",
    "    elif chooseBrand == \"Hyundai\":\n",
    "        return \"../UKUsedCarDataSet/hyundi.csv\"\n",
    "    elif chooseBrand == \"Mercedes\":\n",
    "        return \"../UKUsedCarDataSet/merc.csv\"\n",
    "    elif chooseBrand == \"Skoda\":\n",
    "        return \"../UKUsedCarDataSet/skoda.csv\"\n",
    "    elif chooseBrand == \"Toyota\":\n",
    "        return \"../UKUsedCarDataSet/toyota.csv\"\n",
    "    elif chooseBrand == \"Vauxhall\":\n",
    "        return \"../UKUsedCarDataSet/vauxhall.csv\"\n",
    "    elif chooseBrand == \"Volkswagen\":\n",
    "        return \"../UKUsedCarDataSet/vw.csv\"\n",
    "    else:\n",
    "        print(\"Invalid Car Brand\")\n",
    "        userInput()\n",
    "    return \n",
    "  \n",
    "X_train, X_test, Y_train, Y_test, file, X, Y = dataset(userInput())\n",
    "\n",
    "print(\"\\n List of models:\")\n",
    "print(list(modelEncoder.classes_))\n",
    "\n",
    "inputPred.append((modelEncoder.transform([input(\"\\nWhat Model is your car? \")]))[0])\n",
    "inputPred.append(int(input(\"What year is your car? \")))\n",
    "inputPred.append((transmissionEncoder.transform([input(\"What transmission is your car? \")]))[0])\n",
    "inputPred.append(int(input(\"How much mileage does your car have? \")))\n",
    "inputPred.append((fuelTypeEncoder.transform([input(\"What's your car fuel type? \")]))[0])\n",
    "inputPred.append(int(input(\"How much is your cars tax? \")))\n",
    "inputPred.append(float(input(\"What's MPG of your car? \")))\n",
    "inputPred.append(float(input(\"What the engine size of your car? \")))\n",
    "entries.append(inputPred)\n",
    "inputPred = scaler.transform([inputPred]) # Normalises input data\n",
    "\n",
    "\n",
    "print(\"\\n ***Predicting***\")\n",
    "start = time.time()\n",
    "\n",
    "# Initialises and trains model\n",
    "LR = linearRegression( iterations = 1000, learning_rate = 0.01 ) \n",
    "LR.fit( X_train, Y_train ) \n",
    "\n",
    "Y_pred = LR.predict(inputPred) # Predicts price of car\n",
    "print(\"\\n Predicted price for your car is: £\", round(Y_pred[0], 2)) \n",
    "\n",
    "print(\"\\n ***Predicted in\", time.time() - start,\"seconds***\") # Prints time taken to predict"
   ]
  }
 ],
 "metadata": {
  "kernelspec": {
   "display_name": "Python 3",
   "language": "python",
   "name": "python3"
  },
  "language_info": {
   "codemirror_mode": {
    "name": "ipython",
    "version": 3
   },
   "file_extension": ".py",
   "mimetype": "text/x-python",
   "name": "python",
   "nbconvert_exporter": "python",
   "pygments_lexer": "ipython3",
   "version": "3.10.2"
  },
  "vscode": {
   "interpreter": {
    "hash": "f25d21d07d980f3bfa83b1b8e5d869424fcc71a3330182c8ba45597eb2457e05"
   }
  }
 },
 "nbformat": 4,
 "nbformat_minor": 5
}
