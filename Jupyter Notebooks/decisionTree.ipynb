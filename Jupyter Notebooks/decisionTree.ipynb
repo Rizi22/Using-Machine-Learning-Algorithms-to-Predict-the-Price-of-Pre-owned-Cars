{
 "cells": [
  {
   "cell_type": "markdown",
   "id": "bb8d801c",
   "metadata": {},
   "source": [
    "# Imports"
   ]
  },
  {
   "cell_type": "code",
   "execution_count": 1,
   "id": "c080cd73",
   "metadata": {
    "scrolled": true
   },
   "outputs": [],
   "source": [
    "import numpy as np\n",
    "import matplotlib.pyplot as plt\n",
    "import pandas as pd\n",
    "from sklearn.model_selection import train_test_split\n",
    "import csv\n",
    "from sklearn.preprocessing import MinMaxScaler\n",
    "from math import sqrt\n",
    "from sklearn.metrics import mean_squared_error \n",
    "from sklearn.preprocessing import LabelEncoder\n",
    "from sklearn.tree import DecisionTreeRegressor\n",
    "from sklearn.ensemble import RandomForestRegressor\n",
    "from sklearn.metrics import mean_squared_error\n",
    "from sklearn.tree import plot_tree\n",
    "import time"
   ]
  },
  {
   "cell_type": "markdown",
   "id": "4a2563ad",
   "metadata": {},
   "source": [
    "# Importing and Splitting data"
   ]
  },
  {
   "cell_type": "code",
   "execution_count": 2,
   "id": "5b750fbb",
   "metadata": {},
   "outputs": [],
   "source": [
    "modelEncoder = LabelEncoder()\n",
    "transmissionEncoder = LabelEncoder()\n",
    "fuelTypeEncoder = LabelEncoder()\n",
    "\n",
    "def dataset(brand):\n",
    "\n",
    "    file = pd.read_csv(brand, quotechar='\"', skipinitialspace=True)\n",
    "\n",
    "    for i in ['year']:\n",
    "        q75,q25 = np.percentile(file.loc[:,i],[75,25])\n",
    "        IQR = q75-q25\n",
    "    \n",
    "        max = q75+(1.5*IQR)\n",
    "        min = q25-(1.5*IQR)\n",
    "    \n",
    "        file.loc[file[i] < min, i] = np.nan\n",
    "        file.loc[file[i] > max, i] = np.nan\n",
    "\n",
    "    file = file.dropna(axis = 0)\n",
    "\n",
    "    modelEncoder.fit(file[\"model\"])\n",
    "    file[\"model\"] = modelEncoder.transform(file[\"model\"])\n",
    "\n",
    "    transmissionEncoder.fit(file[\"transmission\"])\n",
    "    file[\"transmission\"] = transmissionEncoder.transform(file[\"transmission\"])\n",
    "\n",
    "    fuelTypeEncoder.fit(file[\"fuelType\"])\n",
    "    file[\"fuelType\"] = fuelTypeEncoder.transform(file[\"fuelType\"])\n",
    "\n",
    "    file = file.head(10000)\n",
    "    # X = file.drop(columns = ['price'])\n",
    "    # Y = file.price\n",
    "    # print(file)\n",
    "\n",
    "    X = file.drop(['price'], axis = 1).to_numpy()\n",
    "    # X = file[['year', 'mileage', 'tax', 'mpg', 'engineSize']].to_numpy(dtype = 'int')\n",
    "    Y = file['price'].values.reshape(-1,1)\n",
    "\n",
    "#     print(X)\n",
    "    X_train, X_test, Y_train, Y_test = train_test_split(X, Y, random_state = 601)\n",
    "    \n",
    "    return  X_train, X_test, Y_train, Y_test, file\n",
    "\n",
    "X_train, X_test, Y_train, Y_test, file= dataset(\"../UKUsedCarDataSet/vw.csv\") # Use Audi dataset as default for KNN analysis"
   ]
  },
  {
   "cell_type": "markdown",
   "id": "477fe827",
   "metadata": {},
   "source": [
    "# Using Scikit-Learn"
   ]
  },
  {
   "cell_type": "markdown",
   "id": "6242c397",
   "metadata": {},
   "source": [
    "myTree = DecisionTreeRegressor(random_state = 601, max_depth = 34, min_samples_split = 3) #, max_depth = 3\n",
    "myTree.fit(X_train, Y_train)\n",
    "print(\"R Squared: \", myTree.score(X_test, Y_test))"
   ]
  },
  {
   "cell_type": "markdown",
   "id": "4f54018b",
   "metadata": {},
   "source": [
    "# GridSeacrhCV to find optimal parameters"
   ]
  },
  {
   "cell_type": "markdown",
   "id": "e47380c1",
   "metadata": {},
   "source": [
    "from sklearn.model_selection import GridSearchCV\n",
    "\n",
    "params = {'min_samples_split': list(range(2, 100)), 'max_leaf_nodes': list(range(2, 100)), 'max_depth': list(range(2, 100))}\n",
    "grid_search_cv = GridSearchCV(myTree, params, cv=3)\n",
    "grid_search_cv.fit(X_train, Y_train)"
   ]
  },
  {
   "cell_type": "markdown",
   "id": "72a215e4",
   "metadata": {
    "scrolled": false
   },
   "source": [
    "grid_search_cv.best_estimator_"
   ]
  },
  {
   "cell_type": "markdown",
   "id": "902ed032",
   "metadata": {},
   "source": [
    "# Visualising Decsion Tree:"
   ]
  },
  {
   "cell_type": "markdown",
   "id": "9f6d1ad1",
   "metadata": {},
   "source": [
    "X1 = file.drop(['price'], axis = 1)\n",
    "\n",
    "plt.figure(figsize=(20, 10), dpi = 200)\n",
    "plot_tree(myTree, feature_names = X1.columns, filled=True)"
   ]
  },
  {
   "cell_type": "markdown",
   "id": "108c1071",
   "metadata": {},
   "source": [
    "# RMSE"
   ]
  },
  {
   "cell_type": "code",
   "execution_count": 3,
   "id": "bfafe2e3",
   "metadata": {},
   "outputs": [],
   "source": [
    "def rmse(h, y):\n",
    "  return sqrt(mean_squared_error(h, y))"
   ]
  },
  {
   "cell_type": "markdown",
   "id": "cd6b2c03",
   "metadata": {},
   "source": [
    "# Node Class"
   ]
  },
  {
   "cell_type": "code",
   "execution_count": 4,
   "id": "4500d7b1",
   "metadata": {},
   "outputs": [],
   "source": [
    "# Node class to initialise instances of each \n",
    "class Node():\n",
    "    \n",
    "    def __init__(self, feature = None, limit = None, leftSide = None, rightSide = None, gain = None, leaf = None):\n",
    "        \n",
    "        self.feature = feature\n",
    "        self.limit = limit\n",
    "        self.leftSide = leftSide\n",
    "        self.rightSide = rightSide\n",
    "        self.gain = gain\n",
    "        self.leaf = leaf "
   ]
  },
  {
   "cell_type": "markdown",
   "id": "8ff0de6e",
   "metadata": {},
   "source": [
    "# Decision Tree Regression Class"
   ]
  },
  {
   "cell_type": "code",
   "execution_count": 5,
   "id": "b0d4d509",
   "metadata": {},
   "outputs": [],
   "source": [
    "class decisionTree():\n",
    "    def __init__(self, minSamples, maxDepth):\n",
    "        self.root = None\n",
    "        self.minSamples = minSamples\n",
    "        self.maxDepth = maxDepth\n",
    "        \n",
    "    def infoGain(self, parent, leftNode, rightNode):\n",
    "        leftWeight = len(leftNode) / len(parent)\n",
    "        rightWeight = len(rightNode) / len(parent)\n",
    "        \n",
    "        informationGain = np.var(parent) - (leftWeight * np.var(leftNode) + rightWeight * np.var(rightNode))\n",
    "\n",
    "        return informationGain\n",
    "        \n",
    "    def splitTree(self, trainingSet, feature, limit):\n",
    "        leftBranch = []\n",
    "        rightBranch = []\n",
    "        for i in trainingSet:\n",
    "            if i[feature] <= limit:\n",
    "                leftBranch.append(i)\n",
    "            else:\n",
    "                rightBranch.append(i)\n",
    "        rightBranch = np.array(rightBranch)\n",
    "        leftBranch = np.array(leftBranch)\n",
    "        return leftBranch, rightBranch\n",
    "        \n",
    "    def bestSplit(self, trainingSet, X):\n",
    "        bestSplitt = {} \n",
    "        biggestGain = -1\n",
    "        for feature in range(X.shape[1]): \n",
    "            featureValues = []\n",
    "            for i in range(len(trainingSet)):\n",
    "                featureValues.append(trainingSet[i, feature])\n",
    "            thresholds = np.unique(featureValues)\n",
    "            for j in thresholds:\n",
    "                leftSide, rightSide = self.splitTree(trainingSet, feature, j) #splits node into 2 sub-trees\n",
    "                if (len(leftSide) > 0 and len(rightSide) > 0 ):\n",
    "                    parent = []\n",
    "                    for i in range(len(trainingSet)):\n",
    "                        parent.append(trainingSet[i, -1])\n",
    "\n",
    "                    leftNode = []\n",
    "                    for i in range(len(leftSide)):\n",
    "                        leftNode.append(leftSide[i, -1])\n",
    "                        \n",
    "                    rightNode = []\n",
    "                    for i in range(len(rightSide)):\n",
    "                        rightNode.append(rightSide[i, -1])\n",
    "\n",
    "                    currentGain = self.infoGain(parent, leftNode, rightNode) \n",
    "                    if currentGain > biggestGain:\n",
    "                        \n",
    "                        bestSplitt[\"feature\"] = feature\n",
    "                        bestSplitt[\"limit\"] = j\n",
    "                        bestSplitt[\"leftSide\"] = leftSide\n",
    "                        bestSplitt[\"rightSide\"] = rightSide\n",
    "                        bestSplitt[\"gain\"] = currentGain\n",
    "                        biggestGain = currentGain\n",
    "                \n",
    "        return bestSplitt\n",
    "   \n",
    "        \n",
    "    def treeBuild(self, trainingSet, currentDepth = 0):\n",
    "        \n",
    "#       #Split training into features and labels\n",
    "        X = trainingSet[:,:-1] # everything but the last value\n",
    "        Y = []\n",
    "        for i in range(len(trainingSet)):\n",
    "            Y.append(trainingSet[i, -1]) # only the last value\n",
    "        \n",
    "        #iterates until this condition is met\n",
    "        if X.shape[0] >= self.minSamples and currentDepth <= self.maxDepth:\n",
    "            bestSplitNode = self.bestSplit(trainingSet, X)\n",
    "            \n",
    "            if \"gain\" in bestSplitNode and bestSplitNode[\"gain\"] > 0:\n",
    "                leftTree = self.treeBuild(bestSplitNode[\"leftSide\"], currentDepth + 1)\n",
    "                rightTree = self.treeBuild(bestSplitNode[\"rightSide\"], currentDepth + 1)\n",
    "                node = Node(bestSplitNode[\"feature\"], bestSplitNode[\"limit\"], leftTree, rightTree, bestSplitNode[\"gain\"])\n",
    "\n",
    "                return node\n",
    "        \n",
    "        leafValue = np.mean(Y) #calculates mean of leaf nodes\n",
    "        val = Node(leaf = leafValue)\n",
    "        return val\n",
    "    \n",
    "    def predictionLoop(self, testRow, root):\n",
    "        if root.leaf != None: #not empty\n",
    "            return root.leaf\n",
    "        \n",
    "        featureVal = testRow[root.feature]\n",
    "        if featureVal <= root.limit:\n",
    "            return self.predictionLoop(testRow, root.leftSide)\n",
    "        else:\n",
    "            return self.predictionLoop(testRow, root.rightSide)\n",
    "        \n",
    "   \n",
    "    def predict(self, xTest):\n",
    "        predictions = []\n",
    "        for row in xTest:\n",
    "            predictions.append(self.predictionLoop(row, self.root)) \n",
    "        return predictions\n",
    "\n",
    "        \n",
    "        \n",
    "    def fit(self, X, Y):\n",
    "        trainingSet = np.concatenate((X, Y), axis=1) #Joins training data back together\n",
    "        self.root = self.treeBuild(trainingSet)"
   ]
  },
  {
   "cell_type": "markdown",
   "id": "e0f8763f",
   "metadata": {},
   "source": [
    "# Training the algorithm"
   ]
  },
  {
   "cell_type": "code",
   "execution_count": 6,
   "id": "63310e2c",
   "metadata": {},
   "outputs": [],
   "source": [
    "timer = time.time()\n",
    "myTree = decisionTree(3, 34) # minSamples = 3, maxDepth = 34\n",
    "myTree.fit(X_train, Y_train) # Trains the model using the training set"
   ]
  },
  {
   "cell_type": "markdown",
   "id": "041a5da8",
   "metadata": {},
   "source": [
    "# Evaluation"
   ]
  },
  {
   "cell_type": "code",
   "execution_count": 7,
   "id": "4a86e488",
   "metadata": {},
   "outputs": [
    {
     "name": "stdout",
     "output_type": "stream",
     "text": [
      "The RMSE value is: 1672.16\n",
      "R VALUE: 0.8932134432466091\n",
      "\n",
      " ***Predicted in 153.87267208099365 seconds***\n"
     ]
    }
   ],
   "source": [
    "def evaluation(X_test, Y_test):    \n",
    "    Y_pred = myTree.predict(X_test)\n",
    "    error = rmse(Y_test, Y_pred) \n",
    "    print('The RMSE value is:', round(error, 2))\n",
    "\n",
    "    # for i in range(len(y_pred)):\n",
    "    #     print(\"\\nOriginal value:\", yTest[i], \"vs the predicted value:\", y_pred[i])\n",
    "    #     print(\"The difference is:\", yTest[i] - y_pred[i])\n",
    "\n",
    "    mean= np.mean(file[\"price\"])\n",
    "\n",
    "    print(\"R VALUE:\", 1 - (error/mean))\n",
    "\n",
    "evaluation(X_test, Y_test)\n",
    "print(\"\\n ***Predicted in\", time.time() - timer,\"seconds***\")\n",
    "\n",
    "#rmse without outliers: 3027.4338424903326"
   ]
  },
  {
   "cell_type": "markdown",
   "id": "37b78934",
   "metadata": {},
   "source": [
    "# User Input Predictions"
   ]
  },
  {
   "cell_type": "markdown",
   "id": "823dcb7a",
   "metadata": {},
   "source": [
    "inputPred = []\n",
    "entries = []\n",
    "\n",
    "def userInput():\n",
    "    chooseBrand = input(\"Choose your car brand: Audi, BMW, Ford, Hyundai, Mercedes, Skoda, Toyota, Vauxhall or Volkswagen \\n\")\n",
    "    \n",
    "    match chooseBrand:\n",
    "        case \"Audi\":\n",
    "            return \"../UKUsedCarDataSet/audi.csv\"\n",
    "        case \"BMW\":\n",
    "            return \"../UKUsedCarDataSet/bmw.csv\"\n",
    "        case \"Ford\":\n",
    "            return \"../UKUsedCarDataSet/ford.csv\"\n",
    "        case \"Hyundai\":\n",
    "            return \"../UKUsedCarDataSet/hyundi.csv\"\n",
    "        case \"Mercedes\":\n",
    "            return \"../UKUsedCarDataSet/merc.csv\"\n",
    "        case \"Skoda\":\n",
    "            return \"../UKUsedCarDataSet/skoda.csv\"\n",
    "        case \"Toyota\":\n",
    "            return \"../UKUsedCarDataSet/toyota.csv\"\n",
    "        case \"Vauxhall\":\n",
    "            return \"../UKUsedCarDataSet/vauxhall.csv\"\n",
    "        case \"Volkswagen\":\n",
    "            return \"../UKUsedCarDataSet/volkswagen.csv\"\n",
    "        case _:\n",
    "            print(\"Invalid input\")\n",
    "            return userInput()\n",
    "\n",
    "X_train, X_test, Y_train, Y_test, file = dataset(userInput())\n",
    "\n",
    "print(\"\\n ***Training Tree Model***\")\n",
    "timer = time.time()\n",
    "\n",
    "myTree = decisionTree(3, 93)  \n",
    "myTree.fit(X_train, Y_train)\n",
    "\n",
    "print(\"\\n List of models:\")\n",
    "print(list(modelEncoder.classes_))\n",
    "\n",
    "inputPred.append((modelEncoder.transform([input(\"\\nWhat Model is your car? \")]))[0])\n",
    "inputPred.append(int(input(\"What year is your car? \")))\n",
    "inputPred.append((transmissionEncoder.transform([input(\"What transmission is your car? \")]))[0])\n",
    "inputPred.append(int(input(\"How much mileage does your car have? \")))\n",
    "inputPred.append((fuelTypeEncoder.transform([input(\"What's your car fuel type? \")]))[0])\n",
    "inputPred.append(int(input(\"How much is your cars tax? \")))\n",
    "inputPred.append(float(input(\"What's MPG of your car? \")))\n",
    "inputPred.append(float(input(\"What the engine size of your car? \")))\n",
    "entries.append(inputPred)\n",
    "\n",
    "\n",
    "print(\"\\n ***Predicting***\")\n",
    "Y_pred = myTree.predict([inputPred])\n",
    "print(\"\\n Predicted price for your car is: £\", round(Y_pred[0], 2))\n",
    "print(\"\\n ***Predicted in\", time.time() - timer,\"seconds***\")\n",
    "\n",
    "# RS6,2016,Semi-Auto,49050,Petrol,325,29.4,4.0 -- Price is £44,985   old Pred = £41,233.30,  new pred = £45492.50\n",
    "# BMW,5 Series,2019,Semi-Auto,4405,Petrol,145,48.7,2.0     Price = £26,000 old Pred = £27,077.49, new pred = £26500.00"
   ]
  }
 ],
 "metadata": {
  "kernelspec": {
   "display_name": "Python 3",
   "language": "python",
   "name": "python3"
  },
  "language_info": {
   "codemirror_mode": {
    "name": "ipython",
    "version": 3
   },
   "file_extension": ".py",
   "mimetype": "text/x-python",
   "name": "python",
   "nbconvert_exporter": "python",
   "pygments_lexer": "ipython3",
   "version": "3.10.2"
  },
  "vscode": {
   "interpreter": {
    "hash": "f25d21d07d980f3bfa83b1b8e5d869424fcc71a3330182c8ba45597eb2457e05"
   }
  }
 },
 "nbformat": 4,
 "nbformat_minor": 5
}
