{
 "cells": [
  {
   "cell_type": "markdown",
   "id": "bb8d801c",
   "metadata": {},
   "source": [
    "# Imports"
   ]
  },
  {
   "cell_type": "code",
   "execution_count": 1,
   "id": "c080cd73",
   "metadata": {
    "scrolled": true
   },
   "outputs": [],
   "source": [
    "import numpy as np\n",
    "import pandas as pd\n",
    "from math import sqrt\n",
    "import time\n",
    "from sklearn.model_selection import train_test_split\n",
    "from sklearn.preprocessing import LabelEncoder\n",
    "from sklearn.tree import DecisionTreeRegressor\n",
    "from sklearn.model_selection import GridSearchCV\n",
    "from sklearn.model_selection import KFold"
   ]
  },
  {
   "cell_type": "markdown",
   "id": "cd6b2c03",
   "metadata": {},
   "source": [
    "# Node Class"
   ]
  },
  {
   "cell_type": "code",
   "execution_count": 2,
   "id": "4500d7b1",
   "metadata": {},
   "outputs": [],
   "source": [
    "# Node class to initialise instances of each \n",
    "class Node():\n",
    "    \n",
    "    def __init__(self, feature = None, limit = None, leftSide = None, rightSide = None, gain = None, leaf = None):\n",
    "        \n",
    "        self.feature = feature\n",
    "        self.limit = limit\n",
    "        self.leftSide = leftSide\n",
    "        self.rightSide = rightSide\n",
    "        self.gain = gain\n",
    "        self.leaf = leaf "
   ]
  },
  {
   "attachments": {},
   "cell_type": "markdown",
   "id": "8ff0de6e",
   "metadata": {},
   "source": [
    "# Decision Tree Regression Algorithm"
   ]
  },
  {
   "cell_type": "code",
   "execution_count": 3,
   "id": "b0d4d509",
   "metadata": {},
   "outputs": [],
   "source": [
    "class decisionTree():\n",
    "    \n",
    "    def __init__(self, minSamples, maxDepth):\n",
    "        self.root = None\n",
    "        self.minSamples = minSamples\n",
    "        self.maxDepth = maxDepth\n",
    "        \n",
    "    # Compute the information gain for a given split    \n",
    "    def infoGain(self, parent, leftNode, rightNode):\n",
    "        # Compute the weight of the left and right node\n",
    "        leftWeight = len(leftNode) / len(parent)\n",
    "        rightWeight = len(rightNode) / len(parent)\n",
    "        \n",
    "        # Compute the information gain based on the variance of the parent and children nodes\n",
    "        informationGain = np.var(parent) - (leftWeight * np.var(leftNode) + rightWeight * np.var(rightNode))\n",
    "\n",
    "        return informationGain\n",
    "        \n",
    "    # Split the training data into left and right branches based on a threshold\n",
    "    def splitTree(self, trainingSet, feature, limit):\n",
    "        leftBranch = []\n",
    "        rightBranch = []\n",
    "        for i in trainingSet:\n",
    "            if i[feature] <= limit:\n",
    "                leftBranch.append(i)\n",
    "            else:\n",
    "                rightBranch.append(i)\n",
    "        rightBranch = np.array(rightBranch)\n",
    "        leftBranch = np.array(leftBranch)\n",
    "        return leftBranch, rightBranch\n",
    "    \n",
    "    # Find the best split for a given feature\n",
    "    def bestSplit(self, trainingSet, X):\n",
    "        bestSplitt = {} \n",
    "        biggestGain = -1\n",
    "\n",
    "        # Loop through each feature and each threshold value to find the best spli\n",
    "        for feature in range(X.shape[1]): \n",
    "            featureValues = []\n",
    "            for i in range(len(trainingSet)):\n",
    "                featureValues.append(trainingSet[i, feature])\n",
    "            thresholds = np.unique(featureValues)\n",
    "            for j in thresholds:\n",
    "                # Split the node into two sub-trees\n",
    "                leftSide, rightSide = self.splitTree(trainingSet, feature, j) #splits node into 2 sub-trees\n",
    "                if (len(leftSide) > 0 and len(rightSide) > 0 ):\n",
    "                    parent = []\n",
    "                    for i in range(len(trainingSet)):\n",
    "                        parent.append(trainingSet[i, -1])\n",
    "\n",
    "                    leftNode = []\n",
    "                    for i in range(len(leftSide)):\n",
    "                        leftNode.append(leftSide[i, -1])\n",
    "                        \n",
    "                    rightNode = []\n",
    "                    for i in range(len(rightSide)):\n",
    "                        rightNode.append(rightSide[i, -1])\n",
    "\n",
    "                    currentGain = self.infoGain(parent, leftNode, rightNode) \n",
    "                    if currentGain > biggestGain:\n",
    "                        # Update the best split if the gain is larger than the previous best gain\n",
    "                        bestSplitt[\"feature\"] = feature\n",
    "                        bestSplitt[\"limit\"] = j\n",
    "                        bestSplitt[\"leftSide\"] = leftSide\n",
    "                        bestSplitt[\"rightSide\"] = rightSide\n",
    "                        bestSplitt[\"gain\"] = currentGain\n",
    "                        biggestGain = currentGain\n",
    "                \n",
    "        return bestSplitt\n",
    "   \n",
    "    # Build the decision tree recursively\n",
    "    def treeBuild(self, trainingSet, currentDepth = 0):\n",
    "        \n",
    "        # Split training data into features and labels\n",
    "        X = trainingSet[:,:-1] # Everything but the last value\n",
    "        Y = []\n",
    "        for i in range(len(trainingSet)):\n",
    "            Y.append(trainingSet[i, -1]) # only the last value\n",
    "        \n",
    "        # Recursively build the tree until the stopping condition is met\n",
    "        if X.shape[0] >= self.minSamples and currentDepth <= self.maxDepth:\n",
    "            bestSplitNode = self.bestSplit(trainingSet, X)\n",
    "            \n",
    "            if \"gain\" in bestSplitNode and bestSplitNode[\"gain\"] > 0:\n",
    "                leftTree = self.treeBuild(bestSplitNode[\"leftSide\"], currentDepth + 1)\n",
    "                rightTree = self.treeBuild(bestSplitNode[\"rightSide\"], currentDepth + 1)\n",
    "                node = Node(bestSplitNode[\"feature\"], bestSplitNode[\"limit\"], leftTree, rightTree, bestSplitNode[\"gain\"])\n",
    "\n",
    "                return node\n",
    "        \n",
    "        # Create a leaf node with the average value of the training set\n",
    "        leafValue = np.mean(Y) #calculates mean of leaf nodes\n",
    "        val = Node(leaf = leafValue)\n",
    "        return val\n",
    "    \n",
    "    # Recursive function predict the label for a test row\n",
    "    def predictionLoop(self, testRow, root):\n",
    "        if root.leaf != None: # Leaf node\n",
    "            return root.leaf\n",
    "        \n",
    "        featureVal = testRow[root.feature]\n",
    "        if featureVal <= root.limit:\n",
    "            return self.predictionLoop(testRow, root.leftSide)\n",
    "        else:\n",
    "            return self.predictionLoop(testRow, root.rightSide)\n",
    "        \n",
    "   \n",
    "    # Function to predict the labels for a set of test rows\n",
    "    def predict(self, xTest):\n",
    "        predictions = []\n",
    "        for row in xTest:\n",
    "            predictions.append(self.predictionLoop(row, self.root)) \n",
    "        return predictions\n",
    "\n",
    "        \n",
    "    # Function to train the decision tree and set the root node\n",
    "    def fit(self, X, Y):\n",
    "        trainingSet = np.concatenate((X, Y), axis=1) # Join features and labels\n",
    "        self.root = self.treeBuild(trainingSet)"
   ]
  },
  {
   "attachments": {},
   "cell_type": "markdown",
   "id": "4a2563ad",
   "metadata": {},
   "source": [
    "# Cleaning and Splitting Data"
   ]
  },
  {
   "cell_type": "code",
   "execution_count": 4,
   "id": "5b750fbb",
   "metadata": {},
   "outputs": [],
   "source": [
    "modelEncoder = LabelEncoder()\n",
    "transmissionEncoder = LabelEncoder()\n",
    "fuelTypeEncoder = LabelEncoder()\n",
    "\n",
    "# Takes given dataset and returns split data\n",
    "def dataset(brand):\n",
    "\n",
    "    file = pd.read_csv(brand, quotechar='\"', skipinitialspace=True) # Reads the dataset\n",
    "\n",
    "    # Removes all outliers from the 'year' column\n",
    "    for i in ['year']:\n",
    "        q75,q25 = np.percentile(file.loc[:,i],[75,25])\n",
    "        IQR = q75-q25 # Interquartile range\n",
    "    \n",
    "        max = q75+(1.5*IQR)\n",
    "        min = q25-(1.5*IQR)\n",
    "    \n",
    "        file.loc[file[i] < min, i] = np.nan # Replaces outliers smaller than min with NaN\n",
    "        file.loc[file[i] > max, i] = np.nan # Replaces outliers larger than max with NaN\n",
    "\n",
    "    file = file.dropna(axis = 0) # Removes rows with NaN values\n",
    "\n",
    "    # Turns string values into numerical values using LabelEncoder\n",
    "    modelEncoder.fit(file[\"model\"])\n",
    "    file[\"model\"] = modelEncoder.transform(file[\"model\"])\n",
    "\n",
    "    transmissionEncoder.fit(file[\"transmission\"])\n",
    "    file[\"transmission\"] = transmissionEncoder.transform(file[\"transmission\"])\n",
    "\n",
    "    fuelTypeEncoder.fit(file[\"fuelType\"])\n",
    "    file[\"fuelType\"] = fuelTypeEncoder.transform(file[\"fuelType\"])\n",
    "\n",
    "    file = file.head(10000) # Limits dataset size to 10,000\n",
    "\n",
    "    X = file.drop(['price'], axis = 1).to_numpy()\n",
    "    Y = file['price'].values.reshape(-1,1)\n",
    "\n",
    "    # Splits data into 75% training and 25% testing data\n",
    "    X_train, X_test, Y_train, Y_test = train_test_split(X, Y, random_state = 601)\n",
    "    \n",
    "    return  X_train, X_test, Y_train, Y_test, file, X, Y\n",
    "\n",
    "X_train, X_test, Y_train, Y_test, file, X, Y= dataset(\"../UKUsedCarDataSet/vw.csv\") # Change file name to change dataset here"
   ]
  },
  {
   "attachments": {},
   "cell_type": "markdown",
   "id": "4f54018b",
   "metadata": {},
   "source": [
    "# Using Scikit-Learn's GridSeacrhCV to find optimal parameters"
   ]
  },
  {
   "cell_type": "code",
   "execution_count": null,
   "id": "e47380c1",
   "metadata": {},
   "outputs": [],
   "source": [
    "myTree = DecisionTreeRegressor(random_state = 601, max_depth = 34, min_samples_split = 3) #, max_depth = 3\n",
    "myTree.fit(X_train, Y_train)\n",
    "print(\"R Squared: \", myTree.score(X_test, Y_test))\n",
    "\n",
    "\n",
    "params = {'min_samples_split': list(range(2, 100)), 'max_leaf_nodes': list(range(2, 100)), 'max_depth': list(range(2, 100))}\n",
    "grid_search_cv = GridSearchCV(myTree, params, cv=3)\n",
    "grid_search_cv.fit(X_train, Y_train)\n",
    "\n",
    "grid_search_cv.best_estimator_"
   ]
  },
  {
   "cell_type": "markdown",
   "id": "108c1071",
   "metadata": {},
   "source": [
    "# RMSE"
   ]
  },
  {
   "cell_type": "code",
   "execution_count": 5,
   "id": "bfafe2e3",
   "metadata": {},
   "outputs": [],
   "source": [
    "def rmse(test, pred):\n",
    "    MSE = np.square(np.subtract(test, pred)).mean()\n",
    "    return sqrt(MSE)"
   ]
  },
  {
   "attachments": {},
   "cell_type": "markdown",
   "id": "041a5da8",
   "metadata": {},
   "source": [
    "# Hold-out Validation"
   ]
  },
  {
   "cell_type": "code",
   "execution_count": 6,
   "id": "4a86e488",
   "metadata": {},
   "outputs": [
    {
     "name": "stdout",
     "output_type": "stream",
     "text": [
      "The RMSE value is: 8200.16\n"
     ]
    }
   ],
   "source": [
    "def evaluation():   \n",
    "\n",
    "    # Initialises and trains model\n",
    "    myTree = decisionTree(3, 34)\n",
    "    myTree.fit(X_train, Y_train) \n",
    "    \n",
    "    Y_pred = myTree.predict(X_test)\n",
    "    error = rmse(Y_test, Y_pred) \n",
    "    print('The RMSE value is:', round(error, 2))\n",
    "\n",
    "evaluation()"
   ]
  },
  {
   "attachments": {},
   "cell_type": "markdown",
   "id": "56a4436f",
   "metadata": {},
   "source": [
    "# Cross Validation"
   ]
  },
  {
   "cell_type": "code",
   "execution_count": null,
   "id": "73133aa9",
   "metadata": {},
   "outputs": [],
   "source": [
    "def crossValidation():\n",
    "\n",
    "    RMSEScores = []\n",
    "\n",
    "    kf = KFold(n_splits = 5, shuffle = True, random_state = 601)\n",
    "    \n",
    "    # Iterate over the KFold splits\n",
    "    for n, m in kf.split(X):\n",
    "        X_train, X_test = X[n], X[m]\n",
    "        Y_train, Y_test = Y[n], Y[m]\n",
    "        \n",
    "        # Fit the model on the training data\n",
    "        dt = decisionTree(3, 34)\n",
    "        dt.fit(X_train, Y_train)\n",
    "        \n",
    "        # Predict on the validation data\n",
    "        Y_pred = dt.predict(X_test)\n",
    "        \n",
    "        # Compute the RMSE score for this fold\n",
    "        RMSEValue = rmse(Y_test, Y_pred)\n",
    "        RMSEScores.append(RMSEValue)\n",
    "    \n",
    "    # Compute the average RMSE score across all folds\n",
    "    print(\"Average RMSE score:\", np.mean(RMSEScores))\n",
    "\n",
    "crossValidation() #1664"
   ]
  },
  {
   "cell_type": "markdown",
   "id": "37b78934",
   "metadata": {},
   "source": [
    "# User Input Predictions"
   ]
  },
  {
   "cell_type": "code",
   "execution_count": 13,
   "id": "823dcb7a",
   "metadata": {},
   "outputs": [
    {
     "name": "stdout",
     "output_type": "stream",
     "text": [
      "\n",
      " ***Training Tree Model***\n",
      "\n",
      " List of models:\n",
      "['A1', 'A3', 'A4', 'A5', 'A6', 'A7', 'A8', 'Q2', 'Q3', 'Q5', 'Q7', 'Q8', 'R8', 'RS3', 'RS4', 'RS5', 'RS6', 'RS7', 'S3', 'S4', 'S5', 'S8', 'SQ5', 'SQ7', 'TT']\n",
      "\n",
      " ***Predicting***\n",
      "\n",
      " Predicted price for your car is: £ 44985.0\n",
      "\n",
      " ***Predicted in 286.7857460975647 seconds***\n"
     ]
    }
   ],
   "source": [
    "inputPred = []\n",
    "entries = []\n",
    "\n",
    "def userInput():\n",
    "    chooseBrand = input(\"Choose your car brand: Audi, BMW, Ford, Hyundai, Mercedes, Skoda, Toyota, Vauxhall or Volkswagen \\n\")\n",
    "    \n",
    "    match chooseBrand:\n",
    "        case \"Audi\":\n",
    "            return \"../UKUsedCarDataSet/audi.csv\"\n",
    "        case \"BMW\":\n",
    "            return \"../UKUsedCarDataSet/bmw.csv\"\n",
    "        case \"Ford\":\n",
    "            return \"../UKUsedCarDataSet/ford.csv\"\n",
    "        case \"Hyundai\":\n",
    "            return \"../UKUsedCarDataSet/hyundi.csv\"\n",
    "        case \"Mercedes\":\n",
    "            return \"../UKUsedCarDataSet/merc.csv\"\n",
    "        case \"Skoda\":\n",
    "            return \"../UKUsedCarDataSet/skoda.csv\"\n",
    "        case \"Toyota\":\n",
    "            return \"../UKUsedCarDataSet/toyota.csv\"\n",
    "        case \"Vauxhall\":\n",
    "            return \"../UKUsedCarDataSet/vauxhall.csv\"\n",
    "        case \"Volkswagen\":\n",
    "            return \"../UKUsedCarDataSet/volkswagen.csv\"\n",
    "        case _:\n",
    "            print(\"Invalid input\")\n",
    "            return userInput()\n",
    "\n",
    "X_train, X_test, Y_train, Y_test, file, X, Y = dataset(userInput())\n",
    "\n",
    "print(\"\\n ***Training Tree Model***\")\n",
    "timer = time.time()\n",
    "\n",
    "# Initialises and trains model\n",
    "myTree = decisionTree(3, 93)  \n",
    "myTree.fit(X_train, Y_train)\n",
    "\n",
    "print(\"\\n List of models:\")\n",
    "print(list(modelEncoder.classes_))\n",
    "\n",
    "inputPred.append((modelEncoder.transform([input(\"\\nWhat Model is your car? \")]))[0])\n",
    "inputPred.append(int(input(\"What year is your car? \")))\n",
    "inputPred.append((transmissionEncoder.transform([input(\"What transmission is your car? \")]))[0])\n",
    "inputPred.append(int(input(\"How much mileage does your car have? \")))\n",
    "inputPred.append((fuelTypeEncoder.transform([input(\"What's your car fuel type? \")]))[0])\n",
    "inputPred.append(int(input(\"How much is your cars tax? \")))\n",
    "inputPred.append(float(input(\"What's MPG of your car? \")))\n",
    "inputPred.append(float(input(\"What the engine size of your car? \")))\n",
    "entries.append(inputPred)\n",
    "\n",
    "\n",
    "print(\"\\n ***Predicting***\")\n",
    "Y_pred = myTree.predict([inputPred]) # Predicts price of car\n",
    "print(\"\\n Predicted price for your car is: £\", round(Y_pred[0], 2))\n",
    "print(\"\\n ***Predicted in\", time.time() - timer,\"seconds***\")"
   ]
  }
 ],
 "metadata": {
  "kernelspec": {
   "display_name": "Python 3",
   "language": "python",
   "name": "python3"
  },
  "language_info": {
   "codemirror_mode": {
    "name": "ipython",
    "version": 3
   },
   "file_extension": ".py",
   "mimetype": "text/x-python",
   "name": "python",
   "nbconvert_exporter": "python",
   "pygments_lexer": "ipython3",
   "version": "3.10.2"
  },
  "vscode": {
   "interpreter": {
    "hash": "f25d21d07d980f3bfa83b1b8e5d869424fcc71a3330182c8ba45597eb2457e05"
   }
  }
 },
 "nbformat": 4,
 "nbformat_minor": 5
}
