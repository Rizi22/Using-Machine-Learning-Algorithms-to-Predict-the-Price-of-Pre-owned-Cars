{
 "cells": [
  {
   "cell_type": "markdown",
   "id": "92c67747",
   "metadata": {},
   "source": [
    "# Import"
   ]
  },
  {
   "cell_type": "code",
   "execution_count": 1,
   "id": "38e961de",
   "metadata": {},
   "outputs": [],
   "source": [
    "import numpy as np\n",
    "import matplotlib.pyplot as plt\n",
    "import pandas as pd\n",
    "from sklearn.model_selection import train_test_split\n",
    "from math import sqrt\n",
    "from sklearn.metrics import mean_squared_error \n",
    "from sklearn.preprocessing import LabelEncoder\n",
    "import time\n",
    "import os, sys\n",
    "\n",
    "currentdir = os.path.dirname(os.path.realpath(\"randomForest.ipynb\"))\n",
    "parentdir = os.path.dirname(currentdir)\n",
    "sys.path.append(parentdir)\n",
    "\n",
    "from decisionTree import decisionTree"
   ]
  },
  {
   "cell_type": "markdown",
   "id": "4a2563ad",
   "metadata": {},
   "source": [
    "# Importing and Splitting data"
   ]
  },
  {
   "cell_type": "code",
   "execution_count": 2,
   "id": "10e7529f",
   "metadata": {},
   "outputs": [],
   "source": [
    "modelEncoder = LabelEncoder()\n",
    "transmissionEncoder = LabelEncoder()\n",
    "fuelTypeEncoder = LabelEncoder()\n",
    "\n",
    "def dataset(brand):\n",
    "\n",
    "    file = pd.read_csv(brand, quotechar='\"', skipinitialspace=True)\n",
    "\n",
    "    for i in ['year']:\n",
    "        q75,q25 = np.percentile(file.loc[:,i],[75,25])\n",
    "        IQR = q75-q25\n",
    "    \n",
    "        max = q75+(1.5*IQR)\n",
    "        min = q25-(1.5*IQR)\n",
    "    \n",
    "        file.loc[file[i] < min, i] = np.nan\n",
    "        file.loc[file[i] > max, i] = np.nan\n",
    "\n",
    "    file = file.dropna(axis = 0)\n",
    "\n",
    "\n",
    "    modelEncoder.fit(file[\"model\"])\n",
    "    file[\"model\"] = modelEncoder.transform(file[\"model\"])\n",
    "\n",
    "    transmissionEncoder.fit(file[\"transmission\"])\n",
    "    file[\"transmission\"] = transmissionEncoder.transform(file[\"transmission\"])\n",
    "\n",
    "    fuelTypeEncoder.fit(file[\"fuelType\"])\n",
    "    file[\"fuelType\"] = fuelTypeEncoder.transform(file[\"fuelType\"])\n",
    "\n",
    "    file = file.head(10000)\n",
    "    # X = file.drop(columns = ['price'])\n",
    "    # Y = file.price\n",
    "    # print(file)\n",
    "\n",
    "    X = file.drop(['price'], axis = 1).to_numpy()\n",
    "    # X = file[['year', 'mileage', 'tax', 'mpg', 'engineSize']].to_numpy(dtype = 'int')\n",
    "    Y = file['price'].values.reshape(-1,1)\n",
    "\n",
    "#     print(X)\n",
    "    X_train, X_test, Y_train, Y_test = train_test_split(X, Y, random_state = 601)\n",
    "    \n",
    "    return  X_train, X_test, Y_train, Y_test, file, X, Y\n",
    "\n",
    "X_train, X_test, Y_train, Y_test, file, X, Y = dataset(\"../UKUsedCarDataSet/vauxhall.csv\") "
   ]
  },
  {
   "attachments": {},
   "cell_type": "markdown",
   "id": "12ad0160",
   "metadata": {},
   "source": [
    "# Random Forest Algorithm"
   ]
  },
  {
   "cell_type": "code",
   "execution_count": 3,
   "id": "ef62d2c0",
   "metadata": {},
   "outputs": [],
   "source": [
    "class randomForest():\n",
    "\n",
    "    # Initialize the model with hyperparameters\n",
    "    def __init__(self, numTrees = 31, minSample = 6, maxDepth = 90, random_state = 0):\n",
    "        self.numTrees = numTrees # Number of trees in the forest\n",
    "        self.minSamples = minSample # Minimum number of samples required to split an internal node\n",
    "        self.maxDepth = maxDepth # Maximum depth of the decision trees\n",
    "        self.decisionTree = [] # List to hold decision trees of the fores\n",
    "        self.random_state = random_state # Random state used to generate bootstrap samples\n",
    "        \n",
    "    # Function to generate bootstrap samples \n",
    "    def bootstrapSample(self, X, y, state):\n",
    "        sampleNumb, featuresNumb = X.shape\n",
    "        samples = np.random.RandomState(state).choice(a = sampleNumb, size = sampleNumb, replace = True)\n",
    "        return X[samples], y[samples]\n",
    "\n",
    "    # Method to fit the random forest on training data   \n",
    "    def fit(self, X, y):\n",
    "        if len(self.decisionTree) > 0:\n",
    "            self.decisionTree= []\n",
    "\n",
    "        num_built = 0\n",
    "        # Loop over the number of trees to build\n",
    "        for i in range(self.numTrees):\n",
    "            \n",
    "            try:\n",
    "                DT = decisionTree(minSamples = self.minSamples, maxDepth = self.maxDepth) # Create a decision tree object\n",
    "                X, y = self.bootstrapSample(X, y, self.random_state + i) # Generate bootstrap sample of data\n",
    "                DT.fit(X, y) # Fit the decision tree on bootstrap sample\n",
    "                self.decisionTree.append(DT) # Add the decision tree to the forest\n",
    "                num_built += 1\n",
    "                # print(\"NUMBER BUILT: \", num_built)\n",
    "\n",
    "            except Exception as e:\n",
    "                print(\"ERROR: \", e) # Handle any exception that occurs during building a decision tree\n",
    "                continue\n",
    "    \n",
    "    # Method to predict the target values on new data using the random forest\n",
    "    def predict(self, X):\n",
    "        y = []\n",
    "        \n",
    "        # Loop over the decision trees of the forest to get their predictions\n",
    "        for tree in self.decisionTree:\n",
    "            y.append(tree.predict(X))\n",
    "        y = np.swapaxes(a = y, axis1 = 0, axis2 = 1) \n",
    "        predictions = []\n",
    "\n",
    "        # Loop over the predictions of each row and compute their mean as the final prediction\n",
    "        for preds in y:\n",
    "            predictions.append(np.mean(preds))\n",
    "        return predictions"
   ]
  },
  {
   "attachments": {},
   "cell_type": "markdown",
   "id": "895fd774",
   "metadata": {},
   "source": [
    "# RMSE"
   ]
  },
  {
   "cell_type": "code",
   "execution_count": 4,
   "id": "9b2576d1",
   "metadata": {},
   "outputs": [],
   "source": [
    "def rmse(test, pred):\n",
    "    MSE = np.square(np.subtract(test, pred)).mean()\n",
    "    return sqrt(MSE)"
   ]
  },
  {
   "attachments": {},
   "cell_type": "markdown",
   "id": "4430416e",
   "metadata": {},
   "source": [
    "# Hold-out Validation"
   ]
  },
  {
   "cell_type": "code",
   "execution_count": 5,
   "id": "40aa94a6",
   "metadata": {},
   "outputs": [
    {
     "name": "stdout",
     "output_type": "stream",
     "text": [
      "The RMSE value is: 4031.11\n"
     ]
    }
   ],
   "source": [
    "def evaluation(train, test, yTrain, yTest):  \n",
    "    \n",
    "    myForest = randomForest()  \n",
    "    myForest.fit(X_train, Y_train) \n",
    "\n",
    "    y_pred = myForest.predict(test)\n",
    "    error = rmse(yTest, y_pred) \n",
    "    print('The RMSE value is:', round(error, 2))\n",
    "\n",
    "evaluation(X_train, X_test, Y_train, Y_test)"
   ]
  },
  {
   "cell_type": "markdown",
   "id": "966cb917",
   "metadata": {},
   "source": [
    "# Cross-Vaidation"
   ]
  },
  {
   "cell_type": "code",
   "execution_count": null,
   "id": "a46ebd25",
   "metadata": {},
   "outputs": [],
   "source": [
    "from sklearn.model_selection import KFold\n",
    "RMSEScores = []\n",
    "kf = KFold(n_splits=5, shuffle=True, random_state=601)\n",
    "\n",
    "for train_index, val_index in kf.split(X):\n",
    "    X_train, X_val = X[train_index], X[val_index]\n",
    "    Y_train, Y_val = Y[train_index], Y[val_index]\n",
    "    \n",
    "    # Fit the model on the training data\n",
    "    RF = randomForest()\n",
    "    RF.fit(X_train, Y_train)\n",
    "    \n",
    "    # Predict on the validation data\n",
    "    Y_pred = RF.predict(X_val)\n",
    "    \n",
    "    # Compute the RMSE score for this fold\n",
    "    RMSE = np.sqrt(mean_squared_error(Y_val, Y_pred))\n",
    "    RMSEScores.append(RMSE)\n",
    "\n",
    "# Compute the average RMSE score across all folds\n",
    "print(\"Average RMSE score:\", np.mean(RMSEScores))\n"
   ]
  },
  {
   "cell_type": "code",
   "execution_count": 6,
   "id": "a2cb1f7c",
   "metadata": {},
   "outputs": [
    {
     "name": "stdout",
     "output_type": "stream",
     "text": [
      "\n",
      " ***Training Tree Model***\n",
      "\n",
      " ***Predicting***\n",
      "\n",
      " Predicted price for your car is: £ 49930.39\n",
      "\n",
      " ***Predicted in 0.004992961883544922 seconds***\n"
     ]
    }
   ],
   "source": [
    "def userInput():\n",
    "        chooseBrand = input(\"Choose your car brand: Audi, BMW, Ford, Hyundai, Mercedes, Skoda, Toyota, Vauxhall or Volkswagen \\n\")\n",
    "    \n",
    "        if chooseBrand == \"Audi\":\n",
    "            return \"../UKUsedCarDataSet/audi.csv\"\n",
    "        elif chooseBrand == \"BMW\":\n",
    "            return \"../UKUsedCarDataSet/bmw.csv\"\n",
    "        elif chooseBrand == \"Ford\":\n",
    "            return \"../UKUsedCarDataSet/ford.csv\"\n",
    "        elif chooseBrand == \"Hyundai\":\n",
    "            return \"../UKUsedCarDataSet/hyundi.csv\"\n",
    "        elif chooseBrand == \"Mercedes\":\n",
    "            return \"../UKUsedCarDataSet/merc.csv\"\n",
    "        elif chooseBrand == \"Skoda\":\n",
    "            return \"../UKUsedCarDataSet/skoda.csv\"\n",
    "        elif chooseBrand == \"Toyota\":\n",
    "            return \"../UKUsedCarDataSet/toyota.csv\"\n",
    "        elif chooseBrand == \"Vauxhall\":\n",
    "            return \"../UKUsedCarDataSet/vauxhall.csv\"\n",
    "        elif chooseBrand == \"Volkswagen\":\n",
    "            return \"../UKUsedCarDataSet/vw.csv\"\n",
    "        else:\n",
    "            print(\"Invalid Car Brand\")\n",
    "            return\n",
    "        \n",
    "X_train, X_test, Y_train, Y_test, file, X, Y = dataset(userInput())\n",
    "print(\"\\n ***Training Tree Model***\")\n",
    "myForest = randomForest()  \n",
    "myForest.fit(X_train, Y_train)\n",
    "\n",
    "inputPred = []\n",
    "entries = []\n",
    "\n",
    "inputPred.append((modelEncoder.transform([input(\"\\nWhat Model is your car? \")]))[0])\n",
    "inputPred.append(int(input(\"What year is your car? \")))\n",
    "inputPred.append((transmissionEncoder.transform([input(\"What transmission is your car? \")]))[0])\n",
    "inputPred.append(int(input(\"How much mileage does your car have? \")))\n",
    "inputPred.append((fuelTypeEncoder.transform([input(\"What's your car fuel type? \")]))[0])\n",
    "inputPred.append(int(input(\"How much is your cars tax? \")))\n",
    "inputPred.append(float(input(\"What's MPG of your car? \")))\n",
    "inputPred.append(float(input(\"What the engine size of your car? \")))\n",
    "entries.append(inputPred)\n",
    "\n",
    "import time\n",
    "print(\"\\n ***Predicting***\")\n",
    "start = time.time()\n",
    "y_pred = myForest.predict([inputPred])\n",
    "\n",
    "print(\"\\n Predicted price for your car is: £\", round(y_pred[0], 2))\n",
    "\n",
    "print(\"\\n ***Predicted in\", time.time() - start,\"seconds***\")"
   ]
  }
 ],
 "metadata": {
  "kernelspec": {
   "display_name": "Python 3 (ipykernel)",
   "language": "python",
   "name": "python3"
  },
  "language_info": {
   "codemirror_mode": {
    "name": "ipython",
    "version": 3
   },
   "file_extension": ".py",
   "mimetype": "text/x-python",
   "name": "python",
   "nbconvert_exporter": "python",
   "pygments_lexer": "ipython3",
   "version": "3.10.2"
  },
  "vscode": {
   "interpreter": {
    "hash": "f25d21d07d980f3bfa83b1b8e5d869424fcc71a3330182c8ba45597eb2457e05"
   }
  }
 },
 "nbformat": 4,
 "nbformat_minor": 5
}
