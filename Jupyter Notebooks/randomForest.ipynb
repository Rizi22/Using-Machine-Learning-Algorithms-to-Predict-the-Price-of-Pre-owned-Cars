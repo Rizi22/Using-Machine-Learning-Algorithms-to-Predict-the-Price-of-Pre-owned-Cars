{
 "cells": [
  {
   "cell_type": "markdown",
   "id": "92c67747",
   "metadata": {},
   "source": [
    "# Import"
   ]
  },
  {
   "cell_type": "code",
   "execution_count": 1,
   "id": "38e961de",
   "metadata": {},
   "outputs": [],
   "source": [
    "import numpy as np\n",
    "import matplotlib.pyplot as plt\n",
    "import pandas as pd\n",
    "from sklearn.model_selection import train_test_split\n",
    "import csv\n",
    "from sklearn.preprocessing import MinMaxScaler\n",
    "from math import sqrt\n",
    "from sklearn.metrics import mean_squared_error \n",
    "from sklearn.preprocessing import LabelEncoder\n",
    "from sklearn.tree import DecisionTreeRegressor\n",
    "from sklearn.ensemble import RandomForestRegressor\n",
    "from sklearn.metrics import mean_squared_error\n",
    "from sklearn.tree import plot_tree\n",
    "\n",
    "\n",
    "import os, sys\n",
    "currentdir = os.path.dirname(os.path.realpath(\"randomForest.ipynb\"))\n",
    "parentdir = os.path.dirname(currentdir)\n",
    "sys.path.append(parentdir)\n",
    "\n",
    "from decisionTree import decisionTree\n",
    "from sklearn.utils import resample"
   ]
  },
  {
   "cell_type": "markdown",
   "id": "4a2563ad",
   "metadata": {},
   "source": [
    "# Importing and Splitting data"
   ]
  },
  {
   "cell_type": "code",
   "execution_count": null,
   "id": "10e7529f",
   "metadata": {},
   "outputs": [],
   "source": [
    "modelEncoder = LabelEncoder()\n",
    "transmissionEncoder = LabelEncoder()\n",
    "fuelTypeEncoder = LabelEncoder()\n",
    "\n",
    "def dataset(brand):\n",
    "\n",
    "    file = pd.read_csv(brand, quotechar='\"', skipinitialspace=True)\n",
    "\n",
    "    for i in ['year']:\n",
    "        q75,q25 = np.percentile(file.loc[:,i],[75,25])\n",
    "        IQR = q75-q25\n",
    "    \n",
    "        max = q75+(1.5*IQR)\n",
    "        min = q25-(1.5*IQR)\n",
    "    \n",
    "        file.loc[file[i] < min, i] = np.nan\n",
    "        file.loc[file[i] > max, i] = np.nan\n",
    "\n",
    "    file = file.dropna(axis = 0)\n",
    "\n",
    "\n",
    "    modelEncoder.fit(file[\"model\"])\n",
    "    file[\"model\"] = modelEncoder.transform(file[\"model\"])\n",
    "\n",
    "    transmissionEncoder.fit(file[\"transmission\"])\n",
    "    file[\"transmission\"] = transmissionEncoder.transform(file[\"transmission\"])\n",
    "\n",
    "    fuelTypeEncoder.fit(file[\"fuelType\"])\n",
    "    file[\"fuelType\"] = fuelTypeEncoder.transform(file[\"fuelType\"])\n",
    "\n",
    "    file = file.head(5000)\n",
    "    # X = file.drop(columns = ['price'])\n",
    "    # Y = file.price\n",
    "    # print(file)\n",
    "\n",
    "    X = file.drop(['price'], axis = 1).to_numpy()\n",
    "    # X = file[['year', 'mileage', 'tax', 'mpg', 'engineSize']].to_numpy(dtype = 'int')\n",
    "    Y = file['price'].values.reshape(-1,1)\n",
    "\n",
    "#     print(X)\n",
    "    X_train, X_test, Y_train, Y_test = train_test_split(X, Y, random_state = 601)\n",
    "    \n",
    "    return  X_train, X_test, Y_train, Y_test"
   ]
  },
  {
   "cell_type": "code",
   "execution_count": null,
   "id": "d8562fd3",
   "metadata": {},
   "outputs": [],
   "source": [
    "X_train, X_test, Y_train, Y_test = dataset(\"../UKUsedCarDataSet/audi.csv\") # Use Audi dataset as default for KNN analysis"
   ]
  },
  {
   "cell_type": "markdown",
   "id": "477fe827",
   "metadata": {},
   "source": [
    "# Using Scikit-Learn"
   ]
  },
  {
   "cell_type": "code",
   "execution_count": null,
   "id": "ba0949a8",
   "metadata": {
    "scrolled": true
   },
   "outputs": [],
   "source": [
    "from sklearn.ensemble import RandomForestRegressor\n",
    "regressor = RandomForestRegressor(random_state = 601)\n",
    "regressor.fit(X_train, Y_train)\n",
    "print(\"R Squared: \", regressor.score(X_test, Y_test))"
   ]
  },
  {
   "cell_type": "code",
   "execution_count": null,
   "id": "349ab339",
   "metadata": {},
   "outputs": [],
   "source": [
    "from sklearn.model_selection import RandomizedSearchCV\n",
    "random_grid = params = {'min_samples_split': list(range(2, 100)), 'max_depth': list(range(2, 100)), 'n_estimators': list(range(2, 100))}\n",
    "\n",
    "#{'min_samples_split': [3, 4, 5, 6], 'max_depth': list(range(1, 6)), 'n_estimators': list(range(1, 100))}\n",
    "\n",
    "rf_random = RandomizedSearchCV(estimator = regressor, param_distributions = random_grid, n_iter = 100, cv = 3, verbose=2, random_state=601, n_jobs = -1)\n",
    "# Fit the random search model\n",
    "rf_random.fit(X_train, Y_train)"
   ]
  },
  {
   "cell_type": "code",
   "execution_count": null,
   "id": "dae1d113",
   "metadata": {
    "scrolled": true
   },
   "outputs": [],
   "source": [
    "rf_random.best_params_"
   ]
  },
  {
   "cell_type": "code",
   "execution_count": null,
   "id": "633f9260",
   "metadata": {},
   "outputs": [],
   "source": [
    "regressor2 = RandomForestRegressor(random_state = 601, n_estimators = 31, min_samples_split = 6, max_depth = 90)\n",
    "regressor2.fit(X_train, Y_train)\n",
    "print(\"R Squared: \", regressor2.score(X_test, Y_test))\n",
    "\n",
    "#22,6,96 = 0.879540341188823\n",
    "#25,6,99 = 0.8833043912108435\n",
    "#31,6,90 = 0.8853793922050485"
   ]
  },
  {
   "cell_type": "code",
   "execution_count": null,
   "id": "3fb48db5",
   "metadata": {},
   "outputs": [],
   "source": [
    "from sklearn.model_selection import GridSearchCV\n",
    "params = {'min_samples_split': list(range(2, 10)), 'max_depth': list(range(90, 100)), 'n_estimators': list(range(10, 50))}\n",
    "\n",
    "grid_search_cv = GridSearchCV(regressor, params, cv=3)\n",
    "grid_search_cv.fit(X_train, Y_train)"
   ]
  },
  {
   "cell_type": "code",
   "execution_count": null,
   "id": "bf7a6e56",
   "metadata": {},
   "outputs": [],
   "source": [
    "grid_search_cv.best_estimator_"
   ]
  },
  {
   "cell_type": "code",
   "execution_count": null,
   "id": "a6444da1",
   "metadata": {},
   "outputs": [],
   "source": [
    "regressor3 = RandomForestRegressor(random_state = 601, n_estimators = 23, min_samples_split = 3, max_depth = 5)\n",
    "regressor3.fit(X_train, Y_train) #14, 5, 5\n",
    "print(\"R Squared: \", regressor3.score(X_test, Y_test))\n",
    "#23, 3, 5 = 0.8554524402174026"
   ]
  },
  {
   "cell_type": "markdown",
   "id": "12ad0160",
   "metadata": {},
   "source": [
    "# MyCODE"
   ]
  },
  {
   "cell_type": "code",
   "execution_count": null,
   "id": "ef62d2c0",
   "metadata": {},
   "outputs": [],
   "source": [
    "class randomForest():\n",
    "\n",
    "    def __init__(self, numTrees = 31, minSample = 6, maxDepth = 90, random_state = 0):\n",
    "        self.numTrees = numTrees\n",
    "        self.minSamples = minSample\n",
    "        self.maxDepth = maxDepth\n",
    "        self.decisionTree = []\n",
    "        self.random_state = random_state\n",
    "        \n",
    "    def _sample(self, X, y, state):\n",
    "        sampleNumb, featuresNumb = X.shape\n",
    "        samples = np.random.RandomState(state).choice(a = sampleNumb, size = sampleNumb, replace = True)\n",
    "        return X[samples], y[samples]\n",
    "        \n",
    "    def fit(self, X, y):\n",
    "        if len(self.decisionTree) > 0:\n",
    "            self.decisionTree= []\n",
    "\n",
    "        num_built = 0\n",
    "        for i in range(self.numTrees):\n",
    "            \n",
    "            try:\n",
    "                DT = decisionTree(minSamples = self.minSamples, maxDepth = self.maxDepth)\n",
    "                _X, _y = self._sample(X, y, self.random_state + i)\n",
    "                DT.fit(_X, _y)\n",
    "                self.decisionTree.append(DT)\n",
    "                num_built += 1\n",
    "                print(\"NUMBER BUILT: \", num_built)\n",
    "            except Exception as e:\n",
    "                print(\"ERROR: \", e)\n",
    "                continue\n",
    "    \n",
    "    def predict(self, X):\n",
    "        y = []\n",
    "        for tree in self.decisionTree:\n",
    "            y.append(tree.predict(X))\n",
    "        y = np.swapaxes(a = y, axis1 = 0, axis2 = 1) \n",
    "        predictions = []\n",
    "        for preds in y:\n",
    "            predictions.append(np.mean(preds))\n",
    "        return predictions"
   ]
  },
  {
   "cell_type": "code",
   "execution_count": null,
   "id": "9b2576d1",
   "metadata": {},
   "outputs": [],
   "source": [
    "def rmse(h, y):\n",
    "  return sqrt(mean_squared_error(h, y))"
   ]
  },
  {
   "cell_type": "code",
   "execution_count": null,
   "id": "846eadb5",
   "metadata": {},
   "outputs": [],
   "source": [
    "myForest = randomForest()  \n",
    "myForest.fit(X_train, Y_train)"
   ]
  },
  {
   "cell_type": "code",
   "execution_count": null,
   "id": "a2cb1f7c",
   "metadata": {},
   "outputs": [],
   "source": [
    "def userInput():\n",
    "        chooseBrand = input(\"Choose your car brand: Audi, BMW, Ford, Hyundai, Mercedes, Skoda, Toyota, Vauxhall or Volkswagen \\n\")\n",
    "    \n",
    "        if chooseBrand == \"Audi\":\n",
    "            return \"../UKUsedCarDataSet/audi.csv\"\n",
    "        elif chooseBrand == \"BMW\":\n",
    "            return \"../UKUsedCarDataSet/bmw.csv\"\n",
    "        elif chooseBrand == \"Ford\":\n",
    "            return \"../UKUsedCarDataSet/ford.csv\"\n",
    "        elif chooseBrand == \"Hyundai\":\n",
    "            return \"../UKUsedCarDataSet/hyundi.csv\"\n",
    "        elif chooseBrand == \"Mercedes\":\n",
    "            return \"../UKUsedCarDataSet/merc.csv\"\n",
    "        elif chooseBrand == \"Skoda\":\n",
    "            return \"../UKUsedCarDataSet/skoda.csv\"\n",
    "        elif chooseBrand == \"Toyota\":\n",
    "            return \"../UKUsedCarDataSet/toyota.csv\"\n",
    "        elif chooseBrand == \"Vauxhall\":\n",
    "            return \"../UKUsedCarDataSet/vauxhall.csv\"\n",
    "        elif chooseBrand == \"Volkswagen\":\n",
    "            return \"../UKUsedCarDataSet/vw.csv\"\n",
    "        else:\n",
    "            print(\"Invalid Car Brand\")\n",
    "            return\n",
    "        \n",
    "X_train, X_test, Y_train, Y_test = dataset(userInput())\n",
    "print(\"\\n ***Training Tree Model***\")\n",
    "# myForest = randomForest()  \n",
    "# myForest.fit(X_train, Y_train)\n",
    "\n",
    "inputPred = []\n",
    "entries = []\n",
    "\n",
    "inputPred.append((modelEncoder.transform([input(\"\\nWhat Model is your car? \")]))[0])\n",
    "inputPred.append(int(input(\"What year is your car? \")))\n",
    "inputPred.append((transmissionEncoder.transform([input(\"What transmission is your car? \")]))[0])\n",
    "inputPred.append(int(input(\"How much mileage does your car have? \")))\n",
    "inputPred.append((fuelTypeEncoder.transform([input(\"What's your car fuel type? \")]))[0])\n",
    "inputPred.append(int(input(\"How much is your cars tax? \")))\n",
    "inputPred.append(float(input(\"What's MPG of your car? \")))\n",
    "inputPred.append(float(input(\"What the engine size of your car? \")))\n",
    "entries.append(inputPred)\n",
    "\n",
    "import time\n",
    "print(\"\\n ***Predicting***\")\n",
    "start = time.time()\n",
    "y_pred = myForest.predict([inputPred])\n",
    "# {0:.2f}'.format()\n",
    "print(\"\\n Predicted price for your car is: £\", round(y_pred[0], 2))\n",
    "\n",
    "print(\"\\n ***Predicted in\", time.time() - start,\"seconds***\")\n",
    "\n",
    "# RS6,2016,Semi-Auto,49050,Petrol,325,29.4,4.0 -- Price is £44,985\n",
    "# BMW,5 Series,2019,Semi-Auto,4405,Petrol,145,48.7,2.0     Price = £26,000\n"
   ]
  },
  {
   "cell_type": "code",
   "execution_count": null,
   "id": "40aa94a6",
   "metadata": {},
   "outputs": [],
   "source": [
    "def evaluation(train, test, yTrain, yTest):    \n",
    "    y_pred = myForest.predict(test)\n",
    "    error = rmse(yTest, y_pred) \n",
    "    print('The RMSE value is:', round(error, 2))\n",
    "    # for i in range(len(y_pred)):\n",
    "    #     print(\"\\nOriginal value:\", yTest[i], \"vs the predicted value:\", y_pred[i])\n",
    "    #     print(\"The difference is:\", yTest[i] - y_pred[i])\n",
    "\n",
    "\n",
    "    file2 = pd.read_csv(\"../UKUsedCarDataSet/audi.csv\", quotechar='\"', skipinitialspace=True)\n",
    "    mean= np.mean(file2[\"price\"])\n",
    "\n",
    "    print(\"R VALUE:\", 1 - (error/mean))\n",
    "\n",
    "\n",
    "\n",
    "evaluation(X_train, X_test, Y_train, Y_test)\n",
    "\n",
    "#rmse with 1000: 5771.8260997248035 \n",
    "#rmse with 5000: 3414.0288745712533\n",
    "#rmse with resample None: 2431.746126478666\n",
    "#rmse with resample 601: 3414.0288745712533\n",
    "#rmse with for loop: 2436.033694659025\n",
    "#rmse using my method: 2436.033694659025\n"
   ]
  }
 ],
 "metadata": {
  "kernelspec": {
   "display_name": "Python 3 (ipykernel)",
   "language": "python",
   "name": "python3"
  },
  "language_info": {
   "codemirror_mode": {
    "name": "ipython",
    "version": 3
   },
   "file_extension": ".py",
   "mimetype": "text/x-python",
   "name": "python",
   "nbconvert_exporter": "python",
   "pygments_lexer": "ipython3",
   "version": "3.10.2"
  },
  "vscode": {
   "interpreter": {
    "hash": "f25d21d07d980f3bfa83b1b8e5d869424fcc71a3330182c8ba45597eb2457e05"
   }
  }
 },
 "nbformat": 4,
 "nbformat_minor": 5
}
