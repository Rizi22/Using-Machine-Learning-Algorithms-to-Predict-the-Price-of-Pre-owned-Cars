{
 "cells": [
  {
   "cell_type": "markdown",
   "id": "76fc843b",
   "metadata": {},
   "source": [
    "# Imports"
   ]
  },
  {
   "cell_type": "code",
   "execution_count": 1,
   "id": "679ac403",
   "metadata": {},
   "outputs": [],
   "source": [
    "import numpy as np\n",
    "import matplotlib.pyplot as plt\n",
    "import pandas as pd\n",
    "from sklearn.model_selection import train_test_split\n",
    "from sklearn.preprocessing import MinMaxScaler\n",
    "from math import sqrt\n",
    "from sklearn.preprocessing import LabelEncoder\n",
    "from sklearn.model_selection import KFold"
   ]
  },
  {
   "cell_type": "markdown",
   "id": "194750f5",
   "metadata": {},
   "source": [
    "# Euclidean Distance"
   ]
  },
  {
   "cell_type": "code",
   "execution_count": 2,
   "id": "d9ac5120",
   "metadata": {},
   "outputs": [],
   "source": [
    "def eucDistance(variable1, variable2):\n",
    "    distance = 0\n",
    "    for i in range(len(variable2)):\n",
    "        distance += (variable1[i] - variable2[i])**2\n",
    "    return np.sqrt(distance)"
   ]
  },
  {
   "cell_type": "markdown",
   "id": "3048d332",
   "metadata": {},
   "source": [
    "# KNN"
   ]
  },
  {
   "cell_type": "code",
   "execution_count": 3,
   "id": "83088256",
   "metadata": {
    "scrolled": false
   },
   "outputs": [],
   "source": [
    "def kNN(train, testRow, yTrain, num):\n",
    "    distance = list() #Stores distance of each point\n",
    "    for i in range(len(train)): \n",
    "        dist = eucDistance(train[i], testRow) # Work out distance to point\n",
    "        distance.append((train[i], dist, yTrain.iloc[i])) \n",
    "    distance = sort(distance) \n",
    "\n",
    "    kNeighbours = list() # list to store K amount of neighbour results\n",
    "    for i in range(num):\n",
    "        kNeighbours.append((testRow, distance[i][1], distance[i][2]))\n",
    "    return kNeighbours "
   ]
  },
  {
   "cell_type": "markdown",
   "id": "c875cd65",
   "metadata": {},
   "source": [
    "# Sort Method"
   ]
  },
  {
   "cell_type": "code",
   "execution_count": 4,
   "id": "edf6ff4f",
   "metadata": {},
   "outputs": [],
   "source": [
    "# Sorts the distance list in ascending order\n",
    "def sort(dist):\n",
    "    for i in range(0, len(dist)):\n",
    "        for j in range(0, len(dist) - i - 1):\n",
    "            if (dist[j][1] > dist[j + 1][1]):\n",
    "                temp = dist[j]\n",
    "                dist[j] = dist[j + 1]\n",
    "                dist[j + 1] = temp\n",
    "    return dist"
   ]
  },
  {
   "cell_type": "markdown",
   "id": "b01b0161",
   "metadata": {},
   "source": [
    "# Predict Method"
   ]
  },
  {
   "cell_type": "code",
   "execution_count": 5,
   "id": "9b18d4dd",
   "metadata": {},
   "outputs": [],
   "source": [
    "from statistics import mean \n",
    "\n",
    "# Predicts the value of the test variable\n",
    "def predict(train, test, yTrain, num_neighbors):\n",
    "    predictions = list()\n",
    "    for i in range(len(test)):\n",
    "        neighbour = kNN(train, test[i], yTrain, num_neighbors)\n",
    "        labels = [] # Stores yTrain for each test variable\n",
    "        for i in range (len(neighbour)):\n",
    "            t = labels.append(neighbour[i][2]) # Appends yTrain\n",
    "        predictions.append(mean(labels))\n",
    "    return predictions"
   ]
  },
  {
   "cell_type": "markdown",
   "id": "04a48e36",
   "metadata": {},
   "source": [
    "# RMSE"
   ]
  },
  {
   "cell_type": "code",
   "execution_count": 6,
   "id": "1a662e0f",
   "metadata": {},
   "outputs": [],
   "source": [
    "# Calculates the root mean squared error\n",
    "def rmse(test, pred):\n",
    "    MSE = np.square(np.subtract(test, pred)).mean()\n",
    "    return sqrt(MSE)"
   ]
  },
  {
   "attachments": {},
   "cell_type": "markdown",
   "id": "59cb0d2c",
   "metadata": {},
   "source": [
    "# Cleaning and Splitting Dataset"
   ]
  },
  {
   "cell_type": "code",
   "execution_count": 7,
   "id": "1370d4f1",
   "metadata": {},
   "outputs": [],
   "source": [
    "modelEncoder = LabelEncoder()\n",
    "transmissionEncoder = LabelEncoder()\n",
    "fuelTypeEncoder = LabelEncoder()\n",
    "scaler = MinMaxScaler() # Scaler for normalizing the data\n",
    "\n",
    "def dataset(brand): \n",
    "    file = pd.read_csv(brand, quotechar='\"', skipinitialspace=True) # Reads the dataset\n",
    "\n",
    "    # Removes all outliers from the 'year' column\n",
    "    for i in ['year']:\n",
    "        q75,q25 = np.percentile(file.loc[:,i],[75,25])\n",
    "        IQR = q75-q25 # Interquartile range\n",
    "    \n",
    "        max = q75+(1.5*IQR)\n",
    "        min = q25-(1.5*IQR)\n",
    "    \n",
    "        file.loc[file[i] < min, i] = np.nan # Replaces outliers smaller than min with NaN\n",
    "        file.loc[file[i] > max, i] = np.nan # Replaces outliers larger than max with NaN\n",
    "\n",
    "    file = file.dropna(axis = 0) # Removes rows with NaN values\n",
    "\n",
    "    # Turns string values into numerical values using LabelEncoder\n",
    "    modelEncoder.fit(file[\"model\"])\n",
    "    file[\"model\"] = modelEncoder.transform(file[\"model\"])\n",
    "    \n",
    "    transmissionEncoder.fit(file[\"transmission\"])\n",
    "    file[\"transmission\"] = transmissionEncoder.transform(file[\"transmission\"])\n",
    "    \n",
    "    fuelTypeEncoder.fit(file[\"fuelType\"])\n",
    "    file[\"fuelType\"] = fuelTypeEncoder.transform(file[\"fuelType\"])\n",
    "\n",
    "    file = file.head(1000) # Limits dataset size to 10,000\n",
    "\n",
    "    X = file.drop(columns = ['price'])\n",
    "    Y = file.price\n",
    "    \n",
    "    # Splits data into 75% training and 25% testing data\n",
    "    X_train, X_test, Y_train, Y_test = train_test_split(X, Y, random_state = 601)\n",
    "    \n",
    "    # Normalises data using MinMaxScaler\n",
    "    scaler.fit(X_train)\n",
    "    X_train = scaler.transform(X_train)\n",
    "    X_test = scaler.transform(X_test)\n",
    "\n",
    "    return  X_train, X_test, Y_train, Y_test, file, X, Y\n",
    "\n",
    "X_train, X_test, Y_train, Y_test, file, X, Y = dataset(\"../UKUsedCarDataSet/vauxhall.csv\") # Change file name to change dataset here"
   ]
  },
  {
   "cell_type": "markdown",
   "id": "a8de250c",
   "metadata": {},
   "source": [
    "# Evaluation Method"
   ]
  },
  {
   "cell_type": "code",
   "execution_count": 8,
   "id": "96889625",
   "metadata": {},
   "outputs": [
    {
     "data": {
      "image/png": "[encoded data removed]",
      "text/plain": [
       "<Figure size 640x480 with 1 Axes>"
      ]
     },
     "metadata": {},
     "output_type": "display_data"
    }
   ],
   "source": [
    "# Plots the RMSE values for each K value\n",
    "def eva(train, test, yTrain, yTest):\n",
    "    rmseValues = []\n",
    "    predictions = []\n",
    "    for k in range(1, 101): # Testing up to 100 neearest neighbours\n",
    "        y_pred = predict(train, test, yTrain, k)\n",
    "        error = rmse(yTest, y_pred) \n",
    "        rmseValues.append(error)\n",
    "        # print('RMSE value for k =' , k , 'is:', error)\n",
    "\n",
    "    plt.plot(np.arange(100) + 1, rmseValues)\n",
    "    plt.xlabel('K Neighbors')\n",
    "    plt.ylabel('RMSE')\n",
    "    \n",
    "    return\n",
    "\n",
    "eva(X_train, X_test, Y_train, Y_test)"
   ]
  },
  {
   "attachments": {},
   "cell_type": "markdown",
   "id": "6c71f67f",
   "metadata": {},
   "source": [
    "# Cross Validation"
   ]
  },
  {
   "cell_type": "code",
   "execution_count": null,
   "id": "237b8ba2",
   "metadata": {},
   "outputs": [],
   "source": [
    "kf = KFold(n_splits=5, shuffle=True, random_state=601)\n",
    "\n",
    "RMSEScores = []\n",
    "\n",
    "# Iterate over the KFold splits\n",
    "for n, m in kf.split(X):\n",
    "    X_train, X_test = X.iloc[n], X.iloc[m]\n",
    "    Y_train, Y_test = Y.iloc[n], Y.iloc[m]\n",
    "    \n",
    "    # Predict on the test data\n",
    "    Y_pred = predict(X_train, X_test, Y_train, 4)\n",
    "    \n",
    "    # Compute the RMSE score for this fold\n",
    "    RMSEValue = rmse(Y_test, Y_pred)\n",
    "    RMSEScores.append(RMSEValue)\n",
    "\n",
    "# Compute the average RMSE score across all folds\n",
    "print(\"Average RMSE score:\", np.mean(RMSEScores))\n"
   ]
  },
  {
   "attachments": {},
   "cell_type": "markdown",
   "id": "597b4ef8",
   "metadata": {},
   "source": [
    "# Hold-out Validation"
   ]
  },
  {
   "cell_type": "code",
   "execution_count": 9,
   "id": "c25c2b7e",
   "metadata": {},
   "outputs": [
    {
     "name": "stdout",
     "output_type": "stream",
     "text": [
      "RMSE value for k = 4 is: 945.22\n"
     ]
    }
   ],
   "source": [
    "# Calculates the RMSE value for a 4 nearest neighbour model\n",
    "def NN(train, test, yTrain, yTest):    \n",
    "    y_pred = predict(train, test, yTrain, 4)\n",
    "    error = rmse(yTest, y_pred) \n",
    "    print('RMSE value for k =' , 4 , 'is:', round(error, 2))\n",
    "    return \n",
    "\n",
    "NN(X_train, X_test, Y_train, Y_test)"
   ]
  },
  {
   "cell_type": "markdown",
   "id": "9ddf147f",
   "metadata": {},
   "source": [
    "# User Input Predictions"
   ]
  },
  {
   "cell_type": "code",
   "execution_count": 10,
   "id": "53ff36e2",
   "metadata": {
    "scrolled": true
   },
   "outputs": [
    {
     "name": "stdout",
     "output_type": "stream",
     "text": [
      "\n",
      " List of models:\n",
      "['A1', 'A3', 'A4', 'A5', 'A6', 'A7', 'A8', 'Q2', 'Q3', 'Q5', 'Q7', 'Q8', 'R8', 'RS3', 'RS4', 'RS5', 'RS6', 'RS7', 'S3', 'S4', 'S5', 'S8', 'SQ5', 'SQ7', 'TT']\n",
      "\n",
      " ***Predicting***\n",
      "\n",
      " Predicted price for your car is: £ 44717\n",
      "\n",
      " ***Predicted in 0.08976149559020996 seconds***\n"
     ]
    },
    {
     "name": "stderr",
     "output_type": "stream",
     "text": [
      "c:\\Users\\rb22\\anaconda3\\lib\\site-packages\\sklearn\\base.py:450: UserWarning: X does not have valid feature names, but MinMaxScaler was fitted with feature names\n",
      "  warnings.warn(\n"
     ]
    }
   ],
   "source": [
    "inputPred = []\n",
    "entries = []\n",
    "\n",
    "def userInput():\n",
    "    chooseBrand = input(\"Choose your car brand: Audi, BMW, Ford, Hyundai, Mercedes, Skoda, Toyota, Vauxhall or Volkswagen \\n\")\n",
    "    \n",
    "    if chooseBrand == \"Audi\":\n",
    "        return \"../UKUsedCarDataSet/audi.csv\"\n",
    "    elif chooseBrand == \"BMW\":\n",
    "        return \"../UKUsedCarDataSet/bmw.csv\"\n",
    "    elif chooseBrand == \"Ford\":\n",
    "        return \"../UKUsedCarDataSet/ford.csv\"\n",
    "    elif chooseBrand == \"Hyundai\":\n",
    "        return \"../UKUsedCarDataSet/hyundi.csv\"\n",
    "    elif chooseBrand == \"Mercedes\":\n",
    "        return \"../UKUsedCarDataSet/merc.csv\"\n",
    "    elif chooseBrand == \"Skoda\":\n",
    "        return \"../UKUsedCarDataSet/skoda.csv\"\n",
    "    elif chooseBrand == \"Toyota\":\n",
    "        return \"../UKUsedCarDataSet/toyota.csv\"\n",
    "    elif chooseBrand == \"Vauxhall\":\n",
    "        return \"../UKUsedCarDataSet/vauxhall.csv\"\n",
    "    elif chooseBrand == \"Volkswagen\":\n",
    "        return \"../UKUsedCarDataSet/vw.csv\"\n",
    "    else:\n",
    "        print(\"Invalid Car Brand\")\n",
    "        userInput()\n",
    "    return \n",
    "  \n",
    "X_train, X_test, Y_train, Y_test, file, X, Y = dataset(userInput())\n",
    "\n",
    "print(\"\\n List of models:\")\n",
    "print(list(modelEncoder.classes_))\n",
    "\n",
    "inputPred.append((modelEncoder.transform([input(\"\\nWhat Model is your car? \")]))[0])\n",
    "inputPred.append(int(input(\"What year is your car? \")))\n",
    "inputPred.append((transmissionEncoder.transform([input(\"What transmission is your car? \")]))[0])\n",
    "inputPred.append(int(input(\"How much mileage does your car have? \")))\n",
    "inputPred.append((fuelTypeEncoder.transform([input(\"What's your car fuel type? \")]))[0])\n",
    "inputPred.append(int(input(\"How much is your cars tax? \")))\n",
    "inputPred.append(float(input(\"What's MPG of your car? \")))\n",
    "inputPred.append(float(input(\"What the engine size of your car? \")))\n",
    "entries.append(inputPred)\n",
    "inputPred = scaler.transform([inputPred])\n",
    "\n",
    "import time\n",
    "print(\"\\n ***Predicting***\")\n",
    "start = time.time()\n",
    "y_pred = predict(X_train, inputPred, Y_train, 4)\n",
    "# {0:.2f}'.format()\n",
    "print(\"\\n Predicted price for your car is: £\", round(y_pred[0], 2))\n",
    "\n",
    "print(\"\\n ***Predicted in\", time.time() - start,\"seconds***\")"
   ]
  }
 ],
 "metadata": {
  "kernelspec": {
   "display_name": "Python 3 (ipykernel)",
   "language": "python",
   "name": "python3"
  },
  "language_info": {
   "codemirror_mode": {
    "name": "ipython",
    "version": 3
   },
   "file_extension": ".py",
   "mimetype": "text/x-python",
   "name": "python",
   "nbconvert_exporter": "python",
   "pygments_lexer": "ipython3",
   "version": "3.9.13"
  },
  "vscode": {
   "interpreter": {
    "hash": "83ff51d9f317b8ca80e5f143d4ddaebd5941bdc4ce038cf0be07ab08422cb26b"
   }
  }
 },
 "nbformat": 4,
 "nbformat_minor": 5
}
