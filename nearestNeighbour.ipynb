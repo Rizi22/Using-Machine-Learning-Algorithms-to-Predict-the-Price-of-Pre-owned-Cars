{
 "cells": [
  {
   "cell_type": "markdown",
   "id": "76fc843b",
   "metadata": {},
   "source": [
    "# Imports"
   ]
  },
  {
   "cell_type": "code",
   "execution_count": 2,
   "id": "679ac403",
   "metadata": {},
   "outputs": [],
   "source": [
    "import numpy as np\n",
    "import matplotlib.pyplot as plt\n",
    "import pandas as pd\n",
    "import seaborn as sns\n",
    "from sklearn.model_selection import train_test_split\n",
    "import csv\n",
    "from sklearn.preprocessing import MinMaxScaler\n",
    "from math import sqrt\n",
    "from sklearn.metrics import mean_squared_error \n",
    "from sklearn.preprocessing import LabelEncoder"
   ]
  },
  {
   "cell_type": "markdown",
   "id": "59cb0d2c",
   "metadata": {},
   "source": [
    "# Importing, Splitting and Normalisng Dataset"
   ]
  },
  {
   "cell_type": "code",
   "execution_count": 5,
   "id": "1370d4f1",
   "metadata": {},
   "outputs": [],
   "source": [
    "modelEncoder = LabelEncoder()\n",
    "transmissionEncoder = LabelEncoder()\n",
    "fuelTypeEncoder = LabelEncoder()\n",
    "scaler = MinMaxScaler()\n",
    "\n",
    "def dataset(brand):\n",
    "    file = pd.read_csv(brand, quotechar='\"', skipinitialspace=True)\n",
    "\n",
    "    modelEncoder.fit(file[\"model\"])\n",
    "    file[\"model\"] = modelEncoder.transform(file[\"model\"])\n",
    "    \n",
    "    transmissionEncoder.fit(file[\"transmission\"])\n",
    "    file[\"transmission\"] = transmissionEncoder.transform(file[\"transmission\"])\n",
    "    \n",
    "    fuelTypeEncoder.fit(file[\"fuelType\"])\n",
    "    file[\"fuelType\"] = fuelTypeEncoder.transform(file[\"fuelType\"])\n",
    "\n",
    "    file = file.head(1000) # Limits dataset size\n",
    "\n",
    "    X = file.drop(columns = ['price'])\n",
    "    Y = file.price\n",
    "\n",
    "#     print(file)\n",
    "    \n",
    "    X_train, X_test, Y_train, Y_test = train_test_split(X, Y, random_state = 601)\n",
    "    \n",
    "    scaler.fit(X_train)\n",
    "\n",
    "    X_train = scaler.transform(X_train)\n",
    "    X_test = scaler.transform(X_test)\n",
    "    \n",
    "    print(list(fuelTypeEncoder.classes_))\n",
    "\n",
    "    return  X_train, X_test, Y_train, Y_test"
   ]
  },
  {
   "cell_type": "code",
   "execution_count": 6,
   "id": "20547b66",
   "metadata": {},
   "outputs": [
    {
     "name": "stdout",
     "output_type": "stream",
     "text": [
      "['Diesel', 'Hybrid', 'Petrol']\n"
     ]
    }
   ],
   "source": [
    "X_train, X_test, Y_train, Y_test = dataset(\"UKUsedCarDataSet/audi.csv\") # Use Audi dataset as default for KNN analysis"
   ]
  },
  {
   "cell_type": "markdown",
   "id": "c678044e",
   "metadata": {},
   "source": [
    "# KNN using Scikit-Learn"
   ]
  },
  {
   "cell_type": "code",
   "execution_count": 4,
   "id": "fc1496d0",
   "metadata": {},
   "outputs": [
    {
     "name": "stdout",
     "output_type": "stream",
     "text": [
      "0.8905304474015207\n"
     ]
    }
   ],
   "source": [
    "from sklearn.neighbors import KNeighborsRegressor as KNN_Reg\n",
    "knn = KNN_Reg(n_neighbors = 4)\n",
    "knn.fit(X_train, Y_train)\n",
    "print(knn.score(X_test, Y_test))"
   ]
  },
  {
   "cell_type": "code",
   "execution_count": 5,
   "id": "71eeb9c3",
   "metadata": {},
   "outputs": [
    {
     "data": {
      "text/plain": [
       "Text(0, 0.5, 'R^2')"
      ]
     },
     "execution_count": 5,
     "metadata": {},
     "output_type": "execute_result"
    },
    {
     "data": {
      "image/png": "[encoded data removed]",
      "text/plain": [
       "<Figure size 640x480 with 1 Axes>"
      ]
     },
     "metadata": {},
     "output_type": "display_data"
    }
   ],
   "source": [
    "results = np.empty(99)\n",
    "for k in range(1, 100):\n",
    "    knn = KNN_Reg(n_neighbors = k)\n",
    "    knn.fit(X_train, Y_train)\n",
    "    results[k - 1] = (knn.score(X_test, Y_test))\n",
    "\n",
    "plt.plot(np.arange(99) + 1, results)\n",
    "plt.xlabel('K Neighbors')\n",
    "plt.ylabel('R^2')"
   ]
  },
  {
   "cell_type": "markdown",
   "id": "194750f5",
   "metadata": {},
   "source": [
    "# Euclidean Distance"
   ]
  },
  {
   "cell_type": "code",
   "execution_count": 6,
   "id": "d9ac5120",
   "metadata": {},
   "outputs": [],
   "source": [
    "def eucDistance(variable1, variable2):\n",
    "    distance = 0\n",
    "    for i in range(len(variable2)):\n",
    "        distance += (variable1[i] - variable2[i])**2\n",
    "    return np.sqrt(distance)"
   ]
  },
  {
   "cell_type": "markdown",
   "id": "3048d332",
   "metadata": {},
   "source": [
    "# KNN"
   ]
  },
  {
   "cell_type": "code",
   "execution_count": 7,
   "id": "83088256",
   "metadata": {
    "scrolled": false
   },
   "outputs": [],
   "source": [
    "def kNN(train, testRow, yTrain, num):\n",
    "    distance = list() #Stores distance of each point\n",
    "    for i in range(len(train)): #REMOVED -1 from here!!!!!!!!!!!!!!!!!!!!!!!!!!!!!\n",
    "        dist = eucDistance(train[i], testRow) #sends points to work out distance\n",
    "        distance.append((train[i], dist, yTrain.iloc[i])) #CHNAGEEE\n",
    "    distance = sort(distance) #need to create a sort method to order list\n",
    "#     print(\"DISTANCE: \", distance)\n",
    "    kNeighbours = list() #list to store K amount of neighbour results\n",
    "    for i in range(num):\n",
    "        kNeighbours.append((testRow, distance[i][1], distance[i][2]))\n",
    "    return kNeighbours "
   ]
  },
  {
   "cell_type": "markdown",
   "id": "c875cd65",
   "metadata": {},
   "source": [
    "# Sort Method"
   ]
  },
  {
   "cell_type": "code",
   "execution_count": 8,
   "id": "edf6ff4f",
   "metadata": {},
   "outputs": [],
   "source": [
    "def sort(dist):\n",
    "    for i in range(0, len(dist)):\n",
    "        for j in range(0, len(dist) - i - 1):\n",
    "            if (dist[j][1] > dist[j + 1][1]):\n",
    "                temp = dist[j]\n",
    "                dist[j] = dist[j + 1]\n",
    "                dist[j + 1] = temp\n",
    "    return dist"
   ]
  },
  {
   "cell_type": "markdown",
   "id": "b01b0161",
   "metadata": {},
   "source": [
    "# Predict Method"
   ]
  },
  {
   "cell_type": "code",
   "execution_count": 9,
   "id": "9b18d4dd",
   "metadata": {},
   "outputs": [],
   "source": [
    "from statistics import mean \n",
    "\n",
    "def predict(train, test, yTrain, num_neighbors):\n",
    "    predictions = list()\n",
    "    for i in range(len(test)):\n",
    "        neighbour = kNN(train, test[i], yTrain, num_neighbors) #CHANGE\n",
    "        labels = [] #Stores yTrain for each test variable\n",
    "        for i in range (len(neighbour)):\n",
    "            t = labels.append(neighbour[i][2]) #Appends yTrain\n",
    "        predictions.append(mean(labels))\n",
    "    return predictions"
   ]
  },
  {
   "cell_type": "markdown",
   "id": "04a48e36",
   "metadata": {},
   "source": [
    "# RMSE"
   ]
  },
  {
   "cell_type": "code",
   "execution_count": 10,
   "id": "1a662e0f",
   "metadata": {},
   "outputs": [],
   "source": [
    "def rmse(test, pred):\n",
    "    MSE = np.square(np.subtract(test, pred)).mean()\n",
    "    return sqrt(MSE)"
   ]
  },
  {
   "cell_type": "markdown",
   "id": "a8de250c",
   "metadata": {},
   "source": [
    "# Evaluation Method"
   ]
  },
  {
   "cell_type": "code",
   "execution_count": 11,
   "id": "96889625",
   "metadata": {},
   "outputs": [],
   "source": [
    "def eva(train, test, yTrain, yTest):\n",
    "    rmseValues = []\n",
    "    predictions = []\n",
    "    for k in range(1, 101): #Testing up to 100 neearest neighbours\n",
    "        y_pred = predict(train, test, yTrain, k)\n",
    "        error = rmse(yTest, y_pred) \n",
    "        rmseValues.append(error)\n",
    "        print('RMSE value for k =' , k , 'is:', error)\n",
    "\n",
    "    plt.plot(np.arange(100) + 1, rmseValues)\n",
    "    plt.xlabel('K Neighbors')\n",
    "    plt.ylabel('RMSE')\n",
    "    \n",
    "    return"
   ]
  },
  {
   "cell_type": "code",
   "execution_count": 12,
   "id": "b171177e",
   "metadata": {
    "scrolled": true
   },
   "outputs": [
    {
     "ename": "KeyboardInterrupt",
     "evalue": "",
     "output_type": "error",
     "traceback": [
      "\u001b[1;31m---------------------------------------------------------------------------\u001b[0m",
      "\u001b[1;31mKeyboardInterrupt\u001b[0m                         Traceback (most recent call last)",
      "\u001b[1;32m~\\AppData\\Local\\Temp\\ipykernel_21040\\2081816947.py\u001b[0m in \u001b[0;36m<module>\u001b[1;34m\u001b[0m\n\u001b[1;32m----> 1\u001b[1;33m \u001b[0meva\u001b[0m\u001b[1;33m(\u001b[0m\u001b[0mX_train\u001b[0m\u001b[1;33m,\u001b[0m \u001b[0mX_test\u001b[0m\u001b[1;33m,\u001b[0m \u001b[0mY_train\u001b[0m\u001b[1;33m,\u001b[0m \u001b[0mY_test\u001b[0m\u001b[1;33m)\u001b[0m\u001b[1;33m\u001b[0m\u001b[1;33m\u001b[0m\u001b[0m\n\u001b[0m",
      "\u001b[1;32m~\\AppData\\Local\\Temp\\ipykernel_21040\\1680576337.py\u001b[0m in \u001b[0;36meva\u001b[1;34m(train, test, yTrain, yTest)\u001b[0m\n\u001b[0;32m      3\u001b[0m     \u001b[0mpredictions\u001b[0m \u001b[1;33m=\u001b[0m \u001b[1;33m[\u001b[0m\u001b[1;33m]\u001b[0m\u001b[1;33m\u001b[0m\u001b[1;33m\u001b[0m\u001b[0m\n\u001b[0;32m      4\u001b[0m     \u001b[1;32mfor\u001b[0m \u001b[0mk\u001b[0m \u001b[1;32min\u001b[0m \u001b[0mrange\u001b[0m\u001b[1;33m(\u001b[0m\u001b[1;36m1\u001b[0m\u001b[1;33m,\u001b[0m \u001b[1;36m101\u001b[0m\u001b[1;33m)\u001b[0m\u001b[1;33m:\u001b[0m \u001b[1;31m#Testing up to 100 neearest neighbours\u001b[0m\u001b[1;33m\u001b[0m\u001b[1;33m\u001b[0m\u001b[0m\n\u001b[1;32m----> 5\u001b[1;33m         \u001b[0my_pred\u001b[0m \u001b[1;33m=\u001b[0m \u001b[0mpredict\u001b[0m\u001b[1;33m(\u001b[0m\u001b[0mtrain\u001b[0m\u001b[1;33m,\u001b[0m \u001b[0mtest\u001b[0m\u001b[1;33m,\u001b[0m \u001b[0myTrain\u001b[0m\u001b[1;33m,\u001b[0m \u001b[0mk\u001b[0m\u001b[1;33m)\u001b[0m\u001b[1;33m\u001b[0m\u001b[1;33m\u001b[0m\u001b[0m\n\u001b[0m\u001b[0;32m      6\u001b[0m         \u001b[0merror\u001b[0m \u001b[1;33m=\u001b[0m \u001b[0mrmse\u001b[0m\u001b[1;33m(\u001b[0m\u001b[0myTest\u001b[0m\u001b[1;33m,\u001b[0m \u001b[0my_pred\u001b[0m\u001b[1;33m)\u001b[0m\u001b[1;33m\u001b[0m\u001b[1;33m\u001b[0m\u001b[0m\n\u001b[0;32m      7\u001b[0m         \u001b[0mrmseValues\u001b[0m\u001b[1;33m.\u001b[0m\u001b[0mappend\u001b[0m\u001b[1;33m(\u001b[0m\u001b[0merror\u001b[0m\u001b[1;33m)\u001b[0m\u001b[1;33m\u001b[0m\u001b[1;33m\u001b[0m\u001b[0m\n",
      "\u001b[1;32m~\\AppData\\Local\\Temp\\ipykernel_21040\\3404256970.py\u001b[0m in \u001b[0;36mpredict\u001b[1;34m(train, test, yTrain, num_neighbors)\u001b[0m\n\u001b[0;32m      4\u001b[0m     \u001b[0mpredictions\u001b[0m \u001b[1;33m=\u001b[0m \u001b[0mlist\u001b[0m\u001b[1;33m(\u001b[0m\u001b[1;33m)\u001b[0m\u001b[1;33m\u001b[0m\u001b[1;33m\u001b[0m\u001b[0m\n\u001b[0;32m      5\u001b[0m     \u001b[1;32mfor\u001b[0m \u001b[0mi\u001b[0m \u001b[1;32min\u001b[0m \u001b[0mrange\u001b[0m\u001b[1;33m(\u001b[0m\u001b[0mlen\u001b[0m\u001b[1;33m(\u001b[0m\u001b[0mtest\u001b[0m\u001b[1;33m)\u001b[0m\u001b[1;33m)\u001b[0m\u001b[1;33m:\u001b[0m\u001b[1;33m\u001b[0m\u001b[1;33m\u001b[0m\u001b[0m\n\u001b[1;32m----> 6\u001b[1;33m         \u001b[0mneighbour\u001b[0m \u001b[1;33m=\u001b[0m \u001b[0mkNN\u001b[0m\u001b[1;33m(\u001b[0m\u001b[0mtrain\u001b[0m\u001b[1;33m,\u001b[0m \u001b[0mtest\u001b[0m\u001b[1;33m[\u001b[0m\u001b[0mi\u001b[0m\u001b[1;33m]\u001b[0m\u001b[1;33m,\u001b[0m \u001b[0myTrain\u001b[0m\u001b[1;33m,\u001b[0m \u001b[0mnum_neighbors\u001b[0m\u001b[1;33m)\u001b[0m \u001b[1;31m#CHANGE\u001b[0m\u001b[1;33m\u001b[0m\u001b[1;33m\u001b[0m\u001b[0m\n\u001b[0m\u001b[0;32m      7\u001b[0m         \u001b[0mlabels\u001b[0m \u001b[1;33m=\u001b[0m \u001b[1;33m[\u001b[0m\u001b[1;33m]\u001b[0m \u001b[1;31m#Stores yTrain for each test variable\u001b[0m\u001b[1;33m\u001b[0m\u001b[1;33m\u001b[0m\u001b[0m\n\u001b[0;32m      8\u001b[0m         \u001b[1;32mfor\u001b[0m \u001b[0mi\u001b[0m \u001b[1;32min\u001b[0m \u001b[0mrange\u001b[0m \u001b[1;33m(\u001b[0m\u001b[0mlen\u001b[0m\u001b[1;33m(\u001b[0m\u001b[0mneighbour\u001b[0m\u001b[1;33m)\u001b[0m\u001b[1;33m)\u001b[0m\u001b[1;33m:\u001b[0m\u001b[1;33m\u001b[0m\u001b[1;33m\u001b[0m\u001b[0m\n",
      "\u001b[1;32m~\\AppData\\Local\\Temp\\ipykernel_21040\\769402800.py\u001b[0m in \u001b[0;36mkNN\u001b[1;34m(train, testRow, yTrain, num)\u001b[0m\n\u001b[0;32m      4\u001b[0m         \u001b[0mdist\u001b[0m \u001b[1;33m=\u001b[0m \u001b[0meucDistance\u001b[0m\u001b[1;33m(\u001b[0m\u001b[0mtrain\u001b[0m\u001b[1;33m[\u001b[0m\u001b[0mi\u001b[0m\u001b[1;33m]\u001b[0m\u001b[1;33m,\u001b[0m \u001b[0mtestRow\u001b[0m\u001b[1;33m)\u001b[0m \u001b[1;31m#sends points to work out distance\u001b[0m\u001b[1;33m\u001b[0m\u001b[1;33m\u001b[0m\u001b[0m\n\u001b[0;32m      5\u001b[0m         \u001b[0mdistance\u001b[0m\u001b[1;33m.\u001b[0m\u001b[0mappend\u001b[0m\u001b[1;33m(\u001b[0m\u001b[1;33m(\u001b[0m\u001b[0mtrain\u001b[0m\u001b[1;33m[\u001b[0m\u001b[0mi\u001b[0m\u001b[1;33m]\u001b[0m\u001b[1;33m,\u001b[0m \u001b[0mdist\u001b[0m\u001b[1;33m,\u001b[0m \u001b[0myTrain\u001b[0m\u001b[1;33m.\u001b[0m\u001b[0miloc\u001b[0m\u001b[1;33m[\u001b[0m\u001b[0mi\u001b[0m\u001b[1;33m]\u001b[0m\u001b[1;33m)\u001b[0m\u001b[1;33m)\u001b[0m \u001b[1;31m#CHNAGEEE\u001b[0m\u001b[1;33m\u001b[0m\u001b[1;33m\u001b[0m\u001b[0m\n\u001b[1;32m----> 6\u001b[1;33m     \u001b[0mdistance\u001b[0m \u001b[1;33m=\u001b[0m \u001b[0msort\u001b[0m\u001b[1;33m(\u001b[0m\u001b[0mdistance\u001b[0m\u001b[1;33m)\u001b[0m \u001b[1;31m#need to create a sort method to order list\u001b[0m\u001b[1;33m\u001b[0m\u001b[1;33m\u001b[0m\u001b[0m\n\u001b[0m\u001b[0;32m      7\u001b[0m \u001b[1;31m#     print(\"DISTANCE: \", distance)\u001b[0m\u001b[1;33m\u001b[0m\u001b[1;33m\u001b[0m\u001b[0m\n\u001b[0;32m      8\u001b[0m     \u001b[0mkNeighbours\u001b[0m \u001b[1;33m=\u001b[0m \u001b[0mlist\u001b[0m\u001b[1;33m(\u001b[0m\u001b[1;33m)\u001b[0m \u001b[1;31m#list to store K amount of neighbour results\u001b[0m\u001b[1;33m\u001b[0m\u001b[1;33m\u001b[0m\u001b[0m\n",
      "\u001b[1;32m~\\AppData\\Local\\Temp\\ipykernel_21040\\1825706678.py\u001b[0m in \u001b[0;36msort\u001b[1;34m(dist)\u001b[0m\n\u001b[0;32m      2\u001b[0m     \u001b[1;32mfor\u001b[0m \u001b[0mi\u001b[0m \u001b[1;32min\u001b[0m \u001b[0mrange\u001b[0m\u001b[1;33m(\u001b[0m\u001b[1;36m0\u001b[0m\u001b[1;33m,\u001b[0m \u001b[0mlen\u001b[0m\u001b[1;33m(\u001b[0m\u001b[0mdist\u001b[0m\u001b[1;33m)\u001b[0m\u001b[1;33m)\u001b[0m\u001b[1;33m:\u001b[0m\u001b[1;33m\u001b[0m\u001b[1;33m\u001b[0m\u001b[0m\n\u001b[0;32m      3\u001b[0m         \u001b[1;32mfor\u001b[0m \u001b[0mj\u001b[0m \u001b[1;32min\u001b[0m \u001b[0mrange\u001b[0m\u001b[1;33m(\u001b[0m\u001b[1;36m0\u001b[0m\u001b[1;33m,\u001b[0m \u001b[0mlen\u001b[0m\u001b[1;33m(\u001b[0m\u001b[0mdist\u001b[0m\u001b[1;33m)\u001b[0m \u001b[1;33m-\u001b[0m \u001b[0mi\u001b[0m \u001b[1;33m-\u001b[0m \u001b[1;36m1\u001b[0m\u001b[1;33m)\u001b[0m\u001b[1;33m:\u001b[0m\u001b[1;33m\u001b[0m\u001b[1;33m\u001b[0m\u001b[0m\n\u001b[1;32m----> 4\u001b[1;33m             \u001b[1;32mif\u001b[0m \u001b[1;33m(\u001b[0m\u001b[0mdist\u001b[0m\u001b[1;33m[\u001b[0m\u001b[0mj\u001b[0m\u001b[1;33m]\u001b[0m\u001b[1;33m[\u001b[0m\u001b[1;36m1\u001b[0m\u001b[1;33m]\u001b[0m \u001b[1;33m>\u001b[0m \u001b[0mdist\u001b[0m\u001b[1;33m[\u001b[0m\u001b[0mj\u001b[0m \u001b[1;33m+\u001b[0m \u001b[1;36m1\u001b[0m\u001b[1;33m]\u001b[0m\u001b[1;33m[\u001b[0m\u001b[1;36m1\u001b[0m\u001b[1;33m]\u001b[0m\u001b[1;33m)\u001b[0m\u001b[1;33m:\u001b[0m\u001b[1;33m\u001b[0m\u001b[1;33m\u001b[0m\u001b[0m\n\u001b[0m\u001b[0;32m      5\u001b[0m                 \u001b[0mtemp\u001b[0m \u001b[1;33m=\u001b[0m \u001b[0mdist\u001b[0m\u001b[1;33m[\u001b[0m\u001b[0mj\u001b[0m\u001b[1;33m]\u001b[0m\u001b[1;33m\u001b[0m\u001b[1;33m\u001b[0m\u001b[0m\n\u001b[0;32m      6\u001b[0m                 \u001b[0mdist\u001b[0m\u001b[1;33m[\u001b[0m\u001b[0mj\u001b[0m\u001b[1;33m]\u001b[0m \u001b[1;33m=\u001b[0m \u001b[0mdist\u001b[0m\u001b[1;33m[\u001b[0m\u001b[0mj\u001b[0m \u001b[1;33m+\u001b[0m \u001b[1;36m1\u001b[0m\u001b[1;33m]\u001b[0m\u001b[1;33m\u001b[0m\u001b[1;33m\u001b[0m\u001b[0m\n",
      "\u001b[1;31mKeyboardInterrupt\u001b[0m: "
     ]
    }
   ],
   "source": [
    "eva(X_train, X_test, Y_train, Y_test)"
   ]
  },
  {
   "cell_type": "markdown",
   "id": "9ea277f8",
   "metadata": {},
   "source": [
    "# 1NN"
   ]
  },
  {
   "cell_type": "code",
   "execution_count": null,
   "id": "c25c2b7e",
   "metadata": {},
   "outputs": [],
   "source": [
    "def NN(train, test, yTrain, yTest):    \n",
    "    y_pred = predict(train, test, yTrain, 4)\n",
    "    error = rmse(yTest, y_pred) \n",
    "    print('RMSE value for k =' , 4 , 'is:', error)\n",
    "    for i in range(len(y_pred)):\n",
    "        print(\"\\nOriginal value:\", yTest.iloc[i], \"vs the predicted value:\", y_pred[i])\n",
    "        print(\"The difference is:\", yTest.iloc[i] - y_pred[i])\n",
    "    \n",
    "    ### Below is attempt to put data on bar chart\n",
    "#     YTest = pd.DataFrame(yTest)\n",
    "# #     y_pred = pd.DataFrame(y_pred)\n",
    "# #     y_pred = pd.DataFrame({'Price_prediction': y_pred.flatten()})\n",
    "# #     Comparison = yTest.join(y_pred)\n",
    "#     plt.bar(yTest, y_pred)\n",
    "# #     plt.grid(linestyle = '-', linewidth = '0.6', color = 'green', which = 'both')\n",
    "#     plt.show()\n",
    "    return \n",
    "NN(X_train, X_test, Y_train, Y_test)"
   ]
  },
  {
   "cell_type": "markdown",
   "id": "9ddf147f",
   "metadata": {},
   "source": [
    "# User Input Predictions"
   ]
  },
  {
   "cell_type": "code",
   "execution_count": 13,
   "id": "53ff36e2",
   "metadata": {
    "scrolled": true
   },
   "outputs": [
    {
     "name": "stdout",
     "output_type": "stream",
     "text": [
      "Choose your car brand: Audi, BMW, Ford, Hyundi, Mercedes, Skoda, Toyota, Vauxhall or Volkswagen \n",
      "Audi\n",
      "\n",
      " List of models:\n",
      "['A1', 'A2', 'A3', 'A4', 'A5', 'A6', 'A7', 'A8', 'Q2', 'Q3', 'Q5', 'Q7', 'Q8', 'R8', 'RS3', 'RS4', 'RS5', 'RS6', 'RS7', 'S3', 'S4', 'S5', 'S8', 'SQ5', 'SQ7', 'TT']\n",
      "\n",
      "What Model is your car? RS6\n",
      "What year is your car? 2016\n",
      "What transmission is your car? Semi-Auto\n",
      "How much mileage does your car have? 49050\n",
      "What's your car fuel type? Petrol\n",
      "How much is your cars tax? 325\n",
      "What's MPG of your car? 29.4\n",
      "What the engine size of your car? 4\n",
      "\n",
      " ***Predicting***\n",
      "\n",
      " Predicted price for your car is: £ 44717\n",
      "\n",
      " ***Predicted in 0.19118833541870117 seconds***\n"
     ]
    },
    {
     "name": "stderr",
     "output_type": "stream",
     "text": [
      "C:\\Users\\rb22\\anaconda3\\lib\\site-packages\\sklearn\\base.py:450: UserWarning: X does not have valid feature names, but MinMaxScaler was fitted with feature names\n",
      "  warnings.warn(\n"
     ]
    }
   ],
   "source": [
    "inputPred = []\n",
    "entries = []\n",
    "\n",
    "def userInput():\n",
    "    chooseBrand = input(\"Choose your car brand: Audi, BMW, Ford, Hyundi, Mercedes, Skoda, Toyota, Vauxhall or Volkswagen \\n\")\n",
    "    \n",
    "    if chooseBrand == \"Audi\":\n",
    "        return \"UKUsedCarDataSet/audi.csv\"\n",
    "    elif chooseBrand == \"BMW\":\n",
    "        return \"UKUsedCarDataSet/bmw.csv\"\n",
    "    elif chooseBrand == \"Ford\":\n",
    "        return \"UKUsedCarDataSet/ford.csv\"\n",
    "    elif chooseBrand == \"Hyundi\":\n",
    "        return \"UKUsedCarDataSet/hyundi.csv\"\n",
    "    elif chooseBrand == \"Mercedes\":\n",
    "        return \"UKUsedCarDataSet/merc.csv\"\n",
    "    elif chooseBrand == \"Skoda\":\n",
    "        return \"UKUsedCarDataSet/skoda.csv\"\n",
    "    elif chooseBrand == \"Toyota\":\n",
    "        return \"UKUsedCarDataSet/toyota.csv\"\n",
    "    elif chooseBrand == \"Vauxhall\":\n",
    "        return \"UKUsedCarDataSet/vauxhall.csv\"\n",
    "    elif chooseBrand == \"Volkswagen\":\n",
    "        return \"UKUsedCarDataSet/vw.csv\"\n",
    "    else:\n",
    "        print(\"Invalid Car Brand\")\n",
    "        userInput()\n",
    "    return \n",
    "  \n",
    "X_train, X_test, Y_train, Y_test = dataset(userInput())\n",
    "\n",
    "print(\"\\n List of models:\")\n",
    "print(list(modelEncoder.classes_))\n",
    "\n",
    "inputPred.append((modelEncoder.transform([input(\"\\nWhat Model is your car? \")]))[0])\n",
    "inputPred.append(int(input(\"What year is your car? \")))\n",
    "inputPred.append((transmissionEncoder.transform([input(\"What transmission is your car? \")]))[0])\n",
    "inputPred.append(int(input(\"How much mileage does your car have? \")))\n",
    "inputPred.append((fuelTypeEncoder.transform([input(\"What's your car fuel type? \")]))[0])\n",
    "inputPred.append(int(input(\"How much is your cars tax? \")))\n",
    "inputPred.append(float(input(\"What's MPG of your car? \")))\n",
    "inputPred.append(float(input(\"What the engine size of your car? \")))\n",
    "entries.append(inputPred)\n",
    "inputPred = scaler.transform([inputPred])\n",
    "\n",
    "import time\n",
    "print(\"\\n ***Predicting***\")\n",
    "start = time.time()\n",
    "y_pred = predict(X_train, inputPred, Y_train, 4)\n",
    "# {0:.2f}'.format()\n",
    "print(\"\\n Predicted price for your car is: £\", y_pred[0])\n",
    "\n",
    "print(\"\\n ***Predicted in\", time.time() - start,\"seconds***\")\n",
    "\n",
    "# Audi,RS6,2016,Semi-Auto,49050,Petrol,325,29.4,4.0    Price = £44,985 Pred:44,717\n",
    "# BMW,5 Series,2019,Semi-Auto,4405,Petrol,145,48.7,2.0     Price = £26,000\n",
    "# Skoda,Octavia,2019,Manual,14449,Petrol,150,55.4,1.5      Price = £13,490 Pred: £14,170"
   ]
  },
  {
   "cell_type": "code",
   "execution_count": 1,
   "id": "2644378e",
   "metadata": {},
   "outputs": [
    {
     "ename": "NameError",
     "evalue": "name 'rmse' is not defined",
     "output_type": "error",
     "traceback": [
      "\u001b[1;31m---------------------------------------------------------------------------\u001b[0m",
      "\u001b[1;31mNameError\u001b[0m                                 Traceback (most recent call last)",
      "\u001b[1;32m~\\AppData\\Local\\Temp\\ipykernel_3764\\1517630044.py\u001b[0m in \u001b[0;36m<module>\u001b[1;34m\u001b[0m\n\u001b[0;32m      1\u001b[0m \u001b[0mtesty\u001b[0m \u001b[1;33m=\u001b[0m \u001b[1;36m44985\u001b[0m\u001b[1;33m\u001b[0m\u001b[1;33m\u001b[0m\u001b[0m\n\u001b[0;32m      2\u001b[0m \u001b[0mpred\u001b[0m \u001b[1;33m=\u001b[0m \u001b[1;36m44717\u001b[0m\u001b[1;33m\u001b[0m\u001b[1;33m\u001b[0m\u001b[0m\n\u001b[1;32m----> 3\u001b[1;33m \u001b[0mprint\u001b[0m\u001b[1;33m(\u001b[0m\u001b[0mrmse\u001b[0m\u001b[1;33m(\u001b[0m\u001b[0mtesty\u001b[0m\u001b[1;33m,\u001b[0m \u001b[0mpred\u001b[0m\u001b[1;33m)\u001b[0m\u001b[1;33m)\u001b[0m\u001b[1;33m\u001b[0m\u001b[1;33m\u001b[0m\u001b[0m\n\u001b[0m",
      "\u001b[1;31mNameError\u001b[0m: name 'rmse' is not defined"
     ]
    }
   ],
   "source": [
    "testy = 44985\n",
    "pred = 44717\n",
    "print(rmse(testy, pred))"
   ]
  },
  {
   "cell_type": "markdown",
   "id": "4fb82457",
   "metadata": {},
   "source": [
    "# Scikit-Learn User Input Predictions"
   ]
  },
  {
   "cell_type": "code",
   "execution_count": null,
   "id": "2537d9c6",
   "metadata": {},
   "outputs": [],
   "source": [
    "knn.predict(inputPred)"
   ]
  },
  {
   "cell_type": "markdown",
   "id": "9a2ae0ff",
   "metadata": {},
   "source": [
    "# Interface"
   ]
  },
  {
   "cell_type": "code",
   "execution_count": 1,
   "id": "126547db",
   "metadata": {},
   "outputs": [],
   "source": [
    "# import gradio as gr\n",
    "\n",
    "# def greet(name):\n",
    "#     return \"Hello \" + name + \"!\"\n",
    "\n",
    "# demo = gr.Interface(fn=greet, inputs=\"text\", outputs=\"text\")\n",
    "\n",
    "# demo.launch() "
   ]
  }
 ],
 "metadata": {
  "kernelspec": {
   "display_name": "Python 3 (ipykernel)",
   "language": "python",
   "name": "python3"
  },
  "language_info": {
   "codemirror_mode": {
    "name": "ipython",
    "version": 3
   },
   "file_extension": ".py",
   "mimetype": "text/x-python",
   "name": "python",
   "nbconvert_exporter": "python",
   "pygments_lexer": "ipython3",
   "version": "3.9.13"
  },
  "vscode": {
   "interpreter": {
    "hash": "83ff51d9f317b8ca80e5f143d4ddaebd5941bdc4ce038cf0be07ab08422cb26b"
   }
  }
 },
 "nbformat": 4,
 "nbformat_minor": 5
}
