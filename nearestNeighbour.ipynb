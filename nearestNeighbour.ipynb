{
 "cells": [
  {
   "cell_type": "markdown",
   "id": "76fc843b",
   "metadata": {},
   "source": [
    "# Imports"
   ]
  },
  {
   "cell_type": "code",
   "execution_count": 28,
   "id": "679ac403",
   "metadata": {},
   "outputs": [],
   "source": [
    "import numpy as np\n",
    "import matplotlib.pyplot as plt\n",
    "import pandas as pd\n",
    "import seaborn as sns\n",
    "from sklearn.model_selection import train_test_split #Used to split data set into training and testing\n",
    "import csv\n",
    "from sklearn.preprocessing import MinMaxScaler\n",
    "from math import sqrt\n",
    "from sklearn.metrics import mean_squared_error "
   ]
  },
  {
   "cell_type": "markdown",
   "id": "59cb0d2c",
   "metadata": {},
   "source": [
    "# Importing and splitting dataset"
   ]
  },
  {
   "cell_type": "code",
   "execution_count": 2,
   "id": "1370d4f1",
   "metadata": {},
   "outputs": [
    {
     "name": "stdout",
     "output_type": "stream",
     "text": [
      "      model  year  price transmission  mileage fuelType  tax   mpg  engineSize\n",
      "0        A1  2017  12500       Manual    15735   Petrol  150  55.4         1.4\n",
      "1        A6  2016  16500    Automatic    36203   Diesel   20  64.2         2.0\n",
      "2        A1  2016  11000       Manual    29946   Petrol   30  55.4         1.4\n",
      "3        A4  2017  16800    Automatic    25952   Diesel  145  67.3         2.0\n",
      "4        A3  2019  17300       Manual     1998   Petrol  145  49.6         1.0\n",
      "...     ...   ...    ...          ...      ...      ...  ...   ...         ...\n",
      "10663    A3  2020  16999       Manual     4018   Petrol  145  49.6         1.0\n",
      "10664    A3  2020  16999       Manual     1978   Petrol  150  49.6         1.0\n",
      "10665    A3  2020  17199       Manual      609   Petrol  150  49.6         1.0\n",
      "10666    Q3  2017  19499    Automatic     8646   Petrol  150  47.9         1.4\n",
      "10667    Q3  2016  15999       Manual    11855   Petrol  150  47.9         1.4\n",
      "\n",
      "[10668 rows x 9 columns]\n"
     ]
    }
   ],
   "source": [
    "file = pd.read_csv(\"audi.csv\", quotechar='\"', skipinitialspace=True)\n",
    "Y = file.price\n",
    "X = file.drop(['price', 'model', 'transmission', 'fuelType'], axis = 1) \n",
    "X = X.head(200)\n",
    "Y = Y.head(200)\n",
    "print(file)"
   ]
  },
  {
   "cell_type": "code",
   "execution_count": 3,
   "id": "20547b66",
   "metadata": {},
   "outputs": [],
   "source": [
    "X_train, X_test, Y_train, Y_test = train_test_split(X, Y, random_state = 601)"
   ]
  },
  {
   "cell_type": "markdown",
   "id": "a01d7d65",
   "metadata": {},
   "source": [
    "# Normalizing Data"
   ]
  },
  {
   "cell_type": "code",
   "execution_count": 4,
   "id": "f7d9da09",
   "metadata": {},
   "outputs": [],
   "source": [
    "scaler = MinMaxScaler()\n",
    "# fit on the training dataset\n",
    "scaler.fit(X_train)\n",
    "# scale the training dataset\n",
    "X_train = scaler.transform(X_train)\n",
    "# scale the test dataset\n",
    "X_test = scaler.transform(X_test)"
   ]
  },
  {
   "cell_type": "markdown",
   "id": "c678044e",
   "metadata": {},
   "source": [
    "# KNN using Scikit-Learn"
   ]
  },
  {
   "cell_type": "code",
   "execution_count": 5,
   "id": "fc1496d0",
   "metadata": {},
   "outputs": [
    {
     "name": "stdout",
     "output_type": "stream",
     "text": [
      "0.4148560657792606\n"
     ]
    }
   ],
   "source": [
    "from sklearn.neighbors import KNeighborsRegressor as KNN_Reg\n",
    "knn = KNN_Reg(n_neighbors = 50)\n",
    "knn.fit(X_train, Y_train)\n",
    "print(knn.score(X_test, Y_test))"
   ]
  },
  {
   "cell_type": "code",
   "execution_count": 6,
   "id": "71eeb9c3",
   "metadata": {},
   "outputs": [
    {
     "data": {
      "text/plain": [
       "Text(0, 0.5, 'R^2')"
      ]
     },
     "execution_count": 6,
     "metadata": {},
     "output_type": "execute_result"
    },
    {
     "data": {
      "image/png": "[encoded data removed]",
      "text/plain": [
       "<Figure size 432x288 with 1 Axes>"
      ]
     },
     "metadata": {
      "needs_background": "light"
     },
     "output_type": "display_data"
    }
   ],
   "source": [
    "results = np.empty(99)\n",
    "for k in range(1, 100):\n",
    "    knn = KNN_Reg(n_neighbors = k)\n",
    "    knn.fit(X_train, Y_train)\n",
    "    results[k - 1] = (knn.score(X_test, Y_test))\n",
    "\n",
    "plt.plot(np.arange(99) + 1, results)\n",
    "plt.xlabel('K Neighbors')\n",
    "plt.ylabel('R^2')"
   ]
  },
  {
   "cell_type": "markdown",
   "id": "194750f5",
   "metadata": {},
   "source": [
    "# Euclidean Distance"
   ]
  },
  {
   "cell_type": "code",
   "execution_count": 7,
   "id": "d9ac5120",
   "metadata": {},
   "outputs": [],
   "source": [
    "def eucDistance(variable1, variable2):\n",
    "    distance = 0\n",
    "    for i in range(len(variable2)):\n",
    "        distance += (variable1[i] - variable2[i])**2\n",
    "    return np.sqrt(distance)"
   ]
  },
  {
   "cell_type": "markdown",
   "id": "3048d332",
   "metadata": {},
   "source": [
    "# KNN"
   ]
  },
  {
   "cell_type": "code",
   "execution_count": 8,
   "id": "83088256",
   "metadata": {
    "scrolled": false
   },
   "outputs": [],
   "source": [
    "def kNN(train, testRow, yTrain, yTest, num):\n",
    "    distance = list() #Stores distance of each point\n",
    "    for i in range(len(train)-1):\n",
    "        dist = eucDistance(train[i], testRow) #sends points to work out distance\n",
    "        distance.append((train[i], dist, yTrain.iloc[i])) \n",
    "    distance = sort(distance) #need to create a sort method to order list\n",
    "    kNeighbours = list() #list to store K amount of neighbour results\n",
    "    for i in range(num):\n",
    "        kNeighbours.append((testRow, distance[i][1], distance[i][2]))\n",
    "    return kNeighbours "
   ]
  },
  {
   "cell_type": "markdown",
   "id": "c875cd65",
   "metadata": {},
   "source": [
    "# Sort Method"
   ]
  },
  {
   "cell_type": "code",
   "execution_count": 9,
   "id": "edf6ff4f",
   "metadata": {},
   "outputs": [],
   "source": [
    "def sort(dist):\n",
    "    for i in range(0, len(dist)):\n",
    "        for j in range(0, len(dist) - i - 1):\n",
    "            if (dist[j][1] > dist[j + 1][1]):\n",
    "                temp = dist[j]\n",
    "                dist[j] = dist[j + 1]\n",
    "                dist[j + 1] = temp\n",
    "    return dist"
   ]
  },
  {
   "cell_type": "markdown",
   "id": "b01b0161",
   "metadata": {},
   "source": [
    "# Predict Method"
   ]
  },
  {
   "cell_type": "code",
   "execution_count": 29,
   "id": "9b18d4dd",
   "metadata": {},
   "outputs": [],
   "source": [
    "from statistics import mean \n",
    "\n",
    "def predict(train, test, yTrain, yTest, num_neighbors):\n",
    "    predictions = list()\n",
    "    for i in range(len(test)): #Sends each test variable\n",
    "        neighbour = kNN(train, test[i], yTrain, yTest, num_neighbors)\n",
    "        labels = [] #Stores yTrain for each test variable\n",
    "        for i in range (len(neighbour)):\n",
    "            t = labels.append(neighbour[i][2]) #Appends yTrain\n",
    "        predictions.append(mean(labels))\n",
    "    return predictions"
   ]
  },
  {
   "cell_type": "markdown",
   "id": "a8de250c",
   "metadata": {},
   "source": [
    "# Evaluation Method"
   ]
  },
  {
   "cell_type": "code",
   "execution_count": 55,
   "id": "96889625",
   "metadata": {},
   "outputs": [],
   "source": [
    "def eva(train, test, yTrain, yTest):\n",
    "    rmseValues = []\n",
    "    for k in range(1, 101): #Testing up to 100 neearest neighbours\n",
    "        y_pred = predict(train, test, yTrain, yTest, k)\n",
    "\n",
    "        error = rmse(yTest, y_pred) \n",
    "        rmseValues.append(error)\n",
    "        print('RMSE value for k =' , k , 'is:', error)\n",
    "        \n",
    "    plt.plot(np.arange(100) + 1, rmseValues)\n",
    "    plt.xlabel('K Neighbors')\n",
    "    plt.ylabel('RMSE')\n",
    "    \n",
    "    return"
   ]
  },
  {
   "cell_type": "code",
   "execution_count": 56,
   "id": "b171177e",
   "metadata": {
    "scrolled": false
   },
   "outputs": [
    {
     "name": "stdout",
     "output_type": "stream",
     "text": [
      "RMSE value for k = 1 is: 3187.5175826966038\n",
      "RMSE value for k = 2 is: 2981.1328182420857\n",
      "RMSE value for k = 3 is: 2832.3016435401087\n",
      "RMSE value for k = 4 is: 2677.86039964745\n",
      "RMSE value for k = 5 is: 2728.254108399729\n",
      "RMSE value for k = 6 is: 2652.160549438891\n",
      "RMSE value for k = 7 is: 2819.4049478569054\n",
      "RMSE value for k = 8 is: 2868.805420379709\n",
      "RMSE value for k = 9 is: 2931.7470764034197\n",
      "RMSE value for k = 10 is: 3044.629268071895\n",
      "RMSE value for k = 11 is: 3087.2811371820353\n",
      "RMSE value for k = 12 is: 3109.1668916286885\n",
      "RMSE value for k = 13 is: 3134.5275465371174\n",
      "RMSE value for k = 14 is: 3197.057203116641\n",
      "RMSE value for k = 15 is: 3240.6834742072547\n",
      "RMSE value for k = 16 is: 3300.65303235587\n",
      "RMSE value for k = 17 is: 3358.3843377433736\n",
      "RMSE value for k = 18 is: 3389.7698948453713\n",
      "RMSE value for k = 19 is: 3417.154558986175\n",
      "RMSE value for k = 20 is: 3464.2265110699677\n",
      "RMSE value for k = 21 is: 3524.455067099026\n",
      "RMSE value for k = 22 is: 3513.020093879339\n",
      "RMSE value for k = 23 is: 3473.5799112730947\n",
      "RMSE value for k = 24 is: 3502.3382903426104\n",
      "RMSE value for k = 25 is: 3535.936546376363\n",
      "RMSE value for k = 26 is: 3584.373420836618\n",
      "RMSE value for k = 27 is: 3613.8415073160027\n",
      "RMSE value for k = 28 is: 3629.7977905112016\n",
      "RMSE value for k = 29 is: 3626.1887623233292\n",
      "RMSE value for k = 30 is: 3675.3923654488917\n",
      "RMSE value for k = 31 is: 3588.5798946101227\n",
      "RMSE value for k = 32 is: 3602.683516491561\n",
      "RMSE value for k = 33 is: 3648.3288283815646\n",
      "RMSE value for k = 34 is: 3642.606100033326\n",
      "RMSE value for k = 35 is: 3639.251826955645\n",
      "RMSE value for k = 36 is: 3646.1062271963497\n",
      "RMSE value for k = 37 is: 3655.9368320582344\n",
      "RMSE value for k = 38 is: 3676.972950675596\n",
      "RMSE value for k = 39 is: 3673.810177458819\n",
      "RMSE value for k = 40 is: 3678.6072418783715\n",
      "RMSE value for k = 41 is: 3697.684602558742\n",
      "RMSE value for k = 42 is: 3723.7306186135434\n",
      "RMSE value for k = 43 is: 3726.669633868825\n",
      "RMSE value for k = 44 is: 3724.9558467181864\n",
      "RMSE value for k = 45 is: 3735.2382467521397\n",
      "RMSE value for k = 46 is: 3710.1139362558665\n",
      "RMSE value for k = 47 is: 3720.944971374879\n",
      "RMSE value for k = 48 is: 3737.9244053351317\n",
      "RMSE value for k = 49 is: 3741.307282221015\n",
      "RMSE value for k = 50 is: 3763.5433649687097\n",
      "RMSE value for k = 51 is: 3789.406394146714\n",
      "RMSE value for k = 52 is: 3787.9712538507997\n",
      "RMSE value for k = 53 is: 3807.610077200658\n",
      "RMSE value for k = 54 is: 3824.8836714336817\n",
      "RMSE value for k = 55 is: 3830.092500188475\n",
      "RMSE value for k = 56 is: 3847.876900317888\n",
      "RMSE value for k = 57 is: 3851.092569648255\n",
      "RMSE value for k = 58 is: 3857.2714916116547\n",
      "RMSE value for k = 59 is: 3874.1346724139576\n",
      "RMSE value for k = 60 is: 3888.2952331323813\n",
      "RMSE value for k = 61 is: 3889.1952406635487\n",
      "RMSE value for k = 62 is: 3903.270871973914\n",
      "RMSE value for k = 63 is: 3915.2204714421896\n",
      "RMSE value for k = 64 is: 3915.989261987321\n",
      "RMSE value for k = 65 is: 3919.720836998472\n",
      "RMSE value for k = 66 is: 3911.8401858971692\n",
      "RMSE value for k = 67 is: 3911.381891352467\n",
      "RMSE value for k = 68 is: 3907.709508139007\n",
      "RMSE value for k = 69 is: 3925.890976580985\n",
      "RMSE value for k = 70 is: 3932.18022984705\n",
      "RMSE value for k = 71 is: 3920.9829813453666\n",
      "RMSE value for k = 72 is: 3928.526087478611\n",
      "RMSE value for k = 73 is: 3909.446441633393\n",
      "RMSE value for k = 74 is: 3917.6042270755224\n",
      "RMSE value for k = 75 is: 3917.040612503271\n",
      "RMSE value for k = 76 is: 3928.1501447882565\n",
      "RMSE value for k = 77 is: 3931.054799923298\n",
      "RMSE value for k = 78 is: 3934.9988462514193\n",
      "RMSE value for k = 79 is: 3945.520419412375\n",
      "RMSE value for k = 80 is: 3949.2761792510787\n",
      "RMSE value for k = 81 is: 3964.387665201273\n",
      "RMSE value for k = 82 is: 3973.064874879342\n",
      "RMSE value for k = 83 is: 3990.3398050792616\n",
      "RMSE value for k = 84 is: 4008.434662059493\n",
      "RMSE value for k = 85 is: 4017.423378236354\n",
      "RMSE value for k = 86 is: 4029.411440893074\n",
      "RMSE value for k = 87 is: 4042.3755862116523\n",
      "RMSE value for k = 88 is: 4054.502100135108\n",
      "RMSE value for k = 89 is: 4068.0703754974543\n",
      "RMSE value for k = 90 is: 4069.431112575811\n",
      "RMSE value for k = 91 is: 4072.2884401770953\n",
      "RMSE value for k = 92 is: 4062.5917540407627\n",
      "RMSE value for k = 93 is: 4064.382287629942\n",
      "RMSE value for k = 94 is: 4071.9394617307366\n",
      "RMSE value for k = 95 is: 4080.57718221332\n",
      "RMSE value for k = 96 is: 4079.212830927065\n",
      "RMSE value for k = 97 is: 4086.0164879745653\n",
      "RMSE value for k = 98 is: 4108.927370981385\n",
      "RMSE value for k = 99 is: 4131.016216380662\n",
      "RMSE value for k = 100 is: 4140.412525340923\n"
     ]
    },
    {
     "data": {
      "image/png": "[encoded data removed]",
      "text/plain": [
       "<Figure size 432x288 with 1 Axes>"
      ]
     },
     "metadata": {
      "needs_background": "light"
     },
     "output_type": "display_data"
    }
   ],
   "source": [
    "eva(X_train, X_test, Y_train, Y_test)"
   ]
  },
  {
   "cell_type": "code",
   "execution_count": 45,
   "id": "c29328e9",
   "metadata": {},
   "outputs": [],
   "source": [
    "def rmse(test, pred):\n",
    "  return sqrt(mean_squared_error(test, pred))"
   ]
  },
  {
   "cell_type": "markdown",
   "id": "9ea277f8",
   "metadata": {},
   "source": [
    "# 1NN"
   ]
  },
  {
   "cell_type": "code",
   "execution_count": 66,
   "id": "c25c2b7e",
   "metadata": {},
   "outputs": [
    {
     "name": "stdout",
     "output_type": "stream",
     "text": [
      "RMSE value for k = 6 is: 2652.160549438891\n",
      "\n",
      "Original value: 16985 vs the predicted value: 15716\n",
      "The difference is: 1269\n",
      "\n",
      "Original value: 15000 vs the predicted value: 18150\n",
      "The difference is: -3150\n",
      "\n",
      "Original value: 19100 vs the predicted value: 21013\n",
      "The difference is: -1913\n",
      "\n",
      "Original value: 16500 vs the predicted value: 15366\n",
      "The difference is: 1134\n",
      "\n",
      "Original value: 17000 vs the predicted value: 17249\n",
      "The difference is: -249\n",
      "\n",
      "Original value: 10500 vs the predicted value: 12266\n",
      "The difference is: -1766\n",
      "\n",
      "Original value: 11500 vs the predicted value: 15865\n",
      "The difference is: -4365\n",
      "\n",
      "Original value: 17100 vs the predicted value: 15716\n",
      "The difference is: 1384\n",
      "\n",
      "Original value: 11700 vs the predicted value: 13580\n",
      "The difference is: -1880\n",
      "\n",
      "Original value: 13100 vs the predicted value: 16783\n",
      "The difference is: -3683\n",
      "\n",
      "Original value: 16600 vs the predicted value: 16333\n",
      "The difference is: 267\n",
      "\n",
      "Original value: 15000 vs the predicted value: 13765\n",
      "The difference is: 1235\n",
      "\n",
      "Original value: 30985 vs the predicted value: 31561\n",
      "The difference is: -576\n",
      "\n",
      "Original value: 18100 vs the predicted value: 15366\n",
      "The difference is: 2734\n",
      "\n",
      "Original value: 16498 vs the predicted value: 15266\n",
      "The difference is: 1232\n",
      "\n",
      "Original value: 11998 vs the predicted value: 11133\n",
      "The difference is: 865\n",
      "\n",
      "Original value: 18500 vs the predicted value: 16333\n",
      "The difference is: 2167\n",
      "\n",
      "Original value: 11600 vs the predicted value: 12725\n",
      "The difference is: -1125\n",
      "\n",
      "Original value: 20000 vs the predicted value: 19330\n",
      "The difference is: 670\n",
      "\n",
      "Original value: 16000 vs the predicted value: 15550\n",
      "The difference is: 450\n",
      "\n",
      "Original value: 17300 vs the predicted value: 17883\n",
      "The difference is: -583\n",
      "\n",
      "Original value: 16100 vs the predicted value: 14066\n",
      "The difference is: 2034\n",
      "\n",
      "Original value: 14000 vs the predicted value: 13516\n",
      "The difference is: 484\n",
      "\n",
      "Original value: 13000 vs the predicted value: 15300\n",
      "The difference is: -2300\n",
      "\n",
      "Original value: 14800 vs the predicted value: 16700\n",
      "The difference is: -1900\n",
      "\n",
      "Original value: 16000 vs the predicted value: 19205\n",
      "The difference is: -3205\n",
      "\n",
      "Original value: 16000 vs the predicted value: 16166\n",
      "The difference is: -166\n",
      "\n",
      "Original value: 13500 vs the predicted value: 12916\n",
      "The difference is: 584\n",
      "\n",
      "Original value: 25000 vs the predicted value: 27313\n",
      "The difference is: -2313\n",
      "\n",
      "Original value: 13300 vs the predicted value: 11875\n",
      "The difference is: 1425\n",
      "\n",
      "Original value: 10200 vs the predicted value: 11875\n",
      "The difference is: -1675\n",
      "\n",
      "Original value: 11300 vs the predicted value: 12291\n",
      "The difference is: -991\n",
      "\n",
      "Original value: 12000 vs the predicted value: 12250\n",
      "The difference is: -250\n",
      "\n",
      "Original value: 13495 vs the predicted value: 14483\n",
      "The difference is: -988\n",
      "\n",
      "Original value: 15500 vs the predicted value: 19508\n",
      "The difference is: -4008\n",
      "\n",
      "Original value: 19800 vs the predicted value: 23147\n",
      "The difference is: -3347\n",
      "\n",
      "Original value: 22485 vs the predicted value: 17416\n",
      "The difference is: 5069\n",
      "\n",
      "Original value: 21499 vs the predicted value: 25198\n",
      "The difference is: -3699\n",
      "\n",
      "Original value: 20000 vs the predicted value: 16597\n",
      "The difference is: 3403\n",
      "\n",
      "Original value: 19800 vs the predicted value: 17147\n",
      "The difference is: 2653\n",
      "\n",
      "Original value: 36998 vs the predicted value: 25996\n",
      "The difference is: 11002\n",
      "\n",
      "Original value: 11300 vs the predicted value: 11133\n",
      "The difference is: 167\n",
      "\n",
      "Original value: 16600 vs the predicted value: 19122\n",
      "The difference is: -2522\n",
      "\n",
      "Original value: 10498 vs the predicted value: 11749\n",
      "The difference is: -1251\n",
      "\n",
      "Original value: 15000 vs the predicted value: 16733\n",
      "The difference is: -1733\n",
      "\n",
      "Original value: 16798 vs the predicted value: 14899\n",
      "The difference is: 1899\n",
      "\n",
      "Original value: 16000 vs the predicted value: 15197\n",
      "The difference is: 803\n",
      "\n",
      "Original value: 15000 vs the predicted value: 15366\n",
      "The difference is: -366\n",
      "\n",
      "Original value: 13900 vs the predicted value: 12200\n",
      "The difference is: 1700\n",
      "\n",
      "Original value: 12100 vs the predicted value: 15933\n",
      "The difference is: -3833\n"
     ]
    }
   ],
   "source": [
    "def NN(train, test, yTrain, yTest):    \n",
    "    y_pred = predict(train, test, yTrain, yTest, 6)\n",
    "    error = rmse(yTest, y_pred) \n",
    "    print('RMSE value for k =' , 6 , 'is:', error)\n",
    "    for i in range(len(y_pred)):\n",
    "        print(\"\\nOriginal value:\", yTest.iloc[i], \"vs the predicted value:\", y_pred[i])\n",
    "        print(\"The difference is:\", yTest.iloc[i] - y_pred[i])\n",
    "    return \n",
    "\n",
    "NN(X_train, X_test, Y_train, Y_test)"
   ]
  }
 ],
 "metadata": {
  "kernelspec": {
   "display_name": "Python 3 (ipykernel)",
   "language": "python",
   "name": "python3"
  },
  "language_info": {
   "codemirror_mode": {
    "name": "ipython",
    "version": 3
   },
   "file_extension": ".py",
   "mimetype": "text/x-python",
   "name": "python",
   "nbconvert_exporter": "python",
   "pygments_lexer": "ipython3",
   "version": "3.9.12"
  },
  "vscode": {
   "interpreter": {
    "hash": "83ff51d9f317b8ca80e5f143d4ddaebd5941bdc4ce038cf0be07ab08422cb26b"
   }
  }
 },
 "nbformat": 4,
 "nbformat_minor": 5
}
