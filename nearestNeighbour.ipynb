{
 "cells": [
  {
   "cell_type": "markdown",
   "id": "76fc843b",
   "metadata": {},
   "source": [
    "# Imports"
   ]
  },
  {
   "cell_type": "code",
   "execution_count": 1,
   "id": "679ac403",
   "metadata": {},
   "outputs": [],
   "source": [
    "import numpy as np\n",
    "import matplotlib.pyplot as plt\n",
    "import pandas as pd\n",
    "import seaborn as sns\n",
    "from sklearn.model_selection import train_test_split #Used to split data set into training and testing\n",
    "import csv\n",
    "from sklearn.preprocessing import MinMaxScaler"
   ]
  },
  {
   "cell_type": "markdown",
   "id": "59cb0d2c",
   "metadata": {},
   "source": [
    "# Importing and splitting dataset"
   ]
  },
  {
   "cell_type": "code",
   "execution_count": 2,
   "id": "1370d4f1",
   "metadata": {},
   "outputs": [
    {
     "name": "stdout",
     "output_type": "stream",
     "text": [
      "      model  year  price transmission  mileage fuelType  tax   mpg  engineSize\n",
      "0        A1  2017  12500       Manual    15735   Petrol  150  55.4         1.4\n",
      "1        A6  2016  16500    Automatic    36203   Diesel   20  64.2         2.0\n",
      "2        A1  2016  11000       Manual    29946   Petrol   30  55.4         1.4\n",
      "3        A4  2017  16800    Automatic    25952   Diesel  145  67.3         2.0\n",
      "4        A3  2019  17300       Manual     1998   Petrol  145  49.6         1.0\n",
      "...     ...   ...    ...          ...      ...      ...  ...   ...         ...\n",
      "10663    A3  2020  16999       Manual     4018   Petrol  145  49.6         1.0\n",
      "10664    A3  2020  16999       Manual     1978   Petrol  150  49.6         1.0\n",
      "10665    A3  2020  17199       Manual      609   Petrol  150  49.6         1.0\n",
      "10666    Q3  2017  19499    Automatic     8646   Petrol  150  47.9         1.4\n",
      "10667    Q3  2016  15999       Manual    11855   Petrol  150  47.9         1.4\n",
      "\n",
      "[10668 rows x 9 columns]\n"
     ]
    }
   ],
   "source": [
    "file = open(\"audi.csv\")\n",
    "tester = csv.reader(file)\n",
    "\n",
    "rows = []\n",
    "for row in tester:\n",
    "        rows.append(row)\n",
    "rows.pop(0)\n",
    "# print(rows)\n",
    "# csv_file = (r'UKUsedCarDataSet\\audi.csv')\n",
    "# txt_file = ('test.txt')\n",
    "# with open(txt_file, \"w\") as my_output_file:\n",
    "#     with open(csv_file, \"r\") as my_input_file:\n",
    "#         [ my_output_file.write(\" \".join(row)+'\\n') for row in csv.reader(my_input_file)]\n",
    "#     my_output_file.close()\n",
    "\n",
    "test = pd.read_csv(\"audi.csv\", quotechar='\"', skipinitialspace=True)\n",
    "\n",
    "\n",
    "Y = test.price\n",
    "X = test.drop(['price', 'model', 'transmission', 'fuelType'], axis = 1) \n",
    "X = X.head(200)\n",
    "Y = Y.head(200)\n",
    "print(test)\n",
    "\n",
    "# X = X.reset_index()\n",
    "# X = X.drop(0)\n",
    "# X = test.drop('model', axis = 1)\n",
    "#             ('transmission', 'fuelType')\n",
    "# print(X)\n",
    "\n",
    "# Y = np.genfromtxt(\"audi.csv\", delimiter = \",\", skip_header = 1, usecols=(2)) #label is price\n",
    "# print(Y)\n",
    "# X = np.genfromtxt(\"audi.csv\", delimiter = \",\", skip_header = 1, usecols=(1, 4, 6, 7, 8)) #, dtype=int\n",
    "# X = np.genfromtxt(\"audi.csv\", delimiter = \",\", skip_header = 1, usecols=(1, 4, 7))\n",
    "# print(X)\n",
    "# Xpend = []\n",
    "# Ypend = []\n",
    "# for i in range(1,200):\n",
    "#     Xpend.append(X[i])\n",
    "#     Ypend.append(Y[i])\n",
    "# print(Xpend)"
   ]
  },
  {
   "cell_type": "code",
   "execution_count": 3,
   "id": "20547b66",
   "metadata": {},
   "outputs": [],
   "source": [
    "# dataLocation = (r'UKUsedCarDataSet\\audi.csv')\n",
    "# dataSet = pd.read_csv(dataLocation, nrows=200)\n",
    "# Specific_Rows = dataSet.sample(n=200)\n",
    "# features = ['year', 'mileage', 'tax', 'mpg', 'engineSize'] #may try transmission and fuel type later\n",
    "\n",
    "# X = dataSet[features]\n",
    "# Y = dataSet['price']\n",
    "X_train, X_test, Y_train, Y_test = train_test_split(X, Y, random_state = 601)\n",
    "# print(X)\n",
    "# print(X_train.shape)\n",
    "# print(X_train[3])"
   ]
  },
  {
   "cell_type": "code",
   "execution_count": 4,
   "id": "f7d9da09",
   "metadata": {},
   "outputs": [],
   "source": [
    "scaler = MinMaxScaler()\n",
    "# fit on the training dataset\n",
    "scaler.fit(X_train)\n",
    "# scale the training dataset\n",
    "X_train = scaler.transform(X_train)\n",
    "# scale the test dataset\n",
    "X_test = scaler.transform(X_test)"
   ]
  },
  {
   "cell_type": "markdown",
   "id": "c678044e",
   "metadata": {},
   "source": [
    "# KNN using Scikit-Learn"
   ]
  },
  {
   "cell_type": "code",
   "execution_count": 5,
   "id": "fc1496d0",
   "metadata": {},
   "outputs": [
    {
     "name": "stdout",
     "output_type": "stream",
     "text": [
      "0.4148560657792606\n"
     ]
    }
   ],
   "source": [
    "from sklearn.neighbors import KNeighborsRegressor as KNN_Reg\n",
    "knn = KNN_Reg(n_neighbors = 50)\n",
    "knn.fit(X_train, Y_train)\n",
    "print(knn.score(X_test, Y_test))"
   ]
  },
  {
   "cell_type": "code",
   "execution_count": 6,
   "id": "71eeb9c3",
   "metadata": {},
   "outputs": [
    {
     "data": {
      "text/plain": [
       "Text(0, 0.5, 'R^2')"
      ]
     },
     "execution_count": 6,
     "metadata": {},
     "output_type": "execute_result"
    },
    {
     "data": {
      "image/png": "[encoded data removed]",
      "text/plain": [
       "<Figure size 432x288 with 1 Axes>"
      ]
     },
     "metadata": {
      "needs_background": "light"
     },
     "output_type": "display_data"
    }
   ],
   "source": [
    "results = np.empty(99)\n",
    "for k in range(1, 100):\n",
    "    knn = KNN_Reg(n_neighbors = k)\n",
    "    knn.fit(X_train, Y_train)\n",
    "    results[k - 1] = (knn.score(X_test, Y_test))\n",
    "\n",
    "plt.plot(np.arange(99) + 1, results)\n",
    "plt.xlabel('K Neighbors')\n",
    "plt.ylabel('R^2')"
   ]
  },
  {
   "cell_type": "markdown",
   "id": "194750f5",
   "metadata": {},
   "source": [
    "# Euclidean Distance"
   ]
  },
  {
   "cell_type": "code",
   "execution_count": 7,
   "id": "d9ac5120",
   "metadata": {},
   "outputs": [],
   "source": [
    "def eucDistance(variable1, variable2):\n",
    "    distance = 0\n",
    "    for i in range(len(variable2)):\n",
    "        distance += (variable1[i] - variable1[i])**2\n",
    "    return np.sqrt(distance)"
   ]
  },
  {
   "cell_type": "markdown",
   "id": "3048d332",
   "metadata": {},
   "source": [
    "# KNN"
   ]
  },
  {
   "cell_type": "code",
   "execution_count": 8,
   "id": "83088256",
   "metadata": {
    "scrolled": false
   },
   "outputs": [],
   "source": [
    "def kNN(train, testRow, yTrain, yTest, num):\n",
    "    distance = list() #Stores distance of each point\n",
    "    for i in range(len(train)-1):\n",
    "        dist = eucDistance(train.iloc[i], testRow) #sends points to work out distance\n",
    "        distance.append((train.iloc[i], dist, yTrain.iloc[i])) \n",
    "    distance = sort(distance) #need to create a sort method to order list\n",
    "    kNeighbours = list() #list to store K amount of neighbour results\n",
    "    for i in range(num):\n",
    "        kNeighbours.append((testRow, distance[i][1], distance[i][2]))\n",
    "    return kNeighbours \n",
    "\n",
    "# for testRow in X_test:\n",
    "#     kNN(X_train, testRow, Y_train, Y_test, 1)\n",
    "# print(kNN(X_train, X_test[1], Y_train, Y_test, 1))"
   ]
  },
  {
   "cell_type": "markdown",
   "id": "c875cd65",
   "metadata": {},
   "source": [
    "# Sort Method"
   ]
  },
  {
   "cell_type": "code",
   "execution_count": 9,
   "id": "edf6ff4f",
   "metadata": {},
   "outputs": [],
   "source": [
    "def sort(dist):\n",
    "    for i in range(0, len(dist)):\n",
    "        for j in range(0, len(dist) - i - 1):\n",
    "            if (dist[j][1] > dist[j + 1][1]):\n",
    "                temp = dist[j]\n",
    "                dist[j] = dist[j + 1]\n",
    "                dist[j + 1] = temp\n",
    "    return dist"
   ]
  },
  {
   "cell_type": "markdown",
   "id": "b01b0161",
   "metadata": {},
   "source": [
    "# Predict Method"
   ]
  },
  {
   "cell_type": "code",
   "execution_count": 10,
   "id": "9b18d4dd",
   "metadata": {},
   "outputs": [],
   "source": [
    "from statistics import mean \n",
    "\n",
    "def predict(train, test, yTrain, yTest, num_neighbors):\n",
    "    predictions = list()\n",
    "#     print(test)\n",
    "    for i in range(len(test)): #Sends each test variable\n",
    "        neighbour = kNN(train, test.iloc[i], yTrain, yTest, num_neighbors)\n",
    "        print(\"\\ntest.iloc[i]: \", test.iloc[i])\n",
    "        print(\"\\nneighbour \",neighbour)\n",
    "        labels = [] #Stores yTrain for each test variable\n",
    "        for i in range (len(neighbour)):\n",
    "            t = labels.append(neighbour[i][2]) #Appends yTrain\n",
    "#             print(neighbour[i][2])\n",
    "#             print(neighbour[i])\n",
    "#         predictions.append(max(labels, key = labels.count)) #works out mode of the labels\n",
    "        predictions.append(mean(labels))\n",
    "        print(mean(labels))\n",
    "    return predictions"
   ]
  },
  {
   "cell_type": "markdown",
   "id": "a8de250c",
   "metadata": {},
   "source": [
    "# Evaluation Method"
   ]
  },
  {
   "cell_type": "code",
   "execution_count": 11,
   "id": "96889625",
   "metadata": {},
   "outputs": [],
   "source": [
    "def eva(train, test, yTrain, yTest):\n",
    "    numbErr = np.empty(100)\n",
    "    for k in range(1, 101): #Testing up to 100 neearest neighbours\n",
    "        y_pred = predict(train, test, yTrain, yTest, k)\n",
    "#         print(y_pred)\n",
    "        wrongSum = 0\n",
    "#         for i in range(len(yTest)):\n",
    "#             if (y_pred[i] != yTest.iloc[i]):\n",
    "#                 print (\"pred:\", y_pred[i])\n",
    "#                 print (\"test:\", yTest.iloc[i])\n",
    "#                 wrongSum += 1\n",
    "#         numbErr[k - 1] = (wrongSum/len(yTest)) #amount wrong dived by size of test size\n",
    "        numbErr[k-1] = y_pred\n",
    "#     plt.plot(np.arange(100) + 1, numbErr)\n",
    "#     plt.plot(test, Y_test)\n",
    "#     plt.xlabel('K Neighbors')\n",
    "#     plt.ylabel('Real Answers')\n",
    "    \n",
    "    plt.plot(np.arange(100) + 1, numbErr)\n",
    "    plt.xlabel('K Neighbors')\n",
    "    plt.ylabel('Real Answers')\n",
    "        \n",
    "    return numbErr"
   ]
  },
  {
   "cell_type": "code",
   "execution_count": 12,
   "id": "b171177e",
   "metadata": {},
   "outputs": [
    {
     "ename": "AttributeError",
     "evalue": "'numpy.ndarray' object has no attribute 'iloc'",
     "output_type": "error",
     "traceback": [
      "\u001b[1;31m---------------------------------------------------------------------------\u001b[0m",
      "\u001b[1;31mAttributeError\u001b[0m                            Traceback (most recent call last)",
      "Input \u001b[1;32mIn [12]\u001b[0m, in \u001b[0;36m<cell line: 1>\u001b[1;34m()\u001b[0m\n\u001b[1;32m----> 1\u001b[0m \u001b[43meva\u001b[49m\u001b[43m(\u001b[49m\u001b[43mX_train\u001b[49m\u001b[43m,\u001b[49m\u001b[43m \u001b[49m\u001b[43mX_test\u001b[49m\u001b[43m,\u001b[49m\u001b[43m \u001b[49m\u001b[43mY_train\u001b[49m\u001b[43m,\u001b[49m\u001b[43m \u001b[49m\u001b[43mY_test\u001b[49m\u001b[43m)\u001b[49m\n",
      "Input \u001b[1;32mIn [11]\u001b[0m, in \u001b[0;36meva\u001b[1;34m(train, test, yTrain, yTest)\u001b[0m\n\u001b[0;32m      2\u001b[0m     numbErr \u001b[38;5;241m=\u001b[39m np\u001b[38;5;241m.\u001b[39mempty(\u001b[38;5;241m100\u001b[39m)\n\u001b[0;32m      3\u001b[0m     \u001b[38;5;28;01mfor\u001b[39;00m k \u001b[38;5;129;01min\u001b[39;00m \u001b[38;5;28mrange\u001b[39m(\u001b[38;5;241m1\u001b[39m, \u001b[38;5;241m101\u001b[39m): \u001b[38;5;66;03m#Testing up to 100 neearest neighbours\u001b[39;00m\n\u001b[1;32m----> 4\u001b[0m         y_pred \u001b[38;5;241m=\u001b[39m \u001b[43mpredict\u001b[49m\u001b[43m(\u001b[49m\u001b[43mtrain\u001b[49m\u001b[43m,\u001b[49m\u001b[43m \u001b[49m\u001b[43mtest\u001b[49m\u001b[43m,\u001b[49m\u001b[43m \u001b[49m\u001b[43myTrain\u001b[49m\u001b[43m,\u001b[49m\u001b[43m \u001b[49m\u001b[43myTest\u001b[49m\u001b[43m,\u001b[49m\u001b[43m \u001b[49m\u001b[43mk\u001b[49m\u001b[43m)\u001b[49m\n\u001b[0;32m      5\u001b[0m \u001b[38;5;66;03m#         print(y_pred)\u001b[39;00m\n\u001b[0;32m      6\u001b[0m         wrongSum \u001b[38;5;241m=\u001b[39m \u001b[38;5;241m0\u001b[39m\n",
      "Input \u001b[1;32mIn [10]\u001b[0m, in \u001b[0;36mpredict\u001b[1;34m(train, test, yTrain, yTest, num_neighbors)\u001b[0m\n\u001b[0;32m      5\u001b[0m \u001b[38;5;66;03m#     print(test)\u001b[39;00m\n\u001b[0;32m      6\u001b[0m     \u001b[38;5;28;01mfor\u001b[39;00m i \u001b[38;5;129;01min\u001b[39;00m \u001b[38;5;28mrange\u001b[39m(\u001b[38;5;28mlen\u001b[39m(test)): \u001b[38;5;66;03m#Sends each test variable\u001b[39;00m\n\u001b[1;32m----> 7\u001b[0m         neighbour \u001b[38;5;241m=\u001b[39m kNN(train, \u001b[43mtest\u001b[49m\u001b[38;5;241;43m.\u001b[39;49m\u001b[43miloc\u001b[49m[i], yTrain, yTest, num_neighbors)\n\u001b[0;32m      8\u001b[0m         \u001b[38;5;28mprint\u001b[39m(\u001b[38;5;124m\"\u001b[39m\u001b[38;5;130;01m\\n\u001b[39;00m\u001b[38;5;124mtest.iloc[i]: \u001b[39m\u001b[38;5;124m\"\u001b[39m, test\u001b[38;5;241m.\u001b[39miloc[i])\n\u001b[0;32m      9\u001b[0m         \u001b[38;5;28mprint\u001b[39m(\u001b[38;5;124m\"\u001b[39m\u001b[38;5;130;01m\\n\u001b[39;00m\u001b[38;5;124mneighbour \u001b[39m\u001b[38;5;124m\"\u001b[39m,neighbour)\n",
      "\u001b[1;31mAttributeError\u001b[0m: 'numpy.ndarray' object has no attribute 'iloc'"
     ]
    }
   ],
   "source": [
    "eva(X_train, X_test, Y_train, Y_test)"
   ]
  },
  {
   "cell_type": "markdown",
   "id": "9ea277f8",
   "metadata": {},
   "source": [
    "# 1NN"
   ]
  },
  {
   "cell_type": "code",
   "execution_count": null,
   "id": "c25c2b7e",
   "metadata": {},
   "outputs": [],
   "source": [
    "def NN(train, test, yTrain, yTest):    \n",
    "    numbErr = 0\n",
    "    y_pred = predict(train, test, yTrain, yTest, 1)\n",
    "    wrongSum = 0\n",
    "    for i in range(len(yTest)):\n",
    "#     for i in range(1,3):\n",
    "        if (y_pred[i] != yTest.iloc[i]):\n",
    "            wrongSum += 1\n",
    "#             print(y_pred[i])\n",
    "#             print(yTest.iloc[i])\n",
    "            \n",
    "    numbErr = (wrongSum/len(yTest))\n",
    "    print(\"Number of Errors:\", wrongSum)\n",
    "    print(\"Test Error Rate:\", numbErr)\n",
    "    return numbErr\n",
    "\n",
    "NN(X_train, X_test, Y_train, Y_test)"
   ]
  }
 ],
 "metadata": {
  "kernelspec": {
   "display_name": "Python 3 (ipykernel)",
   "language": "python",
   "name": "python3"
  },
  "language_info": {
   "codemirror_mode": {
    "name": "ipython",
    "version": 3
   },
   "file_extension": ".py",
   "mimetype": "text/x-python",
   "name": "python",
   "nbconvert_exporter": "python",
   "pygments_lexer": "ipython3",
   "version": "3.9.12"
  },
  "vscode": {
   "interpreter": {
    "hash": "83ff51d9f317b8ca80e5f143d4ddaebd5941bdc4ce038cf0be07ab08422cb26b"
   }
  }
 },
 "nbformat": 4,
 "nbformat_minor": 5
}
