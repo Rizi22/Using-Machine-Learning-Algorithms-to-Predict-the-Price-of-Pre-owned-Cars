{
 "cells": [
  {
   "cell_type": "markdown",
   "id": "76fc843b",
   "metadata": {},
   "source": [
    "# Imports"
   ]
  },
  {
   "cell_type": "code",
   "execution_count": 9,
   "id": "679ac403",
   "metadata": {},
   "outputs": [],
   "source": [
    "import numpy as np\n",
    "import matplotlib.pyplot as plt\n",
    "import pandas as pd\n",
    "import seaborn as sns\n",
    "from sklearn.model_selection import train_test_split\n",
    "import csv\n",
    "from sklearn.preprocessing import MinMaxScaler\n",
    "from math import sqrt\n",
    "from sklearn.metrics import mean_squared_error "
   ]
  },
  {
   "cell_type": "markdown",
   "id": "59cb0d2c",
   "metadata": {},
   "source": [
    "# Importing and splitting dataset"
   ]
  },
  {
   "cell_type": "code",
   "execution_count": 10,
   "id": "1370d4f1",
   "metadata": {},
   "outputs": [
    {
     "name": "stdout",
     "output_type": "stream",
     "text": [
      "     year  price  mileage  tax   mpg  engineSize  model_A1  model_A2  \\\n",
      "0    2017  12500    15735  150  55.4         1.4         1         0   \n",
      "1    2016  16500    36203   20  64.2         2.0         0         0   \n",
      "2    2016  11000    29946   30  55.4         1.4         1         0   \n",
      "3    2017  16800    25952  145  67.3         2.0         0         0   \n",
      "4    2019  17300     1998  145  49.6         1.0         0         0   \n",
      "..    ...    ...      ...  ...   ...         ...       ...       ...   \n",
      "195  2019  29985     1881  145  47.9         2.0         0         0   \n",
      "196  2019  27985      688  145  47.9         2.0         0         0   \n",
      "197  2019  30985     1863  145  47.9         2.0         0         0   \n",
      "198  2020  62985       10  145  33.2         3.0         0         0   \n",
      "199  2016  44985    49050  325  29.4         4.0         0         0   \n",
      "\n",
      "     model_A3  model_A4  ...  model_S8  model_SQ5  model_SQ7  model_TT  \\\n",
      "0           0         0  ...         0          0          0         0   \n",
      "1           0         0  ...         0          0          0         0   \n",
      "2           0         0  ...         0          0          0         0   \n",
      "3           0         1  ...         0          0          0         0   \n",
      "4           1         0  ...         0          0          0         0   \n",
      "..        ...       ...  ...       ...        ...        ...       ...   \n",
      "195         0         0  ...         0          0          0         0   \n",
      "196         0         0  ...         0          0          0         0   \n",
      "197         0         0  ...         0          0          0         0   \n",
      "198         0         0  ...         0          0          0         0   \n",
      "199         0         0  ...         0          0          0         0   \n",
      "\n",
      "     transmission_Automatic  transmission_Manual  transmission_Semi-Auto  \\\n",
      "0                         0                    1                       0   \n",
      "1                         1                    0                       0   \n",
      "2                         0                    1                       0   \n",
      "3                         1                    0                       0   \n",
      "4                         0                    1                       0   \n",
      "..                      ...                  ...                     ...   \n",
      "195                       1                    0                       0   \n",
      "196                       0                    0                       1   \n",
      "197                       1                    0                       0   \n",
      "198                       0                    0                       1   \n",
      "199                       0                    0                       1   \n",
      "\n",
      "     fuelType_Diesel  fuelType_Hybrid  fuelType_Petrol  \n",
      "0                  0                0                1  \n",
      "1                  1                0                0  \n",
      "2                  0                0                1  \n",
      "3                  1                0                0  \n",
      "4                  0                0                1  \n",
      "..               ...              ...              ...  \n",
      "195                1                0                0  \n",
      "196                1                0                0  \n",
      "197                1                0                0  \n",
      "198                1                0                0  \n",
      "199                0                0                1  \n",
      "\n",
      "[200 rows x 38 columns]\n"
     ]
    }
   ],
   "source": [
    "file1 = pd.read_csv(\"audi.csv\", quotechar='\"', skipinitialspace=True)\n",
    "file = pd.get_dummies(file1)\n",
    "\n",
    "file = file.head(200)\n",
    "# X = file.drop(['price', 'model', 'transmission', 'fuelType'], axis = 1)\n",
    "X = file.drop(columns = ['price'])\n",
    "Y = file.price\n",
    "\n",
    "print(file)"
   ]
  },
  {
   "cell_type": "code",
   "execution_count": 11,
   "id": "20547b66",
   "metadata": {},
   "outputs": [
    {
     "name": "stdout",
     "output_type": "stream",
     "text": [
      "(50, 37)\n",
      "(150, 37)\n",
      "year                       2017.0\n",
      "mileage                   44898.0\n",
      "tax                         125.0\n",
      "mpg                          57.7\n",
      "engineSize                    2.0\n",
      "model_A1                      0.0\n",
      "model_A2                      0.0\n",
      "model_A3                      0.0\n",
      "model_A4                      0.0\n",
      "model_A5                      0.0\n",
      "model_A6                      0.0\n",
      "model_A7                      0.0\n",
      "model_A8                      0.0\n",
      "model_Q2                      0.0\n",
      "model_Q3                      1.0\n",
      "model_Q5                      0.0\n",
      "model_Q7                      0.0\n",
      "model_Q8                      0.0\n",
      "model_R8                      0.0\n",
      "model_RS3                     0.0\n",
      "model_RS4                     0.0\n",
      "model_RS5                     0.0\n",
      "model_RS6                     0.0\n",
      "model_RS7                     0.0\n",
      "model_S3                      0.0\n",
      "model_S4                      0.0\n",
      "model_S5                      0.0\n",
      "model_S8                      0.0\n",
      "model_SQ5                     0.0\n",
      "model_SQ7                     0.0\n",
      "model_TT                      0.0\n",
      "transmission_Automatic        0.0\n",
      "transmission_Manual           1.0\n",
      "transmission_Semi-Auto        0.0\n",
      "fuelType_Diesel               1.0\n",
      "fuelType_Hybrid               0.0\n",
      "fuelType_Petrol               0.0\n",
      "Name: 63, dtype: float64\n"
     ]
    }
   ],
   "source": [
    "X_train, X_test, Y_train, Y_test = train_test_split(X, Y, random_state = 601)\n",
    "print(X_test.shape)\n",
    "print(X_train.shape)\n",
    "\n",
    "print(X_test.iloc[1])"
   ]
  },
  {
   "cell_type": "markdown",
   "id": "a01d7d65",
   "metadata": {},
   "source": [
    "# Normalizing Data"
   ]
  },
  {
   "cell_type": "code",
   "execution_count": 12,
   "id": "f7d9da09",
   "metadata": {},
   "outputs": [],
   "source": [
    "scaler = MinMaxScaler()\n",
    "scaler.fit(X_train)\n",
    "\n",
    "X_train = scaler.transform(X_train)\n",
    "X_test = scaler.transform(X_test)\n",
    "\n",
    "# print(X_test)"
   ]
  },
  {
   "cell_type": "markdown",
   "id": "c678044e",
   "metadata": {},
   "source": [
    "# KNN using Scikit-Learn"
   ]
  },
  {
   "cell_type": "code",
   "execution_count": 13,
   "id": "fc1496d0",
   "metadata": {},
   "outputs": [
    {
     "name": "stdout",
     "output_type": "stream",
     "text": [
      "0.5376283654217433\n"
     ]
    }
   ],
   "source": [
    "from sklearn.neighbors import KNeighborsRegressor as KNN_Reg\n",
    "knn = KNN_Reg(n_neighbors = 5)\n",
    "knn.fit(X_train, Y_train)\n",
    "print(knn.score(X_test, Y_test))"
   ]
  },
  {
   "cell_type": "code",
   "execution_count": 14,
   "id": "71eeb9c3",
   "metadata": {},
   "outputs": [
    {
     "data": {
      "text/plain": [
       "Text(0, 0.5, 'R^2')"
      ]
     },
     "execution_count": 14,
     "metadata": {},
     "output_type": "execute_result"
    },
    {
     "data": {
      "image/png": "[encoded data removed]",
      "text/plain": [
       "<Figure size 432x288 with 1 Axes>"
      ]
     },
     "metadata": {
      "needs_background": "light"
     },
     "output_type": "display_data"
    }
   ],
   "source": [
    "results = np.empty(99)\n",
    "for k in range(1, 100):\n",
    "    knn = KNN_Reg(n_neighbors = k)\n",
    "    knn.fit(X_train, Y_train)\n",
    "    results[k - 1] = (knn.score(X_test, Y_test))\n",
    "\n",
    "plt.plot(np.arange(99) + 1, results)\n",
    "plt.xlabel('K Neighbors')\n",
    "plt.ylabel('R^2')"
   ]
  },
  {
   "cell_type": "markdown",
   "id": "194750f5",
   "metadata": {},
   "source": [
    "# Euclidean Distance"
   ]
  },
  {
   "cell_type": "code",
   "execution_count": 15,
   "id": "d9ac5120",
   "metadata": {},
   "outputs": [],
   "source": [
    "def eucDistance(variable1, variable2):\n",
    "    distance = 0\n",
    "    for i in range(len(variable2)):\n",
    "        distance += (variable1[i] - variable2[i])**2\n",
    "    return np.sqrt(distance)"
   ]
  },
  {
   "cell_type": "markdown",
   "id": "3048d332",
   "metadata": {},
   "source": [
    "# KNN"
   ]
  },
  {
   "cell_type": "code",
   "execution_count": 16,
   "id": "83088256",
   "metadata": {
    "scrolled": false
   },
   "outputs": [],
   "source": [
    "def kNN(train, testRow, yTrain, num):\n",
    "    distance = list() #Stores distance of each point\n",
    "    for i in range(len(train)-1):\n",
    "        dist = eucDistance(train[i], testRow) #sends points to work out distance\n",
    "        distance.append((train[i], dist, yTrain.iloc[i])) \n",
    "    distance = sort(distance) #need to create a sort method to order list\n",
    "    kNeighbours = list() #list to store K amount of neighbour results\n",
    "    for i in range(num):\n",
    "        kNeighbours.append((testRow, distance[i][1], distance[i][2]))\n",
    "    return kNeighbours "
   ]
  },
  {
   "cell_type": "markdown",
   "id": "c875cd65",
   "metadata": {},
   "source": [
    "# Sort Method"
   ]
  },
  {
   "cell_type": "code",
   "execution_count": 17,
   "id": "edf6ff4f",
   "metadata": {},
   "outputs": [],
   "source": [
    "def sort(dist):\n",
    "    for i in range(0, len(dist)):\n",
    "        for j in range(0, len(dist) - i - 1):\n",
    "            if (dist[j][1] > dist[j + 1][1]):\n",
    "                temp = dist[j]\n",
    "                dist[j] = dist[j + 1]\n",
    "                dist[j + 1] = temp\n",
    "    return dist"
   ]
  },
  {
   "cell_type": "markdown",
   "id": "b01b0161",
   "metadata": {},
   "source": [
    "# Predict Method"
   ]
  },
  {
   "cell_type": "code",
   "execution_count": 67,
   "id": "9b18d4dd",
   "metadata": {},
   "outputs": [],
   "source": [
    "from statistics import mean \n",
    "\n",
    "def predict(train, test, yTrain, num_neighbors):\n",
    "    predictions = list()\n",
    "    for i in range(len(test)): #Sends each test variable\n",
    "#         print(\"Predicting:\", i)\n",
    "        neighbour = kNN(train, test[i], yTrain, num_neighbors)\n",
    "        labels = [] #Stores yTrain for each test variable\n",
    "        for i in range (len(neighbour)):\n",
    "            t = labels.append(neighbour[i][2]) #Appends yTrain\n",
    "        predictions.append(mean(labels))\n",
    "    return predictions"
   ]
  },
  {
   "cell_type": "markdown",
   "id": "04a48e36",
   "metadata": {},
   "source": [
    "# RMSE"
   ]
  },
  {
   "cell_type": "code",
   "execution_count": 19,
   "id": "b99faa40",
   "metadata": {},
   "outputs": [],
   "source": [
    "def rmse(test, pred):\n",
    "  return sqrt(mean_squared_error(test, pred))"
   ]
  },
  {
   "cell_type": "markdown",
   "id": "a8de250c",
   "metadata": {},
   "source": [
    "# Evaluation Method"
   ]
  },
  {
   "cell_type": "code",
   "execution_count": 71,
   "id": "96889625",
   "metadata": {},
   "outputs": [],
   "source": [
    "def eva(train, test, yTrain, yTest):\n",
    "    rmseValues = []\n",
    "    predictions = []\n",
    "    for k in range(1, 101): #Testing up to 100 neearest neighbours\n",
    "        y_pred = predict(train, test, yTrain, k)\n",
    "\n",
    "        error = rmse(yTest, y_pred) \n",
    "        rmseValues.append(error)\n",
    "        print('RMSE value for k =' , k , 'is:', error)\n",
    "        \n",
    "    plt.plot(np.arange(100) + 1, rmseValues)\n",
    "    plt.xlabel('K Neighbors')\n",
    "    plt.ylabel('RMSE')\n",
    "    \n",
    "    return"
   ]
  },
  {
   "cell_type": "code",
   "execution_count": 72,
   "id": "b171177e",
   "metadata": {
    "scrolled": false
   },
   "outputs": [
    {
     "name": "stdout",
     "output_type": "stream",
     "text": [
      "RMSE value for k = 1 is: 3688.887021853611\n",
      "RMSE value for k = 2 is: 3822.4748422978537\n",
      "RMSE value for k = 3 is: 3772.8363759908802\n",
      "RMSE value for k = 4 is: 3401.235566672794\n",
      "RMSE value for k = 5 is: 3319.4746451810715\n",
      "RMSE value for k = 6 is: 3274.0870147263954\n",
      "RMSE value for k = 7 is: 3237.6252655302774\n",
      "RMSE value for k = 8 is: 3351.675336305711\n",
      "RMSE value for k = 9 is: 3370.8564193688226\n",
      "RMSE value for k = 10 is: 3405.8911198099095\n",
      "RMSE value for k = 11 is: 3387.7004649171686\n",
      "RMSE value for k = 12 is: 3350.9913130296236\n",
      "RMSE value for k = 13 is: 3249.9955969200946\n",
      "RMSE value for k = 14 is: 3365.3593507974747\n",
      "RMSE value for k = 15 is: 3479.215989271146\n",
      "RMSE value for k = 16 is: 3474.7073258045775\n",
      "RMSE value for k = 17 is: 3499.069316261111\n",
      "RMSE value for k = 18 is: 3532.4730289133136\n",
      "RMSE value for k = 19 is: 3527.532973623351\n",
      "RMSE value for k = 20 is: 3536.4421754073683\n",
      "RMSE value for k = 21 is: 3576.0095665420135\n",
      "RMSE value for k = 22 is: 3638.1668433429495\n",
      "RMSE value for k = 23 is: 3655.173700386891\n",
      "RMSE value for k = 24 is: 3702.3616408989546\n",
      "RMSE value for k = 25 is: 3741.7354502957583\n",
      "RMSE value for k = 26 is: 3733.239204765749\n",
      "RMSE value for k = 27 is: 3743.3953010602554\n",
      "RMSE value for k = 28 is: 3762.108948448995\n",
      "RMSE value for k = 29 is: 3676.3752093604376\n",
      "RMSE value for k = 30 is: 3705.570860204943\n",
      "RMSE value for k = 31 is: 3736.0219512203084\n",
      "RMSE value for k = 32 is: 3733.256074795834\n",
      "RMSE value for k = 33 is: 3744.7721986791134\n",
      "RMSE value for k = 34 is: 3733.2275473107716\n",
      "RMSE value for k = 35 is: 3769.9268374863723\n",
      "RMSE value for k = 36 is: 3798.3783144915938\n",
      "RMSE value for k = 37 is: 3827.164684201609\n",
      "RMSE value for k = 38 is: 3850.525088867751\n",
      "RMSE value for k = 39 is: 3865.3615665290613\n",
      "RMSE value for k = 40 is: 3878.240740335752\n",
      "RMSE value for k = 41 is: 3890.9161234855733\n",
      "RMSE value for k = 42 is: 3913.3077517619286\n",
      "RMSE value for k = 43 is: 3916.332345447715\n",
      "RMSE value for k = 44 is: 3883.0035977320445\n",
      "RMSE value for k = 45 is: 3895.608766290578\n",
      "RMSE value for k = 46 is: 3896.3161242383812\n",
      "RMSE value for k = 47 is: 3928.1910595081804\n",
      "RMSE value for k = 48 is: 3952.661617189106\n",
      "RMSE value for k = 49 is: 3965.9007022365045\n",
      "RMSE value for k = 50 is: 3998.9443982131083\n",
      "RMSE value for k = 51 is: 4018.5061776734897\n",
      "RMSE value for k = 52 is: 4034.966133686874\n",
      "RMSE value for k = 53 is: 4023.0084464241436\n",
      "RMSE value for k = 54 is: 4008.0083133646317\n",
      "RMSE value for k = 55 is: 4001.970602090925\n",
      "RMSE value for k = 56 is: 4009.3301086341094\n",
      "RMSE value for k = 57 is: 4006.202558533455\n",
      "RMSE value for k = 58 is: 4016.629101622404\n",
      "RMSE value for k = 59 is: 4011.7969365360455\n",
      "RMSE value for k = 60 is: 4012.0262735929336\n",
      "RMSE value for k = 61 is: 4013.3109373682973\n",
      "RMSE value for k = 62 is: 4031.621185081753\n",
      "RMSE value for k = 63 is: 4034.6391610650885\n",
      "RMSE value for k = 64 is: 4050.8069097403295\n",
      "RMSE value for k = 65 is: 4055.637777218276\n",
      "RMSE value for k = 66 is: 4068.0948538597277\n",
      "RMSE value for k = 67 is: 4074.1443371584173\n",
      "RMSE value for k = 68 is: 4079.512492933439\n",
      "RMSE value for k = 69 is: 4081.5632348402983\n",
      "RMSE value for k = 70 is: 4104.465675334611\n",
      "RMSE value for k = 71 is: 4119.072893261298\n",
      "RMSE value for k = 72 is: 4128.712249600352\n",
      "RMSE value for k = 73 is: 4144.07825698309\n",
      "RMSE value for k = 74 is: 4156.810633165769\n",
      "RMSE value for k = 75 is: 4161.451266084946\n",
      "RMSE value for k = 76 is: 4178.397647424189\n",
      "RMSE value for k = 77 is: 4164.817436575102\n",
      "RMSE value for k = 78 is: 4179.23403269068\n",
      "RMSE value for k = 79 is: 4206.776630628254\n",
      "RMSE value for k = 80 is: 4194.6166451774825\n",
      "RMSE value for k = 81 is: 4201.896174347958\n",
      "RMSE value for k = 82 is: 4210.026147187212\n",
      "RMSE value for k = 83 is: 4213.880911938542\n",
      "RMSE value for k = 84 is: 4221.890664145627\n",
      "RMSE value for k = 85 is: 4229.305718436538\n",
      "RMSE value for k = 86 is: 4227.7751643151505\n",
      "RMSE value for k = 87 is: 4240.048742644358\n",
      "RMSE value for k = 88 is: 4237.433031919207\n",
      "RMSE value for k = 89 is: 4226.156596720003\n",
      "RMSE value for k = 90 is: 4232.435521068219\n",
      "RMSE value for k = 91 is: 4236.257843899495\n",
      "RMSE value for k = 92 is: 4247.603218286756\n",
      "RMSE value for k = 93 is: 4264.973943648425\n",
      "RMSE value for k = 94 is: 4286.625969221014\n",
      "RMSE value for k = 95 is: 4290.720093410895\n",
      "RMSE value for k = 96 is: 4302.484607758638\n",
      "RMSE value for k = 97 is: 4314.220126511859\n",
      "RMSE value for k = 98 is: 4359.569990262801\n",
      "RMSE value for k = 99 is: 4374.694784782134\n",
      "RMSE value for k = 100 is: 4386.154126338927\n"
     ]
    },
    {
     "data": {
      "image/png": "[encoded data removed]",
      "text/plain": [
       "<Figure size 432x288 with 1 Axes>"
      ]
     },
     "metadata": {
      "needs_background": "light"
     },
     "output_type": "display_data"
    }
   ],
   "source": [
    "eva(X_train, X_test, Y_train, Y_test)"
   ]
  },
  {
   "cell_type": "markdown",
   "id": "9ea277f8",
   "metadata": {},
   "source": [
    "# 1NN"
   ]
  },
  {
   "cell_type": "code",
   "execution_count": 86,
   "id": "c25c2b7e",
   "metadata": {},
   "outputs": [
    {
     "name": "stdout",
     "output_type": "stream",
     "text": [
      "RMSE value for k = 6 is: 3772.8363759908802\n",
      "\n",
      "Original value: 16985 vs the predicted value: 15266\n",
      "The difference is: 1719\n",
      "\n",
      "Original value: 15000 vs the predicted value: 15866\n",
      "The difference is: -866\n",
      "\n",
      "Original value: 19100 vs the predicted value: 20466\n",
      "The difference is: -1366\n",
      "\n",
      "Original value: 16500 vs the predicted value: 19833\n",
      "The difference is: -3333\n",
      "\n",
      "Original value: 17000 vs the predicted value: 15866\n",
      "The difference is: 1134\n",
      "\n",
      "Original value: 10500 vs the predicted value: 10933\n",
      "The difference is: -433\n",
      "\n",
      "Original value: 11500 vs the predicted value: 17566\n",
      "The difference is: -6066\n",
      "\n",
      "Original value: 17100 vs the predicted value: 16400\n",
      "The difference is: 700\n",
      "\n",
      "Original value: 11700 vs the predicted value: 11433\n",
      "The difference is: 267\n",
      "\n",
      "Original value: 13100 vs the predicted value: 14333\n",
      "The difference is: -1233\n",
      "\n",
      "Original value: 16600 vs the predicted value: 15266\n",
      "The difference is: 1334\n",
      "\n",
      "Original value: 15000 vs the predicted value: 15233\n",
      "The difference is: -233\n",
      "\n",
      "Original value: 30985 vs the predicted value: 16399\n",
      "The difference is: 14586\n",
      "\n",
      "Original value: 18100 vs the predicted value: 17100\n",
      "The difference is: 1000\n",
      "\n",
      "Original value: 16498 vs the predicted value: 16628\n",
      "The difference is: -130\n",
      "\n",
      "Original value: 11998 vs the predicted value: 11100\n",
      "The difference is: 898\n",
      "\n",
      "Original value: 18500 vs the predicted value: 15266\n",
      "The difference is: 3234\n",
      "\n",
      "Original value: 11600 vs the predicted value: 11533\n",
      "The difference is: 67\n",
      "\n",
      "Original value: 20000 vs the predicted value: 19600\n",
      "The difference is: 400\n",
      "\n",
      "Original value: 16000 vs the predicted value: 15250\n",
      "The difference is: 750\n",
      "\n",
      "Original value: 17300 vs the predicted value: 16000\n",
      "The difference is: 1300\n",
      "\n",
      "Original value: 16100 vs the predicted value: 16950\n",
      "The difference is: -850\n",
      "\n",
      "Original value: 14000 vs the predicted value: 12866\n",
      "The difference is: 1134\n",
      "\n",
      "Original value: 13000 vs the predicted value: 16400\n",
      "The difference is: -3400\n",
      "\n",
      "Original value: 14800 vs the predicted value: 15431\n",
      "The difference is: -631\n",
      "\n",
      "Original value: 16000 vs the predicted value: 17250\n",
      "The difference is: -1250\n",
      "\n",
      "Original value: 16000 vs the predicted value: 20466\n",
      "The difference is: -4466\n",
      "\n",
      "Original value: 13500 vs the predicted value: 11200\n",
      "The difference is: 2300\n",
      "\n",
      "Original value: 25000 vs the predicted value: 16833\n",
      "The difference is: 8167\n",
      "\n",
      "Original value: 13300 vs the predicted value: 14700\n",
      "The difference is: -1400\n",
      "\n",
      "Original value: 10200 vs the predicted value: 12083\n",
      "The difference is: -1883\n",
      "\n",
      "Original value: 11300 vs the predicted value: 10000\n",
      "The difference is: 1300\n",
      "\n",
      "Original value: 12000 vs the predicted value: 15250\n",
      "The difference is: -3250\n",
      "\n",
      "Original value: 13495 vs the predicted value: 11433\n",
      "The difference is: 2062\n",
      "\n",
      "Original value: 15500 vs the predicted value: 15766\n",
      "The difference is: -266\n",
      "\n",
      "Original value: 19800 vs the predicted value: 19283\n",
      "The difference is: 517\n",
      "\n",
      "Original value: 22485 vs the predicted value: 25161\n",
      "The difference is: -2676\n",
      "\n",
      "Original value: 21499 vs the predicted value: 23828\n",
      "The difference is: -2329\n",
      "\n",
      "Original value: 20000 vs the predicted value: 16566\n",
      "The difference is: 3434\n",
      "\n",
      "Original value: 19800 vs the predicted value: 17000\n",
      "The difference is: 2800\n",
      "\n",
      "Original value: 36998 vs the predicted value: 25160\n",
      "The difference is: 11838\n",
      "\n",
      "Original value: 11300 vs the predicted value: 11100\n",
      "The difference is: 200\n",
      "\n",
      "Original value: 16600 vs the predicted value: 22200\n",
      "The difference is: -5600\n",
      "\n",
      "Original value: 10498 vs the predicted value: 14866\n",
      "The difference is: -4368\n",
      "\n",
      "Original value: 15000 vs the predicted value: 13733\n",
      "The difference is: 1267\n",
      "\n",
      "Original value: 16798 vs the predicted value: 23993\n",
      "The difference is: -7195\n",
      "\n",
      "Original value: 16000 vs the predicted value: 12166\n",
      "The difference is: 3834\n",
      "\n",
      "Original value: 15000 vs the predicted value: 15933\n",
      "The difference is: -933\n",
      "\n",
      "Original value: 13900 vs the predicted value: 12066\n",
      "The difference is: 1834\n",
      "\n",
      "Original value: 12100 vs the predicted value: 11433\n",
      "The difference is: 667\n"
     ]
    }
   ],
   "source": [
    "def NN(train, test, yTrain, yTest):    \n",
    "    y_pred = predict(train, test, yTrain, 3)\n",
    "    error = rmse(yTest, y_pred) \n",
    "    print('RMSE value for k =' , 6 , 'is:', error)\n",
    "    for i in range(len(y_pred)):\n",
    "        print(\"\\nOriginal value:\", yTest.iloc[i], \"vs the predicted value:\", y_pred[i])\n",
    "        print(\"The difference is:\", yTest.iloc[i] - y_pred[i])\n",
    "        \n",
    "#     YTest = pd.DataFrame(yTest)\n",
    "# #     y_pred = pd.DataFrame(y_pred)\n",
    "# #     y_pred = pd.DataFrame({'Price_prediction': y_pred.flatten()})\n",
    "# #     Comparison = yTest.join(y_pred)\n",
    "#     plt.bar(yTest, y_pred)\n",
    "# #     plt.grid(linestyle = '-', linewidth = '0.6', color = 'green', which = 'both')\n",
    "#     plt.show()\n",
    "    return \n",
    "\n",
    "NN(X_train, X_test, Y_train, Y_test)"
   ]
  },
  {
   "cell_type": "code",
   "execution_count": 95,
   "id": "53ff36e2",
   "metadata": {},
   "outputs": [
    {
     "name": "stdout",
     "output_type": "stream",
     "text": [
      "What year?2019\n",
      "What mileage?1998\n",
      "What tax?145\n",
      "What mpg49.6\n",
      "What engine size1.0\n",
      "[12833]\n"
     ]
    }
   ],
   "source": [
    "inputPred = []\n",
    "entries = []\n",
    "inputPred.append(int(input(\"What year?\")))\n",
    "inputPred.append(int(input(\"What mileage?\")))\n",
    "inputPred.append(int(input(\"What tax?\")))\n",
    "inputPred.append(float(input(\"What mpg\")))\n",
    "inputPred.append(float(input(\"What engine size\")))\n",
    "entries.append(inputPred)\n",
    "\n",
    "y_pred = predict(X_train, entries, Y_train, 3)\n",
    "print(y_pred)"
   ]
  },
  {
   "cell_type": "code",
   "execution_count": null,
   "id": "4bf48f0f",
   "metadata": {},
   "outputs": [],
   "source": [
    "print(X_test.iloc[1])"
   ]
  }
 ],
 "metadata": {
  "kernelspec": {
   "display_name": "Python 3 (ipykernel)",
   "language": "python",
   "name": "python3"
  },
  "language_info": {
   "codemirror_mode": {
    "name": "ipython",
    "version": 3
   },
   "file_extension": ".py",
   "mimetype": "text/x-python",
   "name": "python",
   "nbconvert_exporter": "python",
   "pygments_lexer": "ipython3",
   "version": "3.9.12"
  },
  "vscode": {
   "interpreter": {
    "hash": "83ff51d9f317b8ca80e5f143d4ddaebd5941bdc4ce038cf0be07ab08422cb26b"
   }
  }
 },
 "nbformat": 4,
 "nbformat_minor": 5
}
