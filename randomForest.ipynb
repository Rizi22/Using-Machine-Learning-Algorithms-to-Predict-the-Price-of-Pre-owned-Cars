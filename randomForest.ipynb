{
 "cells": [
  {
   "cell_type": "markdown",
   "id": "92c67747",
   "metadata": {},
   "source": [
    "# Import"
   ]
  },
  {
   "cell_type": "code",
   "execution_count": 2,
   "id": "38e961de",
   "metadata": {},
   "outputs": [],
   "source": [
    "import numpy as np\n",
    "import matplotlib.pyplot as plt\n",
    "import pandas as pd\n",
    "from sklearn.model_selection import train_test_split\n",
    "import csv\n",
    "from sklearn.preprocessing import MinMaxScaler\n",
    "from math import sqrt\n",
    "from sklearn.metrics import mean_squared_error \n",
    "from sklearn.preprocessing import LabelEncoder\n",
    "from sklearn.tree import DecisionTreeRegressor\n",
    "from sklearn.ensemble import RandomForestRegressor\n",
    "from sklearn.metrics import mean_squared_error\n",
    "from sklearn.tree import plot_tree"
   ]
  },
  {
   "cell_type": "markdown",
   "id": "4a2563ad",
   "metadata": {},
   "source": [
    "# Importing and Splitting data"
   ]
  },
  {
   "cell_type": "code",
   "execution_count": 3,
   "id": "10e7529f",
   "metadata": {},
   "outputs": [],
   "source": [
    "modelEncoder = LabelEncoder()\n",
    "transmissionEncoder = LabelEncoder()\n",
    "fuelTypeEncoder = LabelEncoder()\n",
    "\n",
    "def dataset(brand):\n",
    "\n",
    "    file = pd.read_csv(brand, quotechar='\"', skipinitialspace=True)\n",
    "\n",
    "    modelEncoder.fit(file[\"model\"])\n",
    "    file[\"model\"] = modelEncoder.transform(file[\"model\"])\n",
    "\n",
    "    transmissionEncoder.fit(file[\"transmission\"])\n",
    "    file[\"transmission\"] = transmissionEncoder.transform(file[\"transmission\"])\n",
    "\n",
    "    fuelTypeEncoder.fit(file[\"fuelType\"])\n",
    "    file[\"fuelType\"] = fuelTypeEncoder.transform(file[\"fuelType\"])\n",
    "\n",
    "    file = file.head(1000)\n",
    "    # X = file.drop(columns = ['price'])\n",
    "    # Y = file.price\n",
    "    # print(file)\n",
    "\n",
    "    X = file.drop(['price'], axis = 1).to_numpy()\n",
    "    # X = file[['year', 'mileage', 'tax', 'mpg', 'engineSize']].to_numpy(dtype = 'int')\n",
    "    Y = file['price'].values.reshape(-1,1)\n",
    "\n",
    "#     print(X)\n",
    "    X_train, X_test, Y_train, Y_test = train_test_split(X, Y, random_state = 601)\n",
    "    \n",
    "    return  X_train, X_test, Y_train, Y_test"
   ]
  },
  {
   "cell_type": "code",
   "execution_count": 4,
   "id": "d8562fd3",
   "metadata": {},
   "outputs": [],
   "source": [
    "X_train, X_test, Y_train, Y_test = dataset(\"UKUsedCarDataSet/audi.csv\") # Use Audi dataset as default for KNN analysis"
   ]
  },
  {
   "cell_type": "markdown",
   "id": "477fe827",
   "metadata": {},
   "source": [
    "# Using Scikit-Learn"
   ]
  },
  {
   "cell_type": "code",
   "execution_count": 5,
   "id": "ba0949a8",
   "metadata": {
    "scrolled": true
   },
   "outputs": [
    {
     "name": "stderr",
     "output_type": "stream",
     "text": [
      "C:\\Users\\rb22\\AppData\\Local\\Temp\\ipykernel_17100\\4134637167.py:3: DataConversionWarning: A column-vector y was passed when a 1d array was expected. Please change the shape of y to (n_samples,), for example using ravel().\n",
      "  regressor.fit(X_train, Y_train)\n"
     ]
    },
    {
     "name": "stdout",
     "output_type": "stream",
     "text": [
      "R Squared:  0.8784516562563071\n"
     ]
    }
   ],
   "source": [
    "from sklearn.ensemble import RandomForestRegressor\n",
    "regressor = RandomForestRegressor(random_state = 601)\n",
    "regressor.fit(X_train, Y_train)\n",
    "print(\"R Squared: \", regressor.score(X_test, Y_test))"
   ]
  },
  {
   "cell_type": "code",
   "execution_count": null,
   "id": "b7cba849",
   "metadata": {},
   "outputs": [],
   "source": [
    "from sklearn.model_selection import GridSearchCV\n",
    "\n",
    "params = {'max_leaf_nodes': list(range(2, 100)), 'min_samples_split': [2, 3, 4]}\n",
    "\n",
    "grid_search_cv = GridSearchCV(regressor, params, cv=3)\n",
    "grid_search_cv.fit(X_train, Y_train)"
   ]
  },
  {
   "cell_type": "code",
   "execution_count": null,
   "id": "9f8a1b56",
   "metadata": {},
   "outputs": [],
   "source": [
    "grid_search_cv.best_estimator_"
   ]
  }
 ],
 "metadata": {
  "kernelspec": {
   "display_name": "Python 3 (ipykernel)",
   "language": "python",
   "name": "python3"
  },
  "language_info": {
   "codemirror_mode": {
    "name": "ipython",
    "version": 3
   },
   "file_extension": ".py",
   "mimetype": "text/x-python",
   "name": "python",
   "nbconvert_exporter": "python",
   "pygments_lexer": "ipython3",
   "version": "3.9.13"
  }
 },
 "nbformat": 4,
 "nbformat_minor": 5
}
