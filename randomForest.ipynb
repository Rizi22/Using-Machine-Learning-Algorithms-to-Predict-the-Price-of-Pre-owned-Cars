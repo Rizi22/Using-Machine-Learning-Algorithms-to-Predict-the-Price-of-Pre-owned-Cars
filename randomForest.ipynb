{
 "cells": [
  {
   "cell_type": "markdown",
   "id": "92c67747",
   "metadata": {},
   "source": [
    "# Import"
   ]
  },
  {
   "cell_type": "code",
   "execution_count": 19,
   "id": "38e961de",
   "metadata": {},
   "outputs": [],
   "source": [
    "import numpy as np\n",
    "import matplotlib.pyplot as plt\n",
    "import pandas as pd\n",
    "from sklearn.model_selection import train_test_split\n",
    "import csv\n",
    "from sklearn.preprocessing import MinMaxScaler\n",
    "from math import sqrt\n",
    "from sklearn.metrics import mean_squared_error \n",
    "from sklearn.preprocessing import LabelEncoder\n",
    "from sklearn.tree import DecisionTreeRegressor\n",
    "from sklearn.ensemble import RandomForestRegressor\n",
    "from sklearn.metrics import mean_squared_error\n",
    "from sklearn.tree import plot_tree\n",
    "\n",
    "from decisionTree import DTRegressor\n",
    "from sklearn.utils import resample"
   ]
  },
  {
   "cell_type": "markdown",
   "id": "4a2563ad",
   "metadata": {},
   "source": [
    "# Importing and Splitting data"
   ]
  },
  {
   "cell_type": "code",
   "execution_count": 20,
   "id": "10e7529f",
   "metadata": {},
   "outputs": [],
   "source": [
    "modelEncoder = LabelEncoder()\n",
    "transmissionEncoder = LabelEncoder()\n",
    "fuelTypeEncoder = LabelEncoder()\n",
    "\n",
    "def dataset(brand):\n",
    "\n",
    "    file = pd.read_csv(brand, quotechar='\"', skipinitialspace=True)\n",
    "\n",
    "    for i in ['year']:\n",
    "        q75,q25 = np.percentile(file.loc[:,i],[75,25])\n",
    "        IQR = q75-q25\n",
    "    \n",
    "        max = q75+(1.5*IQR)\n",
    "        min = q25-(1.5*IQR)\n",
    "    \n",
    "        file.loc[file[i] < min, i] = np.nan\n",
    "        file.loc[file[i] > max, i] = np.nan\n",
    "\n",
    "    file = file.dropna(axis = 0)\n",
    "\n",
    "\n",
    "    modelEncoder.fit(file[\"model\"])\n",
    "    file[\"model\"] = modelEncoder.transform(file[\"model\"])\n",
    "\n",
    "    transmissionEncoder.fit(file[\"transmission\"])\n",
    "    file[\"transmission\"] = transmissionEncoder.transform(file[\"transmission\"])\n",
    "\n",
    "    fuelTypeEncoder.fit(file[\"fuelType\"])\n",
    "    file[\"fuelType\"] = fuelTypeEncoder.transform(file[\"fuelType\"])\n",
    "\n",
    "    file = file.head(5000)\n",
    "    # X = file.drop(columns = ['price'])\n",
    "    # Y = file.price\n",
    "    # print(file)\n",
    "\n",
    "    X = file.drop(['price'], axis = 1).to_numpy()\n",
    "    # X = file[['year', 'mileage', 'tax', 'mpg', 'engineSize']].to_numpy(dtype = 'int')\n",
    "    Y = file['price'].values.reshape(-1,1)\n",
    "\n",
    "#     print(X)\n",
    "    X_train, X_test, Y_train, Y_test = train_test_split(X, Y, random_state = 601)\n",
    "    \n",
    "    return  X_train, X_test, Y_train, Y_test"
   ]
  },
  {
   "cell_type": "code",
   "execution_count": 21,
   "id": "d8562fd3",
   "metadata": {},
   "outputs": [],
   "source": [
    "X_train, X_test, Y_train, Y_test = dataset(\"UKUsedCarDataSet/audi.csv\") # Use Audi dataset as default for KNN analysis"
   ]
  },
  {
   "cell_type": "markdown",
   "id": "477fe827",
   "metadata": {},
   "source": [
    "# Using Scikit-Learn"
   ]
  },
  {
   "cell_type": "code",
   "execution_count": 2,
   "id": "ba0949a8",
   "metadata": {
    "scrolled": true
   },
   "outputs": [
    {
     "ename": "NameError",
     "evalue": "name 'X_train' is not defined",
     "output_type": "error",
     "traceback": [
      "\u001b[1;31m---------------------------------------------------------------------------\u001b[0m",
      "\u001b[1;31mNameError\u001b[0m                                 Traceback (most recent call last)",
      "\u001b[1;32mc:\\Users\\rb22\\Documents\\Rizwan\\Uni\\Year 3\\FYP\\PROJECT\\randomForest.ipynb Cell 7\u001b[0m in \u001b[0;36m<module>\u001b[1;34m\u001b[0m\n\u001b[0;32m      <a href='vscode-notebook-cell:/c%3A/Users/rb22/Documents/Rizwan/Uni/Year%203/FYP/PROJECT/randomForest.ipynb#W6sZmlsZQ%3D%3D?line=0'>1</a>\u001b[0m \u001b[39mfrom\u001b[39;00m \u001b[39msklearn\u001b[39;00m\u001b[39m.\u001b[39;00m\u001b[39mensemble\u001b[39;00m \u001b[39mimport\u001b[39;00m RandomForestRegressor\n\u001b[0;32m      <a href='vscode-notebook-cell:/c%3A/Users/rb22/Documents/Rizwan/Uni/Year%203/FYP/PROJECT/randomForest.ipynb#W6sZmlsZQ%3D%3D?line=1'>2</a>\u001b[0m regressor \u001b[39m=\u001b[39m RandomForestRegressor(random_state \u001b[39m=\u001b[39m \u001b[39m601\u001b[39m)\n\u001b[1;32m----> <a href='vscode-notebook-cell:/c%3A/Users/rb22/Documents/Rizwan/Uni/Year%203/FYP/PROJECT/randomForest.ipynb#W6sZmlsZQ%3D%3D?line=2'>3</a>\u001b[0m regressor\u001b[39m.\u001b[39mfit(X_train, Y_train)\n\u001b[0;32m      <a href='vscode-notebook-cell:/c%3A/Users/rb22/Documents/Rizwan/Uni/Year%203/FYP/PROJECT/randomForest.ipynb#W6sZmlsZQ%3D%3D?line=3'>4</a>\u001b[0m \u001b[39mprint\u001b[39m(\u001b[39m\"\u001b[39m\u001b[39mR Squared: \u001b[39m\u001b[39m\"\u001b[39m, regressor\u001b[39m.\u001b[39mscore(X_test, Y_test))\n",
      "\u001b[1;31mNameError\u001b[0m: name 'X_train' is not defined"
     ]
    }
   ],
   "source": [
    "from sklearn.ensemble import RandomForestRegressor\n",
    "regressor = RandomForestRegressor(random_state = 601)\n",
    "regressor.fit(X_train, Y_train)\n",
    "print(\"R Squared: \", regressor.score(X_test, Y_test))"
   ]
  },
  {
   "cell_type": "code",
   "execution_count": 193,
   "id": "349ab339",
   "metadata": {},
   "outputs": [
    {
     "name": "stdout",
     "output_type": "stream",
     "text": [
      "Fitting 3 folds for each of 100 candidates, totalling 300 fits\n"
     ]
    },
    {
     "data": {
      "text/plain": [
       "RandomizedSearchCV(cv=3, estimator=RandomForestRegressor(random_state=601),\n",
       "                   n_iter=100, n_jobs=-1,\n",
       "                   param_distributions={'max_depth': [2, 3, 4, 5, 6, 7, 8, 9,\n",
       "                                                      10, 11, 12, 13, 14, 15,\n",
       "                                                      16, 17, 18, 19, 20, 21,\n",
       "                                                      22, 23, 24, 25, 26, 27,\n",
       "                                                      28, 29, 30, 31, ...],\n",
       "                                        'min_samples_split': [2, 3, 4, 5, 6, 7,\n",
       "                                                              8, 9, 10, 11, 12,\n",
       "                                                              13, 14, 15, 16,\n",
       "                                                              17, 18, 19, 20,\n",
       "                                                              21, 22, 23, 24,\n",
       "                                                              25, 26, 27, 28,\n",
       "                                                              29, 30, 31, ...],\n",
       "                                        'n_estimators': [2, 3, 4, 5, 6, 7, 8, 9,\n",
       "                                                         10, 11, 12, 13, 14, 15,\n",
       "                                                         16, 17, 18, 19, 20, 21,\n",
       "                                                         22, 23, 24, 25, 26, 27,\n",
       "                                                         28, 29, 30, 31, ...]},\n",
       "                   random_state=601, verbose=2)"
      ]
     },
     "execution_count": 193,
     "metadata": {},
     "output_type": "execute_result"
    }
   ],
   "source": [
    "from sklearn.model_selection import RandomizedSearchCV\n",
    "random_grid = params = {'min_samples_split': list(range(2, 100)), 'max_depth': list(range(2, 100)), 'n_estimators': list(range(2, 100))}\n",
    "\n",
    "#{'min_samples_split': [3, 4, 5, 6], 'max_depth': list(range(1, 6)), 'n_estimators': list(range(1, 100))}\n",
    "\n",
    "rf_random = RandomizedSearchCV(estimator = regressor, param_distributions = random_grid, n_iter = 100, cv = 3, verbose=2, random_state=601, n_jobs = -1)\n",
    "# Fit the random search model\n",
    "rf_random.fit(X_train, Y_train)"
   ]
  },
  {
   "cell_type": "code",
   "execution_count": 194,
   "id": "dae1d113",
   "metadata": {
    "scrolled": true
   },
   "outputs": [
    {
     "data": {
      "text/plain": [
       "{'n_estimators': 25, 'min_samples_split': 2, 'max_depth': 99}"
      ]
     },
     "execution_count": 194,
     "metadata": {},
     "output_type": "execute_result"
    }
   ],
   "source": [
    "rf_random.best_params_"
   ]
  },
  {
   "cell_type": "code",
   "execution_count": 15,
   "id": "633f9260",
   "metadata": {},
   "outputs": [
    {
     "name": "stderr",
     "output_type": "stream",
     "text": [
      "C:\\Users\\rb22\\AppData\\Local\\Temp\\ipykernel_16076\\1224364818.py:2: DataConversionWarning: A column-vector y was passed when a 1d array was expected. Please change the shape of y to (n_samples,), for example using ravel().\n",
      "  regressor2.fit(X_train, Y_train)\n"
     ]
    },
    {
     "name": "stdout",
     "output_type": "stream",
     "text": [
      "R Squared:  0.8853793922050485\n"
     ]
    }
   ],
   "source": [
    "regressor2 = RandomForestRegressor(random_state = 601, n_estimators = 31, min_samples_split = 6, max_depth = 90)\n",
    "regressor2.fit(X_train, Y_train)\n",
    "print(\"R Squared: \", regressor2.score(X_test, Y_test))\n",
    "\n",
    "#22,6,96 = 0.879540341188823\n",
    "#25,6,99 = 0.8833043912108435\n",
    "#31,6,90 = 0.8853793922050485"
   ]
  },
  {
   "cell_type": "code",
   "execution_count": 195,
   "id": "3fb48db5",
   "metadata": {},
   "outputs": [
    {
     "data": {
      "text/plain": [
       "GridSearchCV(cv=3, estimator=RandomForestRegressor(random_state=601),\n",
       "             param_grid={'max_depth': [90, 91, 92, 93, 94, 95, 96, 97, 98, 99],\n",
       "                         'min_samples_split': [2, 3, 4, 5, 6, 7, 8, 9],\n",
       "                         'n_estimators': [10, 11, 12, 13, 14, 15, 16, 17, 18,\n",
       "                                          19, 20, 21, 22, 23, 24, 25, 26, 27,\n",
       "                                          28, 29, 30, 31, 32, 33, 34, 35, 36,\n",
       "                                          37, 38, 39, ...]})"
      ]
     },
     "execution_count": 195,
     "metadata": {},
     "output_type": "execute_result"
    }
   ],
   "source": [
    "from sklearn.model_selection import GridSearchCV\n",
    "params = {'min_samples_split': list(range(2, 10)), 'max_depth': list(range(90, 100)), 'n_estimators': list(range(10, 50))}\n",
    "\n",
    "grid_search_cv = GridSearchCV(regressor, params, cv=3)\n",
    "grid_search_cv.fit(X_train, Y_train)"
   ]
  },
  {
   "cell_type": "code",
   "execution_count": 203,
   "id": "bf7a6e56",
   "metadata": {},
   "outputs": [
    {
     "data": {
      "text/plain": [
       "RandomForestRegressor(max_depth=90, n_estimators=31, random_state=601)"
      ]
     },
     "execution_count": 203,
     "metadata": {},
     "output_type": "execute_result"
    }
   ],
   "source": [
    "grid_search_cv.best_estimator_"
   ]
  },
  {
   "cell_type": "code",
   "execution_count": 11,
   "id": "a6444da1",
   "metadata": {},
   "outputs": [
    {
     "name": "stdout",
     "output_type": "stream",
     "text": [
      "R Squared:  0.8554524402174026\n"
     ]
    }
   ],
   "source": [
    "regressor3 = RandomForestRegressor(random_state = 601, n_estimators = 23, min_samples_split = 3, max_depth = 5)\n",
    "regressor3.fit(X_train, Y_train) #14, 5, 5\n",
    "print(\"R Squared: \", regressor3.score(X_test, Y_test))\n",
    "#23, 3, 5 = 0.8554524402174026"
   ]
  },
  {
   "cell_type": "markdown",
   "id": "12ad0160",
   "metadata": {},
   "source": [
    "# MyCODE"
   ]
  },
  {
   "cell_type": "code",
   "execution_count": 57,
   "id": "205b0eb9",
   "metadata": {},
   "outputs": [],
   "source": [
    "class forestRegression():\n",
    "\n",
    "    def __init__(self, numTrees = 31, minSample = 6, maxDepth = 90, random_state = 0):\n",
    "        self.numTrees = numTrees\n",
    "        self.minSamples = minSample\n",
    "        self.maxDepth = maxDepth\n",
    "        self.decisionTree = []\n",
    "        self.random_state = random_state\n",
    "        \n",
    "    # @staticmethod\n",
    "    def _sample(self, X, y, state):\n",
    "        sampleNumb, featuresNumb = X.shape\n",
    "        samples = np.random.RandomState(state).choice(a = sampleNumb, size = sampleNumb, replace = True)\n",
    "        # samples =rnd.choice(a = n_rows, size = n_rows, replace = True)\n",
    "        return X[samples], y[samples]\n",
    "        \n",
    "    def fit(self, X, y):\n",
    "        if len(self.decisionTree) > 0:\n",
    "            self.decisionTree= []\n",
    "        print(\"HELLO\")\n",
    "        num_built = 0\n",
    "        # while num_built < self.numTrees:\n",
    "        for i in range(self.numTrees):\n",
    "            print(\"NUMBER BUILT: \", num_built)\n",
    "            try:\n",
    "                clf = DTRegressor(minSamples = self.minSamples, maxDepth = self.maxDepth) ##try 3, then 1\n",
    "#                 print(\"GOT HEREE\")\n",
    "                inti = i\n",
    "                _X, _y = self._sample(X, y, self.random_state + i)\n",
    "                # _X, _y = resample(X, y, random_state = np.random.RandomState(self.random_state + i))\n",
    "            \n",
    "#                 print(\"sample X: \", _X)\n",
    "#                 print(\"sample y: \", _y)\n",
    "                clf.fit(_X, _y)\n",
    "#                 print(\"GOT HEREE 2\")\n",
    "                self.decisionTree.append(clf)\n",
    "#                 print(\"GOT HEREE 3\")\n",
    "                num_built += 1\n",
    "            except Exception as e:\n",
    "                print(\"ERROR: \", e)\n",
    "                continue\n",
    "    \n",
    "    def predict(self, X):\n",
    "        y = []\n",
    "        for tree in self.decisionTree:\n",
    "            y.append(tree.predict(X))\n",
    "        y = np.swapaxes(a = y, axis1 = 0, axis2 = 1) \n",
    "        predictions = []\n",
    "        for preds in y:\n",
    "            predictions.append(np.mean(preds))\n",
    "        return predictions"
   ]
  },
  {
   "cell_type": "code",
   "execution_count": null,
   "id": "a2cb1f7c",
   "metadata": {},
   "outputs": [],
   "source": [
    "def userInput():\n",
    "        chooseBrand = input(\"Choose your car brand: Audi, BMW, Ford, Hyundai, Mercedes, Skoda, Toyota, Vauxhall or Volkswagen \\n\")\n",
    "    \n",
    "        if chooseBrand == \"Audi\":\n",
    "            return \"UKUsedCarDataSet/audi.csv\"\n",
    "        elif chooseBrand == \"BMW\":\n",
    "            return \"UKUsedCarDataSet/bmw.csv\"\n",
    "        elif chooseBrand == \"Ford\":\n",
    "            return \"UKUsedCarDataSet/ford.csv\"\n",
    "        elif chooseBrand == \"Hyundai\":\n",
    "            return \"UKUsedCarDataSet/hyundi.csv\"\n",
    "        elif chooseBrand == \"Mercedes\":\n",
    "            return \"UKUsedCarDataSet/merc.csv\"\n",
    "        elif chooseBrand == \"Skoda\":\n",
    "            return \"UKUsedCarDataSet/skoda.csv\"\n",
    "        elif chooseBrand == \"Toyota\":\n",
    "            return \"UKUsedCarDataSet/toyota.csv\"\n",
    "        elif chooseBrand == \"Vauxhall\":\n",
    "            return \"UKUsedCarDataSet/vauxhall.csv\"\n",
    "        elif chooseBrand == \"Volkswagen\":\n",
    "            return \"UKUsedCarDataSet/vw.csv\"\n",
    "        else:\n",
    "            print(\"Invalid Car Brand\")\n",
    "            return\n",
    "        \n",
    "X_train, X_test, Y_train, Y_test = dataset(userInput())\n",
    "print(\"\\n ***Training Tree Model***\")\n",
    "myForest = forestRegression()  \n",
    "myForest.fit(X_train, Y_train)\n",
    "\n",
    "inputPred = []\n",
    "entries = []\n",
    "\n",
    "inputPred.append((modelEncoder.transform([input(\"\\nWhat Model is your car? \")]))[0])\n",
    "inputPred.append(int(input(\"What year is your car? \")))\n",
    "inputPred.append((transmissionEncoder.transform([input(\"What transmission is your car? \")]))[0])\n",
    "inputPred.append(int(input(\"How much mileage does your car have? \")))\n",
    "inputPred.append((fuelTypeEncoder.transform([input(\"What's your car fuel type? \")]))[0])\n",
    "inputPred.append(int(input(\"How much is your cars tax? \")))\n",
    "inputPred.append(float(input(\"What's MPG of your car? \")))\n",
    "inputPred.append(float(input(\"What the engine size of your car? \")))\n",
    "entries.append(inputPred)\n",
    "\n",
    "import time\n",
    "print(\"\\n ***Predicting***\")\n",
    "start = time.time()\n",
    "y_pred = myForest.predict([inputPred])\n",
    "# {0:.2f}'.format()\n",
    "print(\"\\n Predicted price for your car is: £\", y_pred[0])\n",
    "\n",
    "print(\"\\n ***Predicted in\", time.time() - start,\"seconds***\")\n",
    "\n",
    "# RS6,2016,Semi-Auto,49050,Petrol,325,29.4,4.0 -- Price is £44,985\n",
    "# BMW,5 Series,2019,Semi-Auto,4405,Petrol,145,48.7,2.0     Price = £26,000\n"
   ]
  },
  {
   "cell_type": "code",
   "execution_count": 53,
   "id": "9b2576d1",
   "metadata": {},
   "outputs": [],
   "source": [
    "def rmse(h, y):\n",
    "  return sqrt(mean_squared_error(h, y))"
   ]
  },
  {
   "cell_type": "code",
   "execution_count": 58,
   "id": "846eadb5",
   "metadata": {},
   "outputs": [
    {
     "name": "stdout",
     "output_type": "stream",
     "text": [
      "HELLO\n",
      "NUMBER BUILT:  0\n",
      "NUMBER BUILT:  1\n",
      "NUMBER BUILT:  2\n",
      "NUMBER BUILT:  3\n",
      "NUMBER BUILT:  4\n",
      "NUMBER BUILT:  5\n",
      "NUMBER BUILT:  6\n",
      "NUMBER BUILT:  7\n",
      "NUMBER BUILT:  8\n",
      "NUMBER BUILT:  9\n",
      "NUMBER BUILT:  10\n",
      "NUMBER BUILT:  11\n",
      "NUMBER BUILT:  12\n",
      "NUMBER BUILT:  13\n",
      "NUMBER BUILT:  14\n",
      "NUMBER BUILT:  15\n",
      "NUMBER BUILT:  16\n",
      "NUMBER BUILT:  17\n",
      "NUMBER BUILT:  18\n",
      "NUMBER BUILT:  19\n",
      "NUMBER BUILT:  20\n",
      "NUMBER BUILT:  21\n",
      "NUMBER BUILT:  22\n",
      "NUMBER BUILT:  23\n",
      "NUMBER BUILT:  24\n",
      "NUMBER BUILT:  25\n",
      "NUMBER BUILT:  26\n",
      "NUMBER BUILT:  27\n",
      "NUMBER BUILT:  28\n",
      "NUMBER BUILT:  29\n",
      "NUMBER BUILT:  30\n"
     ]
    }
   ],
   "source": [
    "myForest = forestRegression()  \n",
    "myForest.fit(X_train, Y_train)"
   ]
  },
  {
   "cell_type": "code",
   "execution_count": 59,
   "id": "40aa94a6",
   "metadata": {},
   "outputs": [
    {
     "name": "stdout",
     "output_type": "stream",
     "text": [
      "The RMSE value is: 2436.033694659025\n",
      "R VALUE: 0.8936075816009895\n"
     ]
    }
   ],
   "source": [
    "def evaluation(train, test, yTrain, yTest):    \n",
    "    y_pred = myForest.predict(test)\n",
    "    error = rmse(yTest, y_pred) \n",
    "    print('The RMSE value is:', error)\n",
    "    # for i in range(len(y_pred)):\n",
    "    #     print(\"\\nOriginal value:\", yTest[i], \"vs the predicted value:\", y_pred[i])\n",
    "    #     print(\"The difference is:\", yTest[i] - y_pred[i])\n",
    "\n",
    "\n",
    "    file2 = pd.read_csv(\"UKUsedCarDataSet/audi.csv\", quotechar='\"', skipinitialspace=True)\n",
    "    mean= np.mean(file2[\"price\"])\n",
    "\n",
    "    print(\"R VALUE:\", 1 - (error/mean))\n",
    "\n",
    "\n",
    "\n",
    "evaluation(X_train, X_test, Y_train, Y_test)\n",
    "\n",
    "#rmse with 1000: 5771.8260997248035 \n",
    "#rmse with 5000: 3414.0288745712533\n",
    "#rmse with resample None: 2431.746126478666\n",
    "#rmse with resample 601: 3414.0288745712533\n",
    "#rmse with for loop: 2436.033694659025\n",
    "#rmse using my method: 2436.033694659025\n"
   ]
  }
 ],
 "metadata": {
  "kernelspec": {
   "display_name": "Python 3 (ipykernel)",
   "language": "python",
   "name": "python3"
  },
  "language_info": {
   "codemirror_mode": {
    "name": "ipython",
    "version": 3
   },
   "file_extension": ".py",
   "mimetype": "text/x-python",
   "name": "python",
   "nbconvert_exporter": "python",
   "pygments_lexer": "ipython3",
   "version": "3.9.13"
  },
  "vscode": {
   "interpreter": {
    "hash": "f25d21d07d980f3bfa83b1b8e5d869424fcc71a3330182c8ba45597eb2457e05"
   }
  }
 },
 "nbformat": 4,
 "nbformat_minor": 5
}
