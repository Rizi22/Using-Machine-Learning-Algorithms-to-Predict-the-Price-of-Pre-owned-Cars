{
 "cells": [
  {
   "cell_type": "code",
   "execution_count": 36,
   "id": "329621ee",
   "metadata": {},
   "outputs": [],
   "source": [
    "import numpy as np \n",
    "import pandas as pd \n",
    "from sklearn.model_selection import train_test_split\n",
    "import matplotlib.pyplot as plt\n",
    "import numpy as np\n",
    "import matplotlib.pyplot as plt\n",
    "import pandas as pd\n",
    "from sklearn.model_selection import train_test_split\n",
    "import csv\n",
    "from sklearn.preprocessing import MinMaxScaler\n",
    "from math import sqrt\n",
    "from sklearn.metrics import mean_squared_error \n",
    "from sklearn.preprocessing import LabelEncoder\n",
    "from sklearn.tree import DecisionTreeRegressor\n",
    "from sklearn.ensemble import RandomForestRegressor\n",
    "from sklearn.metrics import mean_squared_error\n",
    "from sklearn.tree import plot_tree"
   ]
  },
  {
   "cell_type": "code",
   "execution_count": 37,
   "id": "9d783f01",
   "metadata": {
    "scrolled": true
   },
   "outputs": [],
   "source": [
    "class LinearRegression() :\n",
    "      \n",
    "    def __init__(self, learning_rate, iterations) :\n",
    "        self.learning_rate = learning_rate\n",
    "        self.iterations = iterations\n",
    "        \n",
    "              \n",
    "    def fit(self, X, Y) :\n",
    "        self.sampleNumb, self.featuresNumb = X.shape \n",
    "        self.weight = np.zeros(self.featuresNumb)  \n",
    "        self.bias = 0  \n",
    "        self.X = X \n",
    "        self.Y = Y\n",
    "                  \n",
    "        for i in range(self.iterations) :             \n",
    "            self.weights()             \n",
    "        return self\n",
    "      \n",
    "    def weights(self) :\n",
    "        Y_pred = self.predict(self.X)\n",
    "        weightGradient = - (2 * (self.X.T).dot(self.Y - Y_pred )) / self.sampleNumb\n",
    "        biasGradient = - 2 * np.sum(self.Y - Y_pred) / self.sampleNumb\n",
    "        self.weight = self.weight - self.learning_rate * weightGradient\n",
    "        self.bias = self.bias - self.learning_rate * biasGradient\n",
    "        return self\n",
    "      \n",
    "    def predict(self, X) :\n",
    "        return X.dot(self.weight) + self.bias"
   ]
  },
  {
   "cell_type": "code",
   "execution_count": 44,
   "id": "4c84c786",
   "metadata": {},
   "outputs": [],
   "source": [
    "modelEncoder = LabelEncoder()\n",
    "transmissionEncoder = LabelEncoder()\n",
    "fuelTypeEncoder = LabelEncoder()\n",
    "scaler = MinMaxScaler()\n",
    "\n",
    "def dataset(brand):\n",
    "    file = pd.read_csv(brand, quotechar='\"', skipinitialspace=True)\n",
    "\n",
    "    for i in ['year']:\n",
    "        q75,q25 = np.percentile(file.loc[:,i],[75,25])\n",
    "        IQR = q75-q25\n",
    "    \n",
    "        max = q75+(1.5*IQR)\n",
    "        min = q25-(1.5*IQR)\n",
    "    \n",
    "        file.loc[file[i] < min, i] = np.nan\n",
    "        file.loc[file[i] > max, i] = np.nan\n",
    "\n",
    "    file = file.dropna(axis = 0)\n",
    "\n",
    "    modelEncoder.fit(file[\"model\"])\n",
    "    file[\"model\"] = modelEncoder.transform(file[\"model\"])\n",
    "    \n",
    "    transmissionEncoder.fit(file[\"transmission\"])\n",
    "    file[\"transmission\"] = transmissionEncoder.transform(file[\"transmission\"])\n",
    "    \n",
    "    fuelTypeEncoder.fit(file[\"fuelType\"])\n",
    "    file[\"fuelType\"] = fuelTypeEncoder.transform(file[\"fuelType\"])\n",
    "\n",
    "    file = file.head(5000) # Limits dataset size\n",
    "\n",
    "    X = file.drop(columns = ['price'])\n",
    "    Y = file.price\n",
    "    \n",
    "    X_train, X_test, Y_train, Y_test = train_test_split(X, Y, random_state = 601)\n",
    "    \n",
    "    scaler.fit(X_train)\n",
    "\n",
    "    X_train = scaler.transform(X_train)\n",
    "    X_test = scaler.transform(X_test)\n",
    "    \n",
    "    # print(list(fuelTypeEncoder.classes_))\n",
    "    print(X_test.size)\n",
    "\n",
    "    return  X_train, X_test, Y_train, Y_test"
   ]
  },
  {
   "cell_type": "code",
   "execution_count": 39,
   "id": "ecb215db",
   "metadata": {},
   "outputs": [
    {
     "name": "stdout",
     "output_type": "stream",
     "text": [
      "21000\n"
     ]
    }
   ],
   "source": [
    "X_train, X_test, Y_train, Y_test = dataset(\"UKUsedCarDataSet/audi.csv\") # Use Audi dataset as default for KNN analysis"
   ]
  },
  {
   "cell_type": "code",
   "execution_count": 40,
   "id": "b02054fe",
   "metadata": {},
   "outputs": [
    {
     "name": "stdout",
     "output_type": "stream",
     "text": [
      "Predicted values  [38544.4  27504.71 20213.99 ... 18830.9  39170.37 21996.36]\n",
      "Real values       4925     125000\n",
      "2696      22420\n",
      "10638     18491\n",
      "2997      23671\n",
      "7269      27490\n",
      "          ...  \n",
      "3686      16499\n",
      "2594      16310\n",
      "900       15995\n",
      "2364      69995\n",
      "7534      17444\n",
      "Name: price, Length: 2625, dtype: int64\n"
     ]
    }
   ],
   "source": [
    "model = LinearRegression( iterations = 1000, learning_rate = 0.01 )\n",
    "\n",
    "model.fit( X_train, Y_train )\n",
    "Y_pred = model.predict( X_test )\n",
    "\n",
    "print( \"Predicted values \", np.round( Y_pred, 2 ) ) \n",
    "print( \"Real values      \", Y_test )\n",
    "# print( \"Trained W        \", round( model.weight[0], 2 ) )\n",
    "# print( \"Trained b        \", round( model.b, 2 ) )\n",
    "\n",
    "# Visualization on test set \n",
    "\n",
    "# plt.scatter( X_test, Y_test, color = 'blue' )\n",
    "# plt.plot( X_test, Y_pred, color = 'orange' )\n",
    "# plt.title( 'Salary vs Experience' )\n",
    "# plt.xlabel( 'Years of Experience' )\n",
    "# plt.ylabel( 'Salary' )\n",
    "\n",
    "# plt.show()"
   ]
  },
  {
   "cell_type": "code",
   "execution_count": 41,
   "id": "5b010e4f",
   "metadata": {},
   "outputs": [],
   "source": [
    "def rmse(test, pred):\n",
    "    MSE = np.square(np.subtract(test, pred)).mean()\n",
    "    return sqrt(MSE)"
   ]
  },
  {
   "cell_type": "code",
   "execution_count": 42,
   "id": "f244a04c",
   "metadata": {},
   "outputs": [
    {
     "name": "stdout",
     "output_type": "stream",
     "text": [
      "The RMSE value is: 6988.155962393423\n",
      "R VALUE: 0.6947961702588159\n"
     ]
    }
   ],
   "source": [
    "def evaluation(train, test, yTrain, yTest):    \n",
    "    y_pred =  model.predict(test)\n",
    "    error = rmse(yTest, y_pred) \n",
    "    print('The RMSE value is:', error)\n",
    "    # for i in range(len(y_pred)):\n",
    "    #     print(\"\\nOriginal value:\", yTest.iloc[i], \"vs the predicted value:\", y_pred[i])\n",
    "    #     print(\"The difference is:\", yTest.iloc[i] - y_pred[i])\n",
    "\n",
    "    file2 = pd.read_csv(\"UKUsedCarDataSet/audi.csv\", quotechar='\"', skipinitialspace=True)\n",
    "    mean= np.mean(file2[\"price\"])\n",
    "\n",
    "    print(\"R VALUE:\", 1 - (error/mean))\n",
    "    \n",
    "evaluation(X_train, X_test, Y_train, Y_test)\n",
    "\n",
    "#rmse: 5125.277827632167\n",
    "#rmse with 5000: 7038.9346097461\n",
    "#rmse without outliers: 7037.810592242798"
   ]
  },
  {
   "cell_type": "code",
   "execution_count": 43,
   "id": "2ef72720",
   "metadata": {},
   "outputs": [
    {
     "ename": "IndexError",
     "evalue": "only integers, slices (`:`), ellipsis (`...`), numpy.newaxis (`None`) and integer or boolean arrays are valid indices",
     "output_type": "error",
     "traceback": [
      "\u001b[1;31m---------------------------------------------------------------------------\u001b[0m",
      "\u001b[1;31mIndexError\u001b[0m                                Traceback (most recent call last)",
      "\u001b[1;32mc:\\Users\\rb22\\Documents\\Rizwan\\Uni\\Year 3\\FYP\\PROJECT\\LinearRegression.ipynb Cell 8\u001b[0m in \u001b[0;36m<module>\u001b[1;34m\u001b[0m\n\u001b[0;32m      <a href='vscode-notebook-cell:/c%3A/Users/rb22/Documents/Rizwan/Uni/Year%203/FYP/PROJECT/LinearRegression.ipynb#X22sZmlsZQ%3D%3D?line=0'>1</a>\u001b[0m \u001b[39m# plt.scatter( X_train, Y_train, color = 'blue' )\u001b[39;00m\n\u001b[0;32m      <a href='vscode-notebook-cell:/c%3A/Users/rb22/Documents/Rizwan/Uni/Year%203/FYP/PROJECT/LinearRegression.ipynb#X22sZmlsZQ%3D%3D?line=1'>2</a>\u001b[0m \u001b[39m# print(X_test)\u001b[39;00m\n\u001b[1;32m----> <a href='vscode-notebook-cell:/c%3A/Users/rb22/Documents/Rizwan/Uni/Year%203/FYP/PROJECT/LinearRegression.ipynb#X22sZmlsZQ%3D%3D?line=3'>4</a>\u001b[0m plt\u001b[39m.\u001b[39mplot( X_test[\u001b[39m'\u001b[39;49m\u001b[39myear\u001b[39;49m\u001b[39m'\u001b[39;49m], Y_pred, color \u001b[39m=\u001b[39m \u001b[39m'\u001b[39m\u001b[39morange\u001b[39m\u001b[39m'\u001b[39m )\n\u001b[0;32m      <a href='vscode-notebook-cell:/c%3A/Users/rb22/Documents/Rizwan/Uni/Year%203/FYP/PROJECT/LinearRegression.ipynb#X22sZmlsZQ%3D%3D?line=4'>5</a>\u001b[0m plt\u001b[39m.\u001b[39mtitle( \u001b[39m'\u001b[39m\u001b[39mtest\u001b[39m\u001b[39m'\u001b[39m )\n\u001b[0;32m      <a href='vscode-notebook-cell:/c%3A/Users/rb22/Documents/Rizwan/Uni/Year%203/FYP/PROJECT/LinearRegression.ipynb#X22sZmlsZQ%3D%3D?line=5'>6</a>\u001b[0m plt\u001b[39m.\u001b[39mxlabel( \u001b[39m'\u001b[39m\u001b[39mYears\u001b[39m\u001b[39m'\u001b[39m )\n",
      "\u001b[1;31mIndexError\u001b[0m: only integers, slices (`:`), ellipsis (`...`), numpy.newaxis (`None`) and integer or boolean arrays are valid indices"
     ]
    }
   ],
   "source": [
    "# plt.scatter( X_train, Y_train, color = 'blue' )\n",
    "# print(X_test)\n",
    "      \n",
    "plt.plot( X_test['year'], Y_pred, color = 'orange' )\n",
    "plt.title( 'test' )\n",
    "plt.xlabel( 'Years' )\n",
    "plt.ylabel( 'Price' )\n",
    "    \n",
    "plt.show()"
   ]
  },
  {
   "cell_type": "code",
   "execution_count": null,
   "id": "31bf5b5d",
   "metadata": {},
   "outputs": [],
   "source": [
    "# import plotly.express as px\n",
    "# import plotly.graph_objects as go\n",
    "\n",
    "# fig = px.scatter(test, x='total_bill', y='tip', opacity=0.65)\n",
    "# fig.add_traces(go.Scatter(x=x_range, y=y_range, name='Regression Fit'))\n",
    "# fig.show()"
   ]
  }
 ],
 "metadata": {
  "kernelspec": {
   "display_name": "Python 3",
   "language": "python",
   "name": "python3"
  },
  "language_info": {
   "codemirror_mode": {
    "name": "ipython",
    "version": 3
   },
   "file_extension": ".py",
   "mimetype": "text/x-python",
   "name": "python",
   "nbconvert_exporter": "python",
   "pygments_lexer": "ipython3",
   "version": "3.10.2"
  },
  "vscode": {
   "interpreter": {
    "hash": "f25d21d07d980f3bfa83b1b8e5d869424fcc71a3330182c8ba45597eb2457e05"
   }
  }
 },
 "nbformat": 4,
 "nbformat_minor": 5
}
